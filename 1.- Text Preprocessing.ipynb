{
 "cells": [
  {
   "cell_type": "markdown",
   "metadata": {},
   "source": [
    "<img src=\"images/prepro.jpg\" width=\"800\">"
   ]
  },
  {
   "cell_type": "markdown",
   "metadata": {
    "toc": true
   },
   "source": [
    "<h1>Table of Contents<span class=\"tocSkip\"></span></h1>\n",
    "<div class=\"toc\"><ul class=\"toc-item\"><li><span><a href=\"#Text-gathering\" data-toc-modified-id=\"Text-gathering-1\"><span class=\"toc-item-num\">1&nbsp;&nbsp;</span>Text gathering</a></span><ul class=\"toc-item\"><li><span><a href=\"#Imports\" data-toc-modified-id=\"Imports-1.1\"><span class=\"toc-item-num\">1.1&nbsp;&nbsp;</span>Imports</a></span></li><li><span><a href=\"#Web-Scrapping\" data-toc-modified-id=\"Web-Scrapping-1.2\"><span class=\"toc-item-num\">1.2&nbsp;&nbsp;</span>Web Scrapping</a></span></li><li><span><a href=\"#Wikipedia-library\" data-toc-modified-id=\"Wikipedia-library-1.3\"><span class=\"toc-item-num\">1.3&nbsp;&nbsp;</span>Wikipedia library</a></span></li><li><span><a href=\"#Data-visualization\" data-toc-modified-id=\"Data-visualization-1.4\"><span class=\"toc-item-num\">1.4&nbsp;&nbsp;</span>Data visualization</a></span></li></ul></li><li><span><a href=\"#Text-preprocessing\" data-toc-modified-id=\"Text-preprocessing-2\"><span class=\"toc-item-num\">2&nbsp;&nbsp;</span>Text preprocessing</a></span><ul class=\"toc-item\"><li><span><a href=\"#Normalizing-the-data\" data-toc-modified-id=\"Normalizing-the-data-2.1\"><span class=\"toc-item-num\">2.1&nbsp;&nbsp;</span>Normalizing the data</a></span><ul class=\"toc-item\"><li><span><a href=\"#Lowercase\" data-toc-modified-id=\"Lowercase-2.1.1\"><span class=\"toc-item-num\">2.1.1&nbsp;&nbsp;</span>Lowercase</a></span></li><li><span><a href=\"#Removing-selected-characters\" data-toc-modified-id=\"Removing-selected-characters-2.1.2\"><span class=\"toc-item-num\">2.1.2&nbsp;&nbsp;</span>Removing selected characters</a></span></li></ul></li><li><span><a href=\"#Tokenizing\" data-toc-modified-id=\"Tokenizing-2.2\"><span class=\"toc-item-num\">2.2&nbsp;&nbsp;</span>Tokenizing</a></span></li><li><span><a href=\"#Remove-Stop-Words\" data-toc-modified-id=\"Remove-Stop-Words-2.3\"><span class=\"toc-item-num\">2.3&nbsp;&nbsp;</span>Remove Stop Words</a></span></li><li><span><a href=\"#Lemmatizing\" data-toc-modified-id=\"Lemmatizing-2.4\"><span class=\"toc-item-num\">2.4&nbsp;&nbsp;</span>Lemmatizing</a></span></li><li><span><a href=\"#Stemming\" data-toc-modified-id=\"Stemming-2.5\"><span class=\"toc-item-num\">2.5&nbsp;&nbsp;</span>Stemming</a></span></li><li><span><a href=\"#All-together\" data-toc-modified-id=\"All-together-2.6\"><span class=\"toc-item-num\">2.6&nbsp;&nbsp;</span>All together</a></span></li><li><span><a href=\"#Analyze\" data-toc-modified-id=\"Analyze-2.7\"><span class=\"toc-item-num\">2.7&nbsp;&nbsp;</span>Analyze</a></span></li></ul></li><li><span><a href=\"#Information-Extraction\" data-toc-modified-id=\"Information-Extraction-3\"><span class=\"toc-item-num\">3&nbsp;&nbsp;</span>Information Extraction</a></span><ul class=\"toc-item\"><li><span><a href=\"#Part-of-Speech-tagging-(POS)\" data-toc-modified-id=\"Part-of-Speech-tagging-(POS)-3.1\"><span class=\"toc-item-num\">3.1&nbsp;&nbsp;</span>Part of Speech tagging (POS)</a></span></li><li><span><a href=\"#Chunking\" data-toc-modified-id=\"Chunking-3.2\"><span class=\"toc-item-num\">3.2&nbsp;&nbsp;</span>Chunking</a></span></li><li><span><a href=\"#Name-Entity-Recognition\" data-toc-modified-id=\"Name-Entity-Recognition-3.3\"><span class=\"toc-item-num\">3.3&nbsp;&nbsp;</span>Name Entity Recognition</a></span></li><li><span><a href=\"#Using-spacy-for-different-tasks\" data-toc-modified-id=\"Using-spacy-for-different-tasks-3.4\"><span class=\"toc-item-num\">3.4&nbsp;&nbsp;</span>Using spacy for different tasks</a></span></li></ul></li><li><span><a href=\"#Text-Representation\" data-toc-modified-id=\"Text-Representation-4\"><span class=\"toc-item-num\">4&nbsp;&nbsp;</span>Text Representation</a></span><ul class=\"toc-item\"><li><span><a href=\"#Count-vectorizer\" data-toc-modified-id=\"Count-vectorizer-4.1\"><span class=\"toc-item-num\">4.1&nbsp;&nbsp;</span>Count vectorizer</a></span></li></ul></li></ul></div>"
   ]
  },
  {
   "cell_type": "markdown",
   "metadata": {},
   "source": [
    "# Text gathering"
   ]
  },
  {
   "cell_type": "markdown",
   "metadata": {},
   "source": [
    "## Imports"
   ]
  },
  {
   "cell_type": "code",
   "execution_count": 2,
   "metadata": {},
   "outputs": [],
   "source": [
    "import pandas as pd\n",
    "pd.set_option('max_colwidth',500)\n",
    "\n",
    "%matplotlib inline\n",
    "import matplotlib.pyplot as plt\n",
    "plt.rcParams['figure.figsize'] = [16, 6]\n",
    "\n",
    "# web scrapping\n",
    "from bs4 import BeautifulSoup\n",
    "import requests\n",
    "\n",
    "# Terminal / Anaconda Prompt: pip install wikipedia\n",
    "import wikipedia\n",
    "\n",
    "# WordClouds\n",
    "# Terminal / Anaconda Prompt: pip install wordcloud\n",
    "from wordcloud import WordCloud\n",
    "from nltk.corpus import stopwords\n"
   ]
  },
  {
   "cell_type": "markdown",
   "metadata": {},
   "source": [
    "## Web Scrapping\n",
    " Download content from any website"
   ]
  },
  {
   "cell_type": "code",
   "execution_count": 3,
   "metadata": {},
   "outputs": [],
   "source": [
    "names = []\n",
    "# Scrapes transcript data from wikipedia.com\n",
    "def url_to_transcript(url):\n",
    "    '''Returns transcript data specifically from wikipedia'''\n",
    "    page = requests.get(url).text\n",
    "    soup = BeautifulSoup(page, \"lxml\")\n",
    "    text = [p.text for p in soup.find(class_=\"mw-parser-output\").find_all('p')]\n",
    "    text = ' '.join(text)\n",
    "    print(url, 'article successfully transcripted')\n",
    "    names.append(url)\n",
    "    return text"
   ]
  },
  {
   "cell_type": "code",
   "execution_count": 4,
   "metadata": {},
   "outputs": [],
   "source": [
    "# Write down the websites to download\n",
    "urls = ['https://en.wikipedia.org/wiki/Chess', \n",
    "        'https://en.wikipedia.org/wiki/Go_(game)']"
   ]
  },
  {
   "cell_type": "code",
   "execution_count": 5,
   "metadata": {},
   "outputs": [
    {
     "name": "stdout",
     "output_type": "stream",
     "text": [
      "https://en.wikipedia.org/wiki/Chess article successfully transcripted\n",
      "https://en.wikipedia.org/wiki/Go_(game) article successfully transcripted\n"
     ]
    }
   ],
   "source": [
    "# Download the page content\n",
    "transcripts = [url_to_transcript(u) for u in urls]"
   ]
  },
  {
   "cell_type": "code",
   "execution_count": 6,
   "metadata": {},
   "outputs": [
    {
     "data": {
      "text/html": [
       "<div>\n",
       "<style scoped>\n",
       "    .dataframe tbody tr th:only-of-type {\n",
       "        vertical-align: middle;\n",
       "    }\n",
       "\n",
       "    .dataframe tbody tr th {\n",
       "        vertical-align: top;\n",
       "    }\n",
       "\n",
       "    .dataframe thead th {\n",
       "        text-align: right;\n",
       "    }\n",
       "</style>\n",
       "<table border=\"1\" class=\"dataframe\">\n",
       "  <thead>\n",
       "    <tr style=\"text-align: right;\">\n",
       "      <th></th>\n",
       "      <th>transcript</th>\n",
       "    </tr>\n",
       "  </thead>\n",
       "  <tbody>\n",
       "    <tr>\n",
       "      <td>https://en.wikipedia.org/wiki/Chess</td>\n",
       "      <td>\\n \\n Chess is a two-player strategy board game played on a checkered board with 64 squares arranged in an 8×8 grid.[1] The game is played by millions of people worldwide. Chess is believed to be derived from the Indian game chaturanga sometime before the 7th century. Chaturanga is also the likely ancestor of the Eastern strategy games xiangqi (Chinese chess), janggi (Korean chess), and shogi (Japanese chess). Chess reached Europe by the 9th century, due to the Umayyad conquest of Hispania. ...</td>\n",
       "    </tr>\n",
       "    <tr>\n",
       "      <td>https://en.wikipedia.org/wiki/Go_(game)</td>\n",
       "      <td>Go is an abstract strategy board game for two players, in which the aim is to surround more territory than the opponent. The game was invented in China more than 2,500 years ago and is believed to be the oldest board game continuously played to the present day.[1][2] \\nA 2016 survey by the International Go Federation's 75 member nations found that there are over 46 million people worldwide who know how to play Go and over 20 million current players, the majority of whom live in East Asia.[3]...</td>\n",
       "    </tr>\n",
       "  </tbody>\n",
       "</table>\n",
       "</div>"
      ],
      "text/plain": [
       "                                                                                                                                                                                                                                                                                                                                                                                                                                                                                                                                                  transcript\n",
       "https://en.wikipedia.org/wiki/Chess      \\n \\n Chess is a two-player strategy board game played on a checkered board with 64 squares arranged in an 8×8 grid.[1] The game is played by millions of people worldwide. Chess is believed to be derived from the Indian game chaturanga sometime before the 7th century. Chaturanga is also the likely ancestor of the Eastern strategy games xiangqi (Chinese chess), janggi (Korean chess), and shogi (Japanese chess). Chess reached Europe by the 9th century, due to the Umayyad conquest of Hispania. ...\n",
       "https://en.wikipedia.org/wiki/Go_(game)  Go is an abstract strategy board game for two players, in which the aim is to surround more territory than the opponent. The game was invented in China more than 2,500 years ago and is believed to be the oldest board game continuously played to the present day.[1][2] \\nA 2016 survey by the International Go Federation's 75 member nations found that there are over 46 million people worldwide who know how to play Go and over 20 million current players, the majority of whom live in East Asia.[3]..."
      ]
     },
     "execution_count": 6,
     "metadata": {},
     "output_type": "execute_result"
    }
   ],
   "source": [
    "df = pd.DataFrame(transcripts, index = [names], columns = ['transcript'] )\n",
    "df"
   ]
  },
  {
   "cell_type": "markdown",
   "metadata": {},
   "source": [
    "## Wikipedia library\n",
    "Specific python package for downloading Wikipedia content"
   ]
  },
  {
   "cell_type": "code",
   "execution_count": 7,
   "metadata": {},
   "outputs": [],
   "source": [
    "chessWikiName = wikipedia.search('Chess')[0]\n",
    "goWikiName = wikipedia.search('go game')[0]"
   ]
  },
  {
   "cell_type": "code",
   "execution_count": 8,
   "metadata": {},
   "outputs": [
    {
     "data": {
      "text/plain": [
       "'Go (game)'"
      ]
     },
     "execution_count": 8,
     "metadata": {},
     "output_type": "execute_result"
    }
   ],
   "source": [
    "goWikiName"
   ]
  },
  {
   "cell_type": "code",
   "execution_count": 9,
   "metadata": {},
   "outputs": [],
   "source": [
    "chess_page = wikipedia.page(chessWikiName)\n",
    "content_chess = chess_page.content\n",
    "\n",
    "go_page = wikipedia.page(goWikiName)\n",
    "content_go = go_page.content"
   ]
  },
  {
   "cell_type": "code",
   "execution_count": 10,
   "metadata": {
    "scrolled": true
   },
   "outputs": [
    {
     "data": {
      "text/html": [
       "<div>\n",
       "<style scoped>\n",
       "    .dataframe tbody tr th:only-of-type {\n",
       "        vertical-align: middle;\n",
       "    }\n",
       "\n",
       "    .dataframe tbody tr th {\n",
       "        vertical-align: top;\n",
       "    }\n",
       "\n",
       "    .dataframe thead th {\n",
       "        text-align: right;\n",
       "    }\n",
       "</style>\n",
       "<table border=\"1\" class=\"dataframe\">\n",
       "  <thead>\n",
       "    <tr style=\"text-align: right;\">\n",
       "      <th></th>\n",
       "      <th>Chess</th>\n",
       "      <th>Go (game)</th>\n",
       "    </tr>\n",
       "  </thead>\n",
       "  <tbody>\n",
       "    <tr>\n",
       "      <td>transcript</td>\n",
       "      <td>Chess is a two-player strategy board game played on a checkered board with 64 squares arranged in an 8×8 grid. The game is played by millions of people worldwide. Chess is believed to be derived from the Indian game chaturanga sometime before the 7th century. Chaturanga is also the likely ancestor of the Eastern strategy games xiangqi (Chinese chess), janggi (Korean chess), and shogi (Japanese chess). Chess reached Europe by the 9th century, due to the Umayyad conquest of Hispania. The piece...</td>\n",
       "      <td>Go is an abstract strategy board game for two players, in which the aim is to surround more territory than the opponent. The game was invented in China more than 2,500 years ago and is believed to be the oldest board game continuously played to the present day. \\nA 2016 survey by the International Go Federation's 75 member nations found that there are over 46 million people worldwide who know how to play Go and over 20 million current players, the majority of whom live in East Asia.The playi...</td>\n",
       "    </tr>\n",
       "  </tbody>\n",
       "</table>\n",
       "</div>"
      ],
      "text/plain": [
       "                                                                                                                                                                                                                                                                                                                                                                                                                                                                                                                          Chess  \\\n",
       "transcript  Chess is a two-player strategy board game played on a checkered board with 64 squares arranged in an 8×8 grid. The game is played by millions of people worldwide. Chess is believed to be derived from the Indian game chaturanga sometime before the 7th century. Chaturanga is also the likely ancestor of the Eastern strategy games xiangqi (Chinese chess), janggi (Korean chess), and shogi (Japanese chess). Chess reached Europe by the 9th century, due to the Umayyad conquest of Hispania. The piece...   \n",
       "\n",
       "                                                                                                                                                                                                                                                                                                                                                                                                                                                                                                                      Go (game)  \n",
       "transcript  Go is an abstract strategy board game for two players, in which the aim is to surround more territory than the opponent. The game was invented in China more than 2,500 years ago and is believed to be the oldest board game continuously played to the present day. \\nA 2016 survey by the International Go Federation's 75 member nations found that there are over 46 million people worldwide who know how to play Go and over 20 million current players, the majority of whom live in East Asia.The playi...  "
      ]
     },
     "execution_count": 10,
     "metadata": {},
     "output_type": "execute_result"
    }
   ],
   "source": [
    "df = pd.DataFrame(data=[content_chess, content_go], index=[chessWikiName, goWikiName], columns=['transcript'])\n",
    "df.T"
   ]
  },
  {
   "cell_type": "markdown",
   "metadata": {},
   "source": [
    "## Data visualization\n",
    "Visualizing the data is the first step to analyze the text you'll be using!"
   ]
  },
  {
   "cell_type": "code",
   "execution_count": 11,
   "metadata": {},
   "outputs": [],
   "source": [
    "# Let's make some word clouds!\n",
    "\n",
    "# We will upload the stop_words to don't use them in the wordcloud\n",
    "stop_words = set(stopwords.words('english'))\n",
    "\n",
    "wc = WordCloud(stopwords=stop_words, background_color=\"white\", colormap=\"Dark2\",\n",
    "               max_font_size=150, random_state=42)\n"
   ]
  },
  {
   "cell_type": "code",
   "execution_count": null,
   "metadata": {},
   "outputs": [],
   "source": [
    "articles = ['Chees', 'Go']\n",
    "\n",
    "# Create subplots for each article\n",
    "for index, article in enumerate(df.T):\n",
    "    wc.generate(df.transcript[article])\n",
    "    \n",
    "    plt.subplot(1, 2, index+1)\n",
    "    plt.imshow(wc, interpolation=\"bilinear\")\n",
    "    plt.axis(\"off\")\n",
    "    plt.title(articles[index])\n",
    "\n",
    "plt.show()"
   ]
  },
  {
   "cell_type": "markdown",
   "metadata": {},
   "source": [
    "# Text preprocessing"
   ]
  },
  {
   "cell_type": "code",
   "execution_count": 13,
   "metadata": {},
   "outputs": [],
   "source": [
    "import re\n",
    "import string\n",
    "\n",
    "import nltk\n",
    "from nltk.corpus import stopwords\n",
    "from nltk.tokenize import sent_tokenize, word_tokenize\n",
    "from nltk.stem.snowball import SnowballStemmer\n",
    "\n",
    "# Download all the packages\n",
    "#nltk.download()"
   ]
  },
  {
   "cell_type": "code",
   "execution_count": 14,
   "metadata": {
    "scrolled": true
   },
   "outputs": [],
   "source": [
    "#!pip install spacy\n",
    "import spacy\n",
    "# Run the following code to install the en_core_web_sm library\n",
    "#!python -m spacy download en_core_web_sm\n",
    "spacy_nlp = spacy.load('en_core_web_sm')"
   ]
  },
  {
   "cell_type": "code",
   "execution_count": 15,
   "metadata": {},
   "outputs": [],
   "source": [
    "text = \"\\n\\nChess is a two-player strategy board game played on a checkered board with 64 squares arranged in an 8×8 grid.[1]\""
   ]
  },
  {
   "cell_type": "markdown",
   "metadata": {},
   "source": [
    "## Normalizing the data\n"
   ]
  },
  {
   "cell_type": "markdown",
   "metadata": {},
   "source": [
    "### Lowercase"
   ]
  },
  {
   "cell_type": "code",
   "execution_count": 16,
   "metadata": {},
   "outputs": [
    {
     "data": {
      "text/plain": [
       "'\\n\\nchess is a two-player strategy board game played on a checkered board with 64 squares arranged in an 8×8 grid.[1]'"
      ]
     },
     "execution_count": 16,
     "metadata": {},
     "output_type": "execute_result"
    }
   ],
   "source": [
    "text = text.lower()\n",
    "text"
   ]
  },
  {
   "cell_type": "markdown",
   "metadata": {},
   "source": [
    "### Removing selected characters\n",
    "Normally applying regular expressions (testing page: https://regexr.com/)"
   ]
  },
  {
   "cell_type": "code",
   "execution_count": 17,
   "metadata": {},
   "outputs": [
    {
     "name": "stdout",
     "output_type": "stream",
     "text": [
      "Punctuation to erase: !\"\\#\\$%\\&'\\(\\)\\*\\+,\\-\\./:;<=>\\?@\\[\\\\\\]\\^_`\\{\\|\\}\\~\n",
      "\n",
      "Text without punctuation:\n",
      "\t \n",
      "\n",
      "chess is a two player strategy board game played on a checkered board with 64 squares arranged in an 8×8 grid  1 \n",
      "\n",
      "Text without numbers:\n",
      "\t \n",
      "\n",
      "chess is a two player strategy board game played on a checkered board with  squares arranged in an × grid   \n",
      "\n",
      "Text without returns:\n",
      "\t chess is a two player strategy board game played on a checkered board with  squares arranged in an × grid   \n"
     ]
    }
   ],
   "source": [
    "print(\"Punctuation to erase:\", re.escape(string.punctuation))\n",
    "\n",
    "# Remove punctuation\n",
    "text = re.sub('[%s]' % re.escape(string.punctuation), ' ', text)\n",
    "print(\"\\nText without punctuation:\\n\\t\",text)\n",
    "\n",
    "# Remove numbers\n",
    "text = re.sub('\\d*', '', text)\n",
    "#text = re.sub('\\w*\\d\\w*', '', text)\n",
    "print(\"\\nText without numbers:\\n\\t\",text)\n",
    "\n",
    "# Remove returns\n",
    "text = re.sub('\\n', '', text)\n",
    "print(\"\\nText without returns:\\n\\t\",text)"
   ]
  },
  {
   "cell_type": "markdown",
   "metadata": {},
   "source": [
    "## Tokenizing"
   ]
  },
  {
   "cell_type": "code",
   "execution_count": 18,
   "metadata": {},
   "outputs": [
    {
     "name": "stdout",
     "output_type": "stream",
     "text": [
      "['chess', 'is', 'a', 'two', 'player', 'strategy', 'board', 'game', 'played', 'on', 'a', 'checkered', 'board', 'with', 'squares', 'arranged', 'in', 'an', '×', 'grid']\n"
     ]
    }
   ],
   "source": [
    "tokenized_text = word_tokenize(text)\n",
    "print(tokenized_text)"
   ]
  },
  {
   "cell_type": "markdown",
   "metadata": {},
   "source": [
    "## Remove Stop Words"
   ]
  },
  {
   "cell_type": "code",
   "execution_count": 19,
   "metadata": {
    "scrolled": true
   },
   "outputs": [
    {
     "name": "stdout",
     "output_type": "stream",
     "text": [
      "{'me', 'at', \"hasn't\", 'wouldn', \"that'll\", \"needn't\", 'when', 'myself', 'theirs', 'we', 'hadn', 'by', 'he', 'are', 'had', 'shan', 'were', 'below', 'now', \"isn't\", \"shouldn't\", 'which', 'during', 'does', 'no', 'hers', 'ain', \"you're\", \"weren't\", 'so', 'do', 'his', 'where', 't', 'our', 'mightn', 'of', 'its', \"don't\", 'i', 're', 'didn', 'weren', \"doesn't\", 'to', 'if', 'each', 'other', 'such', 'o', 'again', 'too', 'in', \"wasn't\", 'aren', \"it's\", 'these', 'did', 'm', 'wasn', 'don', 'between', 'until', 'but', 'this', 'only', 'own', 've', 'those', 'before', 'needn', \"shan't\", 'was', 'about', 'she', 'am', 'some', 'because', 'just', 'couldn', 'how', 'herself', 'been', 'mustn', 'won', 'why', 'is', 'itself', 'both', 'my', 'here', 'few', 'after', 'any', 'as', \"mightn't\", 'yourselves', 'above', 'more', 'can', \"you've\", \"should've\", \"wouldn't\", 'further', 'ours', 'll', 'their', 'while', 'who', 'd', 'shouldn', 'doesn', 'it', 'have', 'or', 'off', 'what', 'isn', 'haven', 'out', 'on', 'will', \"couldn't\", \"she's\", 'and', 'ourselves', 'should', 'himself', 'most', 'them', 'once', 'the', \"aren't\", 'that', 'then', 'over', 'not', \"hadn't\", 'under', 'having', 'same', 'ma', 'down', 'whom', 'y', 'themselves', 'you', 'nor', 'yours', \"haven't\", \"you'd\", 'an', 's', 'her', 'than', 'being', 'your', 'there', 'against', 'from', 'a', 'through', 'with', \"mustn't\", 'doing', 'him', \"won't\", 'into', \"you'll\", 'yourself', 'they', \"didn't\", 'has', 'for', 'all', 'very', 'up', 'be', 'hasn'}\n"
     ]
    }
   ],
   "source": [
    "stop_words = set(stopwords.words('english')) \n",
    "print(stop_words)"
   ]
  },
  {
   "cell_type": "code",
   "execution_count": 20,
   "metadata": {},
   "outputs": [
    {
     "name": "stdout",
     "output_type": "stream",
     "text": [
      "['chess', 'two', 'player', 'strategy', 'board', 'game', 'played', 'checkered', 'board', 'squares', 'arranged', '×', 'grid']\n"
     ]
    },
    {
     "data": {
      "text/plain": [
       "{'a', 'an', 'in', 'is', 'on', 'with'}"
      ]
     },
     "execution_count": 20,
     "metadata": {},
     "output_type": "execute_result"
    }
   ],
   "source": [
    "# Erase the stop words from the tokenized text\n",
    "stopped_text = [w for w in tokenized_text if not w in stop_words]\n",
    "\n",
    "print(stopped_text)\n",
    "\n",
    "#Erased words\n",
    "set(tokenized_text).difference(set(stopped_text))"
   ]
  },
  {
   "cell_type": "markdown",
   "metadata": {},
   "source": [
    "## Lemmatizing"
   ]
  },
  {
   "cell_type": "code",
   "execution_count": 21,
   "metadata": {},
   "outputs": [
    {
     "data": {
      "text/plain": [
       "['chess',\n",
       " 'two',\n",
       " 'player',\n",
       " 'strategy',\n",
       " 'board',\n",
       " 'game',\n",
       " 'play',\n",
       " 'checker',\n",
       " 'board',\n",
       " 'square',\n",
       " 'arrange',\n",
       " '×',\n",
       " 'grid']"
      ]
     },
     "execution_count": 21,
     "metadata": {},
     "output_type": "execute_result"
    }
   ],
   "source": [
    "spacy_text = spacy_nlp(' '.join(stopped_text))\n",
    "[token.lemma_ for token in spacy_text]"
   ]
  },
  {
   "cell_type": "code",
   "execution_count": 22,
   "metadata": {},
   "outputs": [
    {
     "data": {
      "text/plain": [
       "['chess',\n",
       " 'two',\n",
       " 'player',\n",
       " 'strategy',\n",
       " 'board',\n",
       " 'game',\n",
       " 'play',\n",
       " 'checker',\n",
       " 'board',\n",
       " 'square',\n",
       " 'arrange',\n",
       " '×',\n",
       " 'grid']"
      ]
     },
     "execution_count": 22,
     "metadata": {},
     "output_type": "execute_result"
    }
   ],
   "source": [
    "lemma = nltk.wordnet.WordNetLemmatizer()\n",
    "lemmatized_text = [lemma.lemmatize(w,'v') for w in stopped_text]\n",
    "lemmatized_text"
   ]
  },
  {
   "cell_type": "markdown",
   "metadata": {},
   "source": [
    "## Stemming"
   ]
  },
  {
   "cell_type": "code",
   "execution_count": 23,
   "metadata": {},
   "outputs": [
    {
     "data": {
      "text/plain": [
       "['chess',\n",
       " 'two',\n",
       " 'player',\n",
       " 'strategi',\n",
       " 'board',\n",
       " 'game',\n",
       " 'play',\n",
       " 'checker',\n",
       " 'board',\n",
       " 'squar',\n",
       " 'arrang',\n",
       " '×',\n",
       " 'grid']"
      ]
     },
     "execution_count": 23,
     "metadata": {},
     "output_type": "execute_result"
    }
   ],
   "source": [
    "snow = nltk.stem.SnowballStemmer('english')\n",
    "\n",
    "snow_text = [snow.stem(w) for w in lemmatized_text]\n",
    "snow_text"
   ]
  },
  {
   "cell_type": "markdown",
   "metadata": {},
   "source": [
    "## All together"
   ]
  },
  {
   "cell_type": "code",
   "execution_count": 24,
   "metadata": {},
   "outputs": [],
   "source": [
    "# Apply a first round of text cleaning techniques\n",
    "snow = nltk.stem.SnowballStemmer('english')\n",
    "lemma = nltk.wordnet.WordNetLemmatizer()\n",
    "\n",
    "def clean_text(text):\n",
    "    '''Make text lowercase, \n",
    "       remove punctuation,\n",
    "       remove numbers and words containing numbers\n",
    "       remove especial characters as \\n\n",
    "       strip the text\n",
    "       lemmatize\n",
    "       stemmize.'''\n",
    "    text = text.lower()\n",
    "    text = re.sub('[%s]' % re.escape(string.punctuation), ' ', text)\n",
    "    text = re.sub('\\w*\\d\\w*', '', text)\n",
    "    text = re.sub('\\n', '', text)\n",
    "    word_tokens = word_tokenize(text)\n",
    "    text = [lemma.lemmatize(w.strip(), 'v') for w in word_tokens if not w in stop_words]\n",
    "    text = [snow.stem(w.strip()) for w in text]\n",
    "\n",
    "    return ' '.join(text)"
   ]
  },
  {
   "cell_type": "code",
   "execution_count": 25,
   "metadata": {},
   "outputs": [
    {
     "data": {
      "text/plain": [
       "'chess two player strategi board game play checker board squar arrang × grid'"
      ]
     },
     "execution_count": 25,
     "metadata": {},
     "output_type": "execute_result"
    }
   ],
   "source": [
    "cleaned_text = clean_text(text)\n",
    "cleaned_text"
   ]
  },
  {
   "cell_type": "code",
   "execution_count": 26,
   "metadata": {},
   "outputs": [],
   "source": [
    "data_clean = pd.DataFrame(df.transcript.apply(clean_text))"
   ]
  },
  {
   "cell_type": "code",
   "execution_count": 27,
   "metadata": {},
   "outputs": [
    {
     "data": {
      "text/html": [
       "<div>\n",
       "<style scoped>\n",
       "    .dataframe tbody tr th:only-of-type {\n",
       "        vertical-align: middle;\n",
       "    }\n",
       "\n",
       "    .dataframe tbody tr th {\n",
       "        vertical-align: top;\n",
       "    }\n",
       "\n",
       "    .dataframe thead th {\n",
       "        text-align: right;\n",
       "    }\n",
       "</style>\n",
       "<table border=\"1\" class=\"dataframe\">\n",
       "  <thead>\n",
       "    <tr style=\"text-align: right;\">\n",
       "      <th></th>\n",
       "      <th>Chess</th>\n",
       "      <th>Go (game)</th>\n",
       "    </tr>\n",
       "  </thead>\n",
       "  <tbody>\n",
       "    <tr>\n",
       "      <td>transcript</td>\n",
       "      <td>Chess is a two-player strategy board game played on a checkered board with 64 squares arranged in an 8×8 grid. The game is played by millions of people worldwide. Chess is believed to be derived from the Indian game chaturanga sometime before the 7th century. Chaturanga is also the likely ancestor of the Eastern strategy games xiangqi (Chinese chess), janggi (Korean chess), and shogi (Japanese chess). Chess reached Europe by the 9th century, due to the Umayyad conquest of Hispania. The piece...</td>\n",
       "      <td>Go is an abstract strategy board game for two players, in which the aim is to surround more territory than the opponent. The game was invented in China more than 2,500 years ago and is believed to be the oldest board game continuously played to the present day. \\nA 2016 survey by the International Go Federation's 75 member nations found that there are over 46 million people worldwide who know how to play Go and over 20 million current players, the majority of whom live in East Asia.The playi...</td>\n",
       "    </tr>\n",
       "  </tbody>\n",
       "</table>\n",
       "</div>"
      ],
      "text/plain": [
       "                                                                                                                                                                                                                                                                                                                                                                                                                                                                                                                          Chess  \\\n",
       "transcript  Chess is a two-player strategy board game played on a checkered board with 64 squares arranged in an 8×8 grid. The game is played by millions of people worldwide. Chess is believed to be derived from the Indian game chaturanga sometime before the 7th century. Chaturanga is also the likely ancestor of the Eastern strategy games xiangqi (Chinese chess), janggi (Korean chess), and shogi (Japanese chess). Chess reached Europe by the 9th century, due to the Umayyad conquest of Hispania. The piece...   \n",
       "\n",
       "                                                                                                                                                                                                                                                                                                                                                                                                                                                                                                                      Go (game)  \n",
       "transcript  Go is an abstract strategy board game for two players, in which the aim is to surround more territory than the opponent. The game was invented in China more than 2,500 years ago and is believed to be the oldest board game continuously played to the present day. \\nA 2016 survey by the International Go Federation's 75 member nations found that there are over 46 million people worldwide who know how to play Go and over 20 million current players, the majority of whom live in East Asia.The playi...  "
      ]
     },
     "execution_count": 27,
     "metadata": {},
     "output_type": "execute_result"
    }
   ],
   "source": [
    "df.T"
   ]
  },
  {
   "cell_type": "code",
   "execution_count": 28,
   "metadata": {},
   "outputs": [
    {
     "data": {
      "text/html": [
       "<div>\n",
       "<style scoped>\n",
       "    .dataframe tbody tr th:only-of-type {\n",
       "        vertical-align: middle;\n",
       "    }\n",
       "\n",
       "    .dataframe tbody tr th {\n",
       "        vertical-align: top;\n",
       "    }\n",
       "\n",
       "    .dataframe thead th {\n",
       "        text-align: right;\n",
       "    }\n",
       "</style>\n",
       "<table border=\"1\" class=\"dataframe\">\n",
       "  <thead>\n",
       "    <tr style=\"text-align: right;\">\n",
       "      <th></th>\n",
       "      <th>Chess</th>\n",
       "      <th>Go (game)</th>\n",
       "    </tr>\n",
       "  </thead>\n",
       "  <tbody>\n",
       "    <tr>\n",
       "      <td>transcript</td>\n",
       "      <td>chess two player strategi board game play checker board squar arrang × grid game play million peopl worldwid chess believ deriv indian game chaturanga sometim centuri chaturanga also like ancestor eastern strategi game xiangqi chines chess janggi korean chess shogi japanes chess chess reach europ centuri due umayyad conquest hispania piec assum current power spain late centuri modern rule standard centuri play involv hide inform player begin piec one king one queen two rook two knight two bi...</td>\n",
       "      <td>go abstract strategi board game two player aim surround territori oppon game invent china year ago believ oldest board game continu play present day survey intern go feder member nation find million peopl worldwid know play go million current player major live east asia play piec call stone one player use white stone black player take turn place stone vacant intersect point board place board stone may move stone remov board captur captur happen stone group stone surround oppos stone orthogon...</td>\n",
       "    </tr>\n",
       "  </tbody>\n",
       "</table>\n",
       "</div>"
      ],
      "text/plain": [
       "                                                                                                                                                                                                                                                                                                                                                                                                                                                                                                                          Chess  \\\n",
       "transcript  chess two player strategi board game play checker board squar arrang × grid game play million peopl worldwid chess believ deriv indian game chaturanga sometim centuri chaturanga also like ancestor eastern strategi game xiangqi chines chess janggi korean chess shogi japanes chess chess reach europ centuri due umayyad conquest hispania piec assum current power spain late centuri modern rule standard centuri play involv hide inform player begin piec one king one queen two rook two knight two bi...   \n",
       "\n",
       "                                                                                                                                                                                                                                                                                                                                                                                                                                                                                                                      Go (game)  \n",
       "transcript  go abstract strategi board game two player aim surround territori oppon game invent china year ago believ oldest board game continu play present day survey intern go feder member nation find million peopl worldwid know play go million current player major live east asia play piec call stone one player use white stone black player take turn place stone vacant intersect point board place board stone may move stone remov board captur captur happen stone group stone surround oppos stone orthogon...  "
      ]
     },
     "execution_count": 28,
     "metadata": {},
     "output_type": "execute_result"
    }
   ],
   "source": [
    "data_clean.T"
   ]
  },
  {
   "cell_type": "markdown",
   "metadata": {},
   "source": [
    "## Analyze"
   ]
  },
  {
   "cell_type": "code",
   "execution_count": 29,
   "metadata": {},
   "outputs": [],
   "source": [
    "wc = WordCloud(stopwords=stop_words, background_color=\"white\", colormap=\"Dark2\", max_font_size=150, random_state=42)"
   ]
  },
  {
   "cell_type": "code",
   "execution_count": null,
   "metadata": {
    "scrolled": true
   },
   "outputs": [],
   "source": [
    "articles = ['Chees', 'Go']\n",
    "\n",
    "# Create subplots for each article\n",
    "for index, article in enumerate(data_clean.T.columns):\n",
    "    wc.generate(data_clean.transcript[article])\n",
    "    \n",
    "    plt.subplot(1, 2, index+1)\n",
    "    plt.imshow(wc, interpolation=\"bilinear\")\n",
    "    plt.axis(\"off\")\n",
    "    plt.title(articles[index])\n",
    "\n",
    "plt.show()"
   ]
  },
  {
   "cell_type": "markdown",
   "metadata": {},
   "source": [
    "# Information Extraction"
   ]
  },
  {
   "cell_type": "markdown",
   "metadata": {},
   "source": [
    "## Part of Speech tagging (POS) "
   ]
  },
  {
   "cell_type": "code",
   "execution_count": 31,
   "metadata": {},
   "outputs": [],
   "source": [
    "# Example text\n",
    "\n",
    "example = 'today is a sunny day for mr james and mrs ana.'\n",
    "example = 'we saw the yellow dog.'\n",
    "\n",
    "# Tokenize\n",
    "example_token = word_tokenize(example)"
   ]
  },
  {
   "cell_type": "code",
   "execution_count": 32,
   "metadata": {
    "scrolled": true
   },
   "outputs": [
    {
     "data": {
      "text/plain": [
       "[('we', 'PRP'),\n",
       " ('saw', 'VBD'),\n",
       " ('the', 'DT'),\n",
       " ('yellow', 'JJ'),\n",
       " ('dog', 'NN'),\n",
       " ('.', '.')]"
      ]
     },
     "execution_count": 32,
     "metadata": {},
     "output_type": "execute_result"
    }
   ],
   "source": [
    "# Tag the tokens\n",
    "nltk.pos_tag(example_token)"
   ]
  },
  {
   "cell_type": "markdown",
   "metadata": {},
   "source": [
    "## Chunking"
   ]
  },
  {
   "cell_type": "code",
   "execution_count": 33,
   "metadata": {},
   "outputs": [
    {
     "name": "stdout",
     "output_type": "stream",
     "text": [
      "(S we/PRP saw/VBD (NP the/DT yellow/JJ dog/NN) ./.)\n"
     ]
    }
   ],
   "source": [
    "grammar = r\"\"\"\n",
    "  NP: {<DT|JJ|NN.*>+}          # Chunk sequences of DT, JJ, NN\n",
    "  PP: {<IN><NP>}               # Chunk prepositions followed by NP\n",
    "  VP: {<VB.*><NP|PP|CLAUSE>+$} # Chunk verbs and their arguments\n",
    "  CLAUSE: {<NP><VP>}           # Chunk NP, VP\n",
    "  \"\"\"\n",
    "\n",
    "tag = nltk.pos_tag(example_token)\n",
    "cp = nltk.RegexpParser(grammar)\n",
    "result = cp.parse(tag)\n",
    "print(result)\n",
    "result.draw()"
   ]
  },
  {
   "cell_type": "markdown",
   "metadata": {},
   "source": [
    "## Name Entity Recognition"
   ]
  },
  {
   "cell_type": "code",
   "execution_count": 34,
   "metadata": {},
   "outputs": [
    {
     "name": "stdout",
     "output_type": "stream",
     "text": [
      "(S we/PRP saw/VBD the/DT yellow/JJ dog/NN ./.)\n"
     ]
    }
   ],
   "source": [
    "ne_tree = nltk.ne_chunk(tag)\n",
    "print(ne_tree)"
   ]
  },
  {
   "cell_type": "markdown",
   "metadata": {},
   "source": [
    "## Using spacy for different tasks\n",
    "* **Text:** The original word text.\n",
    "* **Lemma:** The base form of the word.\n",
    "* **POS:** The simple part-of-speech tag.\n",
    "* **Tag:** The detailed part-of-speech tag.\n",
    "* **Dep:** Syntactic dependency, i.e. the relation between tokens.\n",
    "* **Shape:** The word shape – capitalization, punctuation, digits.\n",
    "* **is alpha:** Is the token an alpha character?\n",
    "* **is stop:** Is the token part of a stop list, i.e. the most common words of the language?"
   ]
  },
  {
   "cell_type": "code",
   "execution_count": 35,
   "metadata": {},
   "outputs": [
    {
     "data": {
      "text/html": [
       "<div>\n",
       "<style scoped>\n",
       "    .dataframe tbody tr th:only-of-type {\n",
       "        vertical-align: middle;\n",
       "    }\n",
       "\n",
       "    .dataframe tbody tr th {\n",
       "        vertical-align: top;\n",
       "    }\n",
       "\n",
       "    .dataframe thead th {\n",
       "        text-align: right;\n",
       "    }\n",
       "</style>\n",
       "<table border=\"1\" class=\"dataframe\">\n",
       "  <thead>\n",
       "    <tr style=\"text-align: right;\">\n",
       "      <th></th>\n",
       "      <th>token.text</th>\n",
       "      <th>token.lemma_</th>\n",
       "      <th>token.pos_</th>\n",
       "      <th>token.tag_</th>\n",
       "      <th>token.dep_</th>\n",
       "      <th>token.shape_</th>\n",
       "      <th>token.is_alpha</th>\n",
       "      <th>token.is_stop</th>\n",
       "    </tr>\n",
       "  </thead>\n",
       "  <tbody>\n",
       "    <tr>\n",
       "      <td>0</td>\n",
       "      <td>chess</td>\n",
       "      <td>chess</td>\n",
       "      <td>NOUN</td>\n",
       "      <td>NN</td>\n",
       "      <td>nsubj</td>\n",
       "      <td>xxxx</td>\n",
       "      <td>True</td>\n",
       "      <td>False</td>\n",
       "    </tr>\n",
       "    <tr>\n",
       "      <td>1</td>\n",
       "      <td>is</td>\n",
       "      <td>be</td>\n",
       "      <td>AUX</td>\n",
       "      <td>VBZ</td>\n",
       "      <td>ROOT</td>\n",
       "      <td>xx</td>\n",
       "      <td>True</td>\n",
       "      <td>True</td>\n",
       "    </tr>\n",
       "    <tr>\n",
       "      <td>2</td>\n",
       "      <td>a</td>\n",
       "      <td>a</td>\n",
       "      <td>DET</td>\n",
       "      <td>DT</td>\n",
       "      <td>det</td>\n",
       "      <td>x</td>\n",
       "      <td>True</td>\n",
       "      <td>True</td>\n",
       "    </tr>\n",
       "    <tr>\n",
       "      <td>3</td>\n",
       "      <td>two</td>\n",
       "      <td>two</td>\n",
       "      <td>NUM</td>\n",
       "      <td>CD</td>\n",
       "      <td>nummod</td>\n",
       "      <td>xxx</td>\n",
       "      <td>True</td>\n",
       "      <td>True</td>\n",
       "    </tr>\n",
       "    <tr>\n",
       "      <td>4</td>\n",
       "      <td>player</td>\n",
       "      <td>player</td>\n",
       "      <td>NOUN</td>\n",
       "      <td>NN</td>\n",
       "      <td>compound</td>\n",
       "      <td>xxxx</td>\n",
       "      <td>True</td>\n",
       "      <td>False</td>\n",
       "    </tr>\n",
       "    <tr>\n",
       "      <td>5</td>\n",
       "      <td>strategy</td>\n",
       "      <td>strategy</td>\n",
       "      <td>NOUN</td>\n",
       "      <td>NN</td>\n",
       "      <td>compound</td>\n",
       "      <td>xxxx</td>\n",
       "      <td>True</td>\n",
       "      <td>False</td>\n",
       "    </tr>\n",
       "    <tr>\n",
       "      <td>6</td>\n",
       "      <td>board</td>\n",
       "      <td>board</td>\n",
       "      <td>NOUN</td>\n",
       "      <td>NN</td>\n",
       "      <td>compound</td>\n",
       "      <td>xxxx</td>\n",
       "      <td>True</td>\n",
       "      <td>False</td>\n",
       "    </tr>\n",
       "    <tr>\n",
       "      <td>7</td>\n",
       "      <td>game</td>\n",
       "      <td>game</td>\n",
       "      <td>NOUN</td>\n",
       "      <td>NN</td>\n",
       "      <td>attr</td>\n",
       "      <td>xxxx</td>\n",
       "      <td>True</td>\n",
       "      <td>False</td>\n",
       "    </tr>\n",
       "    <tr>\n",
       "      <td>8</td>\n",
       "      <td>played</td>\n",
       "      <td>play</td>\n",
       "      <td>VERB</td>\n",
       "      <td>VBD</td>\n",
       "      <td>acl</td>\n",
       "      <td>xxxx</td>\n",
       "      <td>True</td>\n",
       "      <td>False</td>\n",
       "    </tr>\n",
       "    <tr>\n",
       "      <td>9</td>\n",
       "      <td>on</td>\n",
       "      <td>on</td>\n",
       "      <td>ADP</td>\n",
       "      <td>IN</td>\n",
       "      <td>prep</td>\n",
       "      <td>xx</td>\n",
       "      <td>True</td>\n",
       "      <td>True</td>\n",
       "    </tr>\n",
       "    <tr>\n",
       "      <td>10</td>\n",
       "      <td>a</td>\n",
       "      <td>a</td>\n",
       "      <td>DET</td>\n",
       "      <td>DT</td>\n",
       "      <td>det</td>\n",
       "      <td>x</td>\n",
       "      <td>True</td>\n",
       "      <td>True</td>\n",
       "    </tr>\n",
       "    <tr>\n",
       "      <td>11</td>\n",
       "      <td>checkered</td>\n",
       "      <td>checker</td>\n",
       "      <td>VERB</td>\n",
       "      <td>VBN</td>\n",
       "      <td>amod</td>\n",
       "      <td>xxxx</td>\n",
       "      <td>True</td>\n",
       "      <td>False</td>\n",
       "    </tr>\n",
       "    <tr>\n",
       "      <td>12</td>\n",
       "      <td>board</td>\n",
       "      <td>board</td>\n",
       "      <td>NOUN</td>\n",
       "      <td>NN</td>\n",
       "      <td>pobj</td>\n",
       "      <td>xxxx</td>\n",
       "      <td>True</td>\n",
       "      <td>False</td>\n",
       "    </tr>\n",
       "    <tr>\n",
       "      <td>13</td>\n",
       "      <td>with</td>\n",
       "      <td>with</td>\n",
       "      <td>ADP</td>\n",
       "      <td>IN</td>\n",
       "      <td>prep</td>\n",
       "      <td>xxxx</td>\n",
       "      <td>True</td>\n",
       "      <td>True</td>\n",
       "    </tr>\n",
       "    <tr>\n",
       "      <td>14</td>\n",
       "      <td></td>\n",
       "      <td></td>\n",
       "      <td>SPACE</td>\n",
       "      <td>_SP</td>\n",
       "      <td></td>\n",
       "      <td></td>\n",
       "      <td>False</td>\n",
       "      <td>False</td>\n",
       "    </tr>\n",
       "    <tr>\n",
       "      <td>15</td>\n",
       "      <td>squares</td>\n",
       "      <td>square</td>\n",
       "      <td>NOUN</td>\n",
       "      <td>NNS</td>\n",
       "      <td>pobj</td>\n",
       "      <td>xxxx</td>\n",
       "      <td>True</td>\n",
       "      <td>False</td>\n",
       "    </tr>\n",
       "    <tr>\n",
       "      <td>16</td>\n",
       "      <td>arranged</td>\n",
       "      <td>arrange</td>\n",
       "      <td>VERB</td>\n",
       "      <td>VBN</td>\n",
       "      <td>acl</td>\n",
       "      <td>xxxx</td>\n",
       "      <td>True</td>\n",
       "      <td>False</td>\n",
       "    </tr>\n",
       "    <tr>\n",
       "      <td>17</td>\n",
       "      <td>in</td>\n",
       "      <td>in</td>\n",
       "      <td>ADP</td>\n",
       "      <td>IN</td>\n",
       "      <td>prep</td>\n",
       "      <td>xx</td>\n",
       "      <td>True</td>\n",
       "      <td>True</td>\n",
       "    </tr>\n",
       "    <tr>\n",
       "      <td>18</td>\n",
       "      <td>an</td>\n",
       "      <td>an</td>\n",
       "      <td>DET</td>\n",
       "      <td>DT</td>\n",
       "      <td>det</td>\n",
       "      <td>xx</td>\n",
       "      <td>True</td>\n",
       "      <td>True</td>\n",
       "    </tr>\n",
       "    <tr>\n",
       "      <td>19</td>\n",
       "      <td>×</td>\n",
       "      <td>×</td>\n",
       "      <td>PROPN</td>\n",
       "      <td>NNP</td>\n",
       "      <td>compound</td>\n",
       "      <td>×</td>\n",
       "      <td>False</td>\n",
       "      <td>False</td>\n",
       "    </tr>\n",
       "    <tr>\n",
       "      <td>20</td>\n",
       "      <td>grid</td>\n",
       "      <td>grid</td>\n",
       "      <td>NOUN</td>\n",
       "      <td>NN</td>\n",
       "      <td>pobj</td>\n",
       "      <td>xxxx</td>\n",
       "      <td>True</td>\n",
       "      <td>False</td>\n",
       "    </tr>\n",
       "    <tr>\n",
       "      <td>21</td>\n",
       "      <td></td>\n",
       "      <td></td>\n",
       "      <td>SPACE</td>\n",
       "      <td>_SP</td>\n",
       "      <td></td>\n",
       "      <td></td>\n",
       "      <td>False</td>\n",
       "      <td>False</td>\n",
       "    </tr>\n",
       "  </tbody>\n",
       "</table>\n",
       "</div>"
      ],
      "text/plain": [
       "   token.text token.lemma_ token.pos_ token.tag_ token.dep_ token.shape_  \\\n",
       "0       chess        chess       NOUN         NN      nsubj         xxxx   \n",
       "1          is           be        AUX        VBZ       ROOT           xx   \n",
       "2           a            a        DET         DT        det            x   \n",
       "3         two          two        NUM         CD     nummod          xxx   \n",
       "4      player       player       NOUN         NN   compound         xxxx   \n",
       "5    strategy     strategy       NOUN         NN   compound         xxxx   \n",
       "6       board        board       NOUN         NN   compound         xxxx   \n",
       "7        game         game       NOUN         NN       attr         xxxx   \n",
       "8      played         play       VERB        VBD        acl         xxxx   \n",
       "9          on           on        ADP         IN       prep           xx   \n",
       "10          a            a        DET         DT        det            x   \n",
       "11  checkered      checker       VERB        VBN       amod         xxxx   \n",
       "12      board        board       NOUN         NN       pobj         xxxx   \n",
       "13       with         with        ADP         IN       prep         xxxx   \n",
       "14                              SPACE        _SP                           \n",
       "15    squares       square       NOUN        NNS       pobj         xxxx   \n",
       "16   arranged      arrange       VERB        VBN        acl         xxxx   \n",
       "17         in           in        ADP         IN       prep           xx   \n",
       "18         an           an        DET         DT        det           xx   \n",
       "19          ×            ×      PROPN        NNP   compound            ×   \n",
       "20       grid         grid       NOUN         NN       pobj         xxxx   \n",
       "21                              SPACE        _SP                           \n",
       "\n",
       "   token.is_alpha token.is_stop  \n",
       "0            True         False  \n",
       "1            True          True  \n",
       "2            True          True  \n",
       "3            True          True  \n",
       "4            True         False  \n",
       "5            True         False  \n",
       "6            True         False  \n",
       "7            True         False  \n",
       "8            True         False  \n",
       "9            True          True  \n",
       "10           True          True  \n",
       "11           True         False  \n",
       "12           True         False  \n",
       "13           True          True  \n",
       "14          False         False  \n",
       "15           True         False  \n",
       "16           True         False  \n",
       "17           True          True  \n",
       "18           True          True  \n",
       "19          False         False  \n",
       "20           True         False  \n",
       "21          False         False  "
      ]
     },
     "execution_count": 35,
     "metadata": {},
     "output_type": "execute_result"
    }
   ],
   "source": [
    "doc = spacy_nlp(\"Apple is looking at buying U.K. startup for $1 billion\")\n",
    "doc = spacy_nlp(text)\n",
    "\n",
    "spacydf = pd.DataFrame(columns=['token.text', 'token.lemma_', 'token.pos_', 'token.tag_', 'token.dep_',\n",
    "            'token.shape_', 'token.is_alpha', 'token.is_stop'])\n",
    "\n",
    "for i, token in enumerate(doc):\n",
    "    spacydf.loc[i]= [token.text, token.lemma_, token.pos_, token.tag_, token.dep_,\n",
    "            token.shape_, token.is_alpha, token.is_stop]\n",
    "\n",
    "spacydf"
   ]
  },
  {
   "cell_type": "code",
   "execution_count": 36,
   "metadata": {},
   "outputs": [
    {
     "data": {
      "text/html": [
       "<div>\n",
       "<style scoped>\n",
       "    .dataframe tbody tr th:only-of-type {\n",
       "        vertical-align: middle;\n",
       "    }\n",
       "\n",
       "    .dataframe tbody tr th {\n",
       "        vertical-align: top;\n",
       "    }\n",
       "\n",
       "    .dataframe thead th {\n",
       "        text-align: right;\n",
       "    }\n",
       "</style>\n",
       "<table border=\"1\" class=\"dataframe\">\n",
       "  <thead>\n",
       "    <tr style=\"text-align: right;\">\n",
       "      <th></th>\n",
       "      <th>ent.text</th>\n",
       "      <th>ent.start_char</th>\n",
       "      <th>ent.end_char</th>\n",
       "      <th>ent.label_</th>\n",
       "    </tr>\n",
       "  </thead>\n",
       "  <tbody>\n",
       "    <tr>\n",
       "      <td>0</td>\n",
       "      <td>two</td>\n",
       "      <td>11</td>\n",
       "      <td>14</td>\n",
       "      <td>CARDINAL</td>\n",
       "    </tr>\n",
       "  </tbody>\n",
       "</table>\n",
       "</div>"
      ],
      "text/plain": [
       "  ent.text ent.start_char ent.end_char ent.label_\n",
       "0      two             11           14   CARDINAL"
      ]
     },
     "execution_count": 36,
     "metadata": {},
     "output_type": "execute_result"
    }
   ],
   "source": [
    "spacynerdf = pd.DataFrame(columns=['ent.text', 'ent.start_char', 'ent.end_char', 'ent.label_'])\n",
    "\n",
    "for i, ent in enumerate(doc.ents):\n",
    "    spacynerdf.loc[i] = [ent.text, ent.start_char, ent.end_char, ent.label_]\n",
    "spacynerdf"
   ]
  },
  {
   "cell_type": "code",
   "execution_count": 39,
   "metadata": {},
   "outputs": [
    {
     "data": {
      "text/html": [
       "<svg xmlns=\"http://www.w3.org/2000/svg\" xmlns:xlink=\"http://www.w3.org/1999/xlink\" xml:lang=\"en\" id=\"e1f6e4ba620a4ef985db762b2977d6c9-0\" class=\"displacy\" width=\"650\" height=\"317.0\" direction=\"ltr\" style=\"max-width: none; height: 317.0px; color: #000000; background: #ffffff; font-family: Arial; direction: ltr\">\n",
       "<text class=\"displacy-token\" fill=\"currentColor\" text-anchor=\"middle\" y=\"227.0\">\n",
       "    <tspan class=\"displacy-word\" fill=\"currentColor\" x=\"50\">we</tspan>\n",
       "    <tspan class=\"displacy-tag\" dy=\"2em\" fill=\"currentColor\" x=\"50\">PRON</tspan>\n",
       "</text>\n",
       "\n",
       "<text class=\"displacy-token\" fill=\"currentColor\" text-anchor=\"middle\" y=\"227.0\">\n",
       "    <tspan class=\"displacy-word\" fill=\"currentColor\" x=\"170\">saw</tspan>\n",
       "    <tspan class=\"displacy-tag\" dy=\"2em\" fill=\"currentColor\" x=\"170\">VERB</tspan>\n",
       "</text>\n",
       "\n",
       "<text class=\"displacy-token\" fill=\"currentColor\" text-anchor=\"middle\" y=\"227.0\">\n",
       "    <tspan class=\"displacy-word\" fill=\"currentColor\" x=\"290\">the</tspan>\n",
       "    <tspan class=\"displacy-tag\" dy=\"2em\" fill=\"currentColor\" x=\"290\">DET</tspan>\n",
       "</text>\n",
       "\n",
       "<text class=\"displacy-token\" fill=\"currentColor\" text-anchor=\"middle\" y=\"227.0\">\n",
       "    <tspan class=\"displacy-word\" fill=\"currentColor\" x=\"410\">yellow</tspan>\n",
       "    <tspan class=\"displacy-tag\" dy=\"2em\" fill=\"currentColor\" x=\"410\">ADJ</tspan>\n",
       "</text>\n",
       "\n",
       "<text class=\"displacy-token\" fill=\"currentColor\" text-anchor=\"middle\" y=\"227.0\">\n",
       "    <tspan class=\"displacy-word\" fill=\"currentColor\" x=\"530\">dog.</tspan>\n",
       "    <tspan class=\"displacy-tag\" dy=\"2em\" fill=\"currentColor\" x=\"530\">NOUN</tspan>\n",
       "</text>\n",
       "\n",
       "<g class=\"displacy-arrow\">\n",
       "    <path class=\"displacy-arc\" id=\"arrow-e1f6e4ba620a4ef985db762b2977d6c9-0-0\" stroke-width=\"2px\" d=\"M70,182.0 C70,122.0 160.0,122.0 160.0,182.0\" fill=\"none\" stroke=\"currentColor\"/>\n",
       "    <text dy=\"1.25em\" style=\"font-size: 0.8em; letter-spacing: 1px\">\n",
       "        <textPath xlink:href=\"#arrow-e1f6e4ba620a4ef985db762b2977d6c9-0-0\" class=\"displacy-label\" startOffset=\"50%\" side=\"left\" fill=\"currentColor\" text-anchor=\"middle\">nsubj</textPath>\n",
       "    </text>\n",
       "    <path class=\"displacy-arrowhead\" d=\"M70,184.0 L62,172.0 78,172.0\" fill=\"currentColor\"/>\n",
       "</g>\n",
       "\n",
       "<g class=\"displacy-arrow\">\n",
       "    <path class=\"displacy-arc\" id=\"arrow-e1f6e4ba620a4ef985db762b2977d6c9-0-1\" stroke-width=\"2px\" d=\"M310,182.0 C310,62.0 525.0,62.0 525.0,182.0\" fill=\"none\" stroke=\"currentColor\"/>\n",
       "    <text dy=\"1.25em\" style=\"font-size: 0.8em; letter-spacing: 1px\">\n",
       "        <textPath xlink:href=\"#arrow-e1f6e4ba620a4ef985db762b2977d6c9-0-1\" class=\"displacy-label\" startOffset=\"50%\" side=\"left\" fill=\"currentColor\" text-anchor=\"middle\">det</textPath>\n",
       "    </text>\n",
       "    <path class=\"displacy-arrowhead\" d=\"M310,184.0 L302,172.0 318,172.0\" fill=\"currentColor\"/>\n",
       "</g>\n",
       "\n",
       "<g class=\"displacy-arrow\">\n",
       "    <path class=\"displacy-arc\" id=\"arrow-e1f6e4ba620a4ef985db762b2977d6c9-0-2\" stroke-width=\"2px\" d=\"M430,182.0 C430,122.0 520.0,122.0 520.0,182.0\" fill=\"none\" stroke=\"currentColor\"/>\n",
       "    <text dy=\"1.25em\" style=\"font-size: 0.8em; letter-spacing: 1px\">\n",
       "        <textPath xlink:href=\"#arrow-e1f6e4ba620a4ef985db762b2977d6c9-0-2\" class=\"displacy-label\" startOffset=\"50%\" side=\"left\" fill=\"currentColor\" text-anchor=\"middle\">amod</textPath>\n",
       "    </text>\n",
       "    <path class=\"displacy-arrowhead\" d=\"M430,184.0 L422,172.0 438,172.0\" fill=\"currentColor\"/>\n",
       "</g>\n",
       "\n",
       "<g class=\"displacy-arrow\">\n",
       "    <path class=\"displacy-arc\" id=\"arrow-e1f6e4ba620a4ef985db762b2977d6c9-0-3\" stroke-width=\"2px\" d=\"M190,182.0 C190,2.0 530.0,2.0 530.0,182.0\" fill=\"none\" stroke=\"currentColor\"/>\n",
       "    <text dy=\"1.25em\" style=\"font-size: 0.8em; letter-spacing: 1px\">\n",
       "        <textPath xlink:href=\"#arrow-e1f6e4ba620a4ef985db762b2977d6c9-0-3\" class=\"displacy-label\" startOffset=\"50%\" side=\"left\" fill=\"currentColor\" text-anchor=\"middle\">dobj</textPath>\n",
       "    </text>\n",
       "    <path class=\"displacy-arrowhead\" d=\"M530.0,184.0 L538.0,172.0 522.0,172.0\" fill=\"currentColor\"/>\n",
       "</g>\n",
       "</svg>"
      ],
      "text/plain": [
       "<IPython.core.display.HTML object>"
      ]
     },
     "metadata": {},
     "output_type": "display_data"
    }
   ],
   "source": [
    "from spacy import displacy\n",
    "\n",
    "displacy.render(spacy_nlp(str(example)), style='dep', jupyter = True, options = {'distance': 120})"
   ]
  },
  {
   "cell_type": "code",
   "execution_count": 40,
   "metadata": {},
   "outputs": [
    {
     "data": {
      "text/html": [
       "<div class=\"entities\" style=\"line-height: 2.5; direction: ltr\">Go is an abstract strategy board game for \n",
       "<mark class=\"entity\" style=\"background: #e4e7d2; padding: 0.45em 0.6em; margin: 0 0.25em; line-height: 1; border-radius: 0.35em;\">\n",
       "    two\n",
       "    <span style=\"font-size: 0.8em; font-weight: bold; line-height: 1; border-radius: 0.35em; text-transform: uppercase; vertical-align: middle; margin-left: 0.5rem\">CARDINAL</span>\n",
       "</mark>\n",
       " players, in which the aim is to surround more territory than the opponent. The game was invented in \n",
       "<mark class=\"entity\" style=\"background: #feca74; padding: 0.45em 0.6em; margin: 0 0.25em; line-height: 1; border-radius: 0.35em;\">\n",
       "    China\n",
       "    <span style=\"font-size: 0.8em; font-weight: bold; line-height: 1; border-radius: 0.35em; text-transform: uppercase; vertical-align: middle; margin-left: 0.5rem\">GPE</span>\n",
       "</mark>\n",
       " \n",
       "<mark class=\"entity\" style=\"background: #bfe1d9; padding: 0.45em 0.6em; margin: 0 0.25em; line-height: 1; border-radius: 0.35em;\">\n",
       "    more than 2,500 years ago\n",
       "    <span style=\"font-size: 0.8em; font-weight: bold; line-height: 1; border-radius: 0.35em; text-transform: uppercase; vertical-align: middle; margin-left: 0.5rem\">DATE</span>\n",
       "</mark>\n",
       " and is believed to be the oldest board game continuously played to \n",
       "<mark class=\"entity\" style=\"background: #bfe1d9; padding: 0.45em 0.6em; margin: 0 0.25em; line-height: 1; border-radius: 0.35em;\">\n",
       "    the present day\n",
       "    <span style=\"font-size: 0.8em; font-weight: bold; line-height: 1; border-radius: 0.35em; text-transform: uppercase; vertical-align: middle; margin-left: 0.5rem\">DATE</span>\n",
       "</mark>\n",
       ". </br>A \n",
       "<mark class=\"entity\" style=\"background: #bfe1d9; padding: 0.45em 0.6em; margin: 0 0.25em; line-height: 1; border-radius: 0.35em;\">\n",
       "    2016\n",
       "    <span style=\"font-size: 0.8em; font-weight: bold; line-height: 1; border-radius: 0.35em; text-transform: uppercase; vertical-align: middle; margin-left: 0.5rem\">DATE</span>\n",
       "</mark>\n",
       " survey by \n",
       "<mark class=\"entity\" style=\"background: #7aecec; padding: 0.45em 0.6em; margin: 0 0.25em; line-height: 1; border-radius: 0.35em;\">\n",
       "    the International Go Federation's\n",
       "    <span style=\"font-size: 0.8em; font-weight: bold; line-height: 1; border-radius: 0.35em; text-transform: uppercase; vertical-align: middle; margin-left: 0.5rem\">ORG</span>\n",
       "</mark>\n",
       " \n",
       "<mark class=\"entity\" style=\"background: #e4e7d2; padding: 0.45em 0.6em; margin: 0 0.25em; line-height: 1; border-radius: 0.35em;\">\n",
       "    75\n",
       "    <span style=\"font-size: 0.8em; font-weight: bold; line-height: 1; border-radius: 0.35em; text-transform: uppercase; vertical-align: middle; margin-left: 0.5rem\">CARDINAL</span>\n",
       "</mark>\n",
       " member nations found that there are \n",
       "<mark class=\"entity\" style=\"background: #e4e7d2; padding: 0.45em 0.6em; margin: 0 0.25em; line-height: 1; border-radius: 0.35em;\">\n",
       "    over 46 million\n",
       "    <span style=\"font-size: 0.8em; font-weight: bold; line-height: 1; border-radius: 0.35em; text-transform: uppercase; vertical-align: middle; margin-left: 0.5rem\">CARDINAL</span>\n",
       "</mark>\n",
       " people worldwide who know how to play Go and \n",
       "<mark class=\"entity\" style=\"background: #e4e7d2; padding: 0.45em 0.6em; margin: 0 0.25em; line-height: 1; border-radius: 0.35em;\">\n",
       "    over 20 million\n",
       "    <span style=\"font-size: 0.8em; font-weight: bold; line-height: 1; border-radius: 0.35em; text-transform: uppercase; vertical-align: middle; margin-left: 0.5rem\">CARDINAL</span>\n",
       "</mark>\n",
       " current players, the majority of whom live in \n",
       "<mark class=\"entity\" style=\"background: #ff9561; padding: 0.45em 0.6em; margin: 0 0.25em; line-height: 1; border-radius: 0.35em;\">\n",
       "    East Asia\n",
       "    <span style=\"font-size: 0.8em; font-weight: bold; line-height: 1; border-radius: 0.35em; text-transform: uppercase; vertical-align: middle; margin-left: 0.5rem\">LOC</span>\n",
       "</mark>\n",
       ".The playing pi</div>"
      ],
      "text/plain": [
       "<IPython.core.display.HTML object>"
      ]
     },
     "metadata": {},
     "output_type": "display_data"
    }
   ],
   "source": [
    "\n",
    "displacy.render(spacy_nlp(str(df.transcript[1][:500])), jupyter=True, style='ent')\n"
   ]
  },
  {
   "cell_type": "markdown",
   "metadata": {},
   "source": [
    "# Text Representation"
   ]
  },
  {
   "cell_type": "code",
   "execution_count": 41,
   "metadata": {},
   "outputs": [],
   "source": [
    "from sklearn.feature_extraction.text import CountVectorizer\n"
   ]
  },
  {
   "cell_type": "code",
   "execution_count": 42,
   "metadata": {},
   "outputs": [],
   "source": [
    "training_data = ['this is good', 'this is bad', 'this is awesome']"
   ]
  },
  {
   "cell_type": "markdown",
   "metadata": {},
   "source": [
    "## Count vectorizer\n",
    "It converts a collection of text documents to a matrix of token counts."
   ]
  },
  {
   "cell_type": "code",
   "execution_count": 43,
   "metadata": {},
   "outputs": [
    {
     "data": {
      "text/plain": [
       "CountVectorizer(analyzer='word', binary=False, decode_error='strict',\n",
       "                dtype=<class 'numpy.int64'>, encoding='utf-8', input='content',\n",
       "                lowercase=True, max_df=1.0, max_features=1000, min_df=1,\n",
       "                ngram_range=(1, 1), preprocessor=None, stop_words=None,\n",
       "                strip_accents=None, token_pattern='(?u)\\\\b\\\\w\\\\w+\\\\b',\n",
       "                tokenizer=None, vocabulary=None)"
      ]
     },
     "execution_count": 43,
     "metadata": {},
     "output_type": "execute_result"
    }
   ],
   "source": [
    "vectorizer = CountVectorizer(max_features=1000)\n",
    "vectorizer.fit(training_data)"
   ]
  },
  {
   "cell_type": "code",
   "execution_count": 44,
   "metadata": {},
   "outputs": [
    {
     "name": "stdout",
     "output_type": "stream",
     "text": [
      "['awesome', 'bad', 'good', 'is', 'this']\n"
     ]
    }
   ],
   "source": [
    "# The list of the vocabulary created with the count vectorizer.\n",
    "vectorizer.vocabulary_\n",
    "print(vectorizer.get_feature_names())"
   ]
  },
  {
   "cell_type": "code",
   "execution_count": 45,
   "metadata": {},
   "outputs": [
    {
     "name": "stdout",
     "output_type": "stream",
     "text": [
      "[[0 0 1 1 1]\n",
      " [0 1 0 1 1]\n",
      " [1 0 0 1 1]]\n"
     ]
    }
   ],
   "source": [
    "X = vectorizer.transform(training_data)\n",
    "print(vectorizer.transform(training_data).toarray())"
   ]
  },
  {
   "cell_type": "code",
   "execution_count": 46,
   "metadata": {},
   "outputs": [
    {
     "data": {
      "text/html": [
       "<div>\n",
       "<style scoped>\n",
       "    .dataframe tbody tr th:only-of-type {\n",
       "        vertical-align: middle;\n",
       "    }\n",
       "\n",
       "    .dataframe tbody tr th {\n",
       "        vertical-align: top;\n",
       "    }\n",
       "\n",
       "    .dataframe thead th {\n",
       "        text-align: right;\n",
       "    }\n",
       "</style>\n",
       "<table border=\"1\" class=\"dataframe\">\n",
       "  <thead>\n",
       "    <tr style=\"text-align: right;\">\n",
       "      <th></th>\n",
       "      <th>awesome</th>\n",
       "      <th>bad</th>\n",
       "      <th>good</th>\n",
       "      <th>is</th>\n",
       "      <th>this</th>\n",
       "    </tr>\n",
       "  </thead>\n",
       "  <tbody>\n",
       "    <tr>\n",
       "      <td>this is good</td>\n",
       "      <td>0</td>\n",
       "      <td>0</td>\n",
       "      <td>1</td>\n",
       "      <td>1</td>\n",
       "      <td>1</td>\n",
       "    </tr>\n",
       "    <tr>\n",
       "      <td>this is bad</td>\n",
       "      <td>0</td>\n",
       "      <td>1</td>\n",
       "      <td>0</td>\n",
       "      <td>1</td>\n",
       "      <td>1</td>\n",
       "    </tr>\n",
       "    <tr>\n",
       "      <td>this is awesome</td>\n",
       "      <td>1</td>\n",
       "      <td>0</td>\n",
       "      <td>0</td>\n",
       "      <td>1</td>\n",
       "      <td>1</td>\n",
       "    </tr>\n",
       "  </tbody>\n",
       "</table>\n",
       "</div>"
      ],
      "text/plain": [
       "                 awesome  bad  good  is  this\n",
       "this is good           0    0     1   1     1\n",
       "this is bad            0    1     0   1     1\n",
       "this is awesome        1    0     0   1     1"
      ]
     },
     "execution_count": 46,
     "metadata": {},
     "output_type": "execute_result"
    }
   ],
   "source": [
    "data_cv = pd.DataFrame(X.toarray(), columns=vectorizer.get_feature_names())\n",
    "data_cv.index = training_data\n",
    "tdm = data_cv\n",
    "tdm.head()"
   ]
  }
 ],
 "metadata": {
  "kernelspec": {
   "display_name": "Python 3",
   "language": "python",
   "name": "python3"
  },
  "language_info": {
   "codemirror_mode": {
    "name": "ipython",
    "version": 3
   },
   "file_extension": ".py",
   "mimetype": "text/x-python",
   "name": "python",
   "nbconvert_exporter": "python",
   "pygments_lexer": "ipython3",
   "version": "3.7.4"
  },
  "toc": {
   "base_numbering": 1,
   "nav_menu": {},
   "number_sections": true,
   "sideBar": true,
   "skip_h1_title": false,
   "title_cell": "Table of Contents",
   "title_sidebar": "Contents",
   "toc_cell": true,
   "toc_position": {
    "height": "calc(100% - 180px)",
    "left": "10px",
    "top": "150px",
    "width": "231.844px"
   },
   "toc_section_display": true,
   "toc_window_display": true
  }
 },
 "nbformat": 4,
 "nbformat_minor": 4
}
