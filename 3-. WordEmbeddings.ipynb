{
 "cells": [
  {
   "cell_type": "markdown",
   "metadata": {},
   "source": [
    "<img src=\"images/embeddings.jpg\" width=\"800\">"
   ]
  },
  {
   "cell_type": "markdown",
   "metadata": {
    "toc": true
   },
   "source": [
    "<h1>Table of Contents<span class=\"tocSkip\"></span></h1>\n",
    "<div class=\"toc\"><ul class=\"toc-item\"><li><span><a href=\"#Word2vec-(Google):-news-model\" data-toc-modified-id=\"Word2vec-(Google):-news-model-1\"><span class=\"toc-item-num\">1&nbsp;&nbsp;</span>Word2vec (Google): news model</a></span><ul class=\"toc-item\"><li><span><a href=\"#Most-similar-words:\" data-toc-modified-id=\"Most-similar-words:-1.1\"><span class=\"toc-item-num\">1.1&nbsp;&nbsp;</span>Most similar words:</a></span></li><li><span><a href=\"#Combining-Words:\" data-toc-modified-id=\"Combining-Words:-1.2\"><span class=\"toc-item-num\">1.2&nbsp;&nbsp;</span>Combining Words:</a></span></li><li><span><a href=\"#Extracting-the-Odd-word:\" data-toc-modified-id=\"Extracting-the-Odd-word:-1.3\"><span class=\"toc-item-num\">1.3&nbsp;&nbsp;</span>Extracting the Odd word:</a></span></li><li><span><a href=\"#Finding-analogous-words:\" data-toc-modified-id=\"Finding-analogous-words:-1.4\"><span class=\"toc-item-num\">1.4&nbsp;&nbsp;</span>Finding analogous words:</a></span></li><li><span><a href=\"#t-SNE-visualizations:\" data-toc-modified-id=\"t-SNE-visualizations:-1.5\"><span class=\"toc-item-num\">1.5&nbsp;&nbsp;</span>t-SNE visualizations:</a></span></li></ul></li><li><span><a href=\"#Creating-word2vec-from-your-own-text-data\" data-toc-modified-id=\"Creating-word2vec-from-your-own-text-data-2\"><span class=\"toc-item-num\">2&nbsp;&nbsp;</span>Creating word2vec from your own text data</a></span><ul class=\"toc-item\"><li><span><a href=\"#Dataset\" data-toc-modified-id=\"Dataset-2.1\"><span class=\"toc-item-num\">2.1&nbsp;&nbsp;</span>Dataset</a></span></li><li><span><a href=\"#Create-word2vec\" data-toc-modified-id=\"Create-word2vec-2.2\"><span class=\"toc-item-num\">2.2&nbsp;&nbsp;</span>Create word2vec</a></span></li><li><span><a href=\"#Exploring-the-model\" data-toc-modified-id=\"Exploring-the-model-2.3\"><span class=\"toc-item-num\">2.3&nbsp;&nbsp;</span>Exploring the model</a></span><ul class=\"toc-item\"><li><span><a href=\"#Most-similar-word:\" data-toc-modified-id=\"Most-similar-word:-2.3.1\"><span class=\"toc-item-num\">2.3.1&nbsp;&nbsp;</span>Most similar word:</a></span></li><li><span><a href=\"#Odd-One-Out:\" data-toc-modified-id=\"Odd-One-Out:-2.3.2\"><span class=\"toc-item-num\">2.3.2&nbsp;&nbsp;</span>Odd-One-Out:</a></span></li><li><span><a href=\"#Finding-analogous-words:\" data-toc-modified-id=\"Finding-analogous-words:-2.3.3\"><span class=\"toc-item-num\">2.3.3&nbsp;&nbsp;</span>Finding analogous words:</a></span></li></ul></li></ul></li><li><span><a href=\"#Simpsons\" data-toc-modified-id=\"Simpsons-3\"><span class=\"toc-item-num\">3&nbsp;&nbsp;</span>Simpsons</a></span><ul class=\"toc-item\"><li><span><a href=\"#Data-loading\" data-toc-modified-id=\"Data-loading-3.1\"><span class=\"toc-item-num\">3.1&nbsp;&nbsp;</span>Data loading</a></span></li><li><span><a href=\"#Model-generation\" data-toc-modified-id=\"Model-generation-3.2\"><span class=\"toc-item-num\">3.2&nbsp;&nbsp;</span>Model generation</a></span></li></ul></li><li><span><a href=\"#Glove\" data-toc-modified-id=\"Glove-4\"><span class=\"toc-item-num\">4&nbsp;&nbsp;</span>Glove</a></span></li><li><span><a href=\"#FastText\" data-toc-modified-id=\"FastText-5\"><span class=\"toc-item-num\">5&nbsp;&nbsp;</span>FastText</a></span></li></ul></div>"
   ]
  },
  {
   "cell_type": "code",
   "execution_count": 1,
   "metadata": {},
   "outputs": [],
   "source": [
    "import gensim\n",
    "from gensim.models import Word2Vec\n",
    "import multiprocessing\n",
    "\n",
    "import nltk\n",
    "from nltk.corpus import movie_reviews\n",
    "\n",
    "import numpy as np\n",
    "import pandas as pd\n",
    "import matplotlib.pyplot as plt\n",
    "\n",
    "from pprint import pprint\n",
    "\n",
    "import pandas as pd\n",
    "\n",
    "# ignore all warnings\n",
    "import warnings\n",
    "warnings.simplefilter(\"ignore\")"
   ]
  },
  {
   "cell_type": "code",
   "execution_count": 2,
   "metadata": {
    "scrolled": true
   },
   "outputs": [],
   "source": [
    "# Once downloaded the packages comment\n",
    "#nltk.download()"
   ]
  },
  {
   "cell_type": "markdown",
   "metadata": {},
   "source": [
    "#  Word2vec (Google): news model"
   ]
  },
  {
   "cell_type": "code",
   "execution_count": 3,
   "metadata": {},
   "outputs": [],
   "source": [
    "# download google news vectors: https://drive.google.com/file/d/0B7XkCwpI5KDYNlNUTTlSS21pQmM/edit"
   ]
  },
  {
   "cell_type": "code",
   "execution_count": 4,
   "metadata": {},
   "outputs": [],
   "source": [
    "from gensim.models.keyedvectors import KeyedVectors\n",
    "gensim_model = KeyedVectors.load_word2vec_format(\n",
    "    'data/Word2Vec/GoogleNews-vectors-negative300.bin', binary=True, limit=300000)"
   ]
  },
  {
   "cell_type": "markdown",
   "metadata": {},
   "source": [
    "## Most similar words:"
   ]
  },
  {
   "cell_type": "code",
   "execution_count": 5,
   "metadata": {
    "scrolled": true
   },
   "outputs": [
    {
     "data": {
      "text/plain": [
       "[('February', 0.967593789100647),\n",
       " ('October', 0.9492780566215515),\n",
       " ('December', 0.9408604502677917),\n",
       " ('November', 0.9326644539833069),\n",
       " ('August', 0.9252052307128906),\n",
       " ('September', 0.9134545922279358),\n",
       " ('March', 0.8933349847793579),\n",
       " ('April', 0.8740777373313904),\n",
       " ('June', 0.8731662034988403),\n",
       " ('July', 0.8625510931015015)]"
      ]
     },
     "execution_count": 5,
     "metadata": {},
     "output_type": "execute_result"
    }
   ],
   "source": [
    "gensim_model.most_similar(positive=['January'])"
   ]
  },
  {
   "cell_type": "code",
   "execution_count": 6,
   "metadata": {},
   "outputs": [
    {
     "data": {
      "text/plain": [
       "0.8933086"
      ]
     },
     "execution_count": 6,
     "metadata": {},
     "output_type": "execute_result"
    }
   ],
   "source": [
    "gensim_model.similarity('father','son')"
   ]
  },
  {
   "cell_type": "markdown",
   "metadata": {},
   "source": [
    "## Combining Words:\n",
    "Since our words are represented as an array of floats, we can add some together and lookup what their combination is."
   ]
  },
  {
   "cell_type": "code",
   "execution_count": 7,
   "metadata": {},
   "outputs": [
    {
     "data": {
      "text/plain": [
       "[('biology', 0.5784977674484253),\n",
       " ('ecology', 0.5561812520027161),\n",
       " ('scientific', 0.5484973788261414),\n",
       " ('sciences', 0.5216706395149231),\n",
       " ('botany', 0.5139989852905273),\n",
       " ('physics', 0.4938763976097107),\n",
       " ('geography', 0.489334374666214),\n",
       " ('geology', 0.4885980486869812),\n",
       " ('mathematics', 0.4871952533721924),\n",
       " ('quantum_physics', 0.4866980314254761)]"
      ]
     },
     "execution_count": 7,
     "metadata": {},
     "output_type": "execute_result"
    }
   ],
   "source": [
    "gensim_model.most_similar(positive=['nature', 'science'])"
   ]
  },
  {
   "cell_type": "markdown",
   "metadata": {},
   "source": [
    "## Extracting the Odd word:\n",
    "Here, we ask our model to give us the word that does not belong to the list."
   ]
  },
  {
   "cell_type": "code",
   "execution_count": 8,
   "metadata": {},
   "outputs": [
    {
     "data": {
      "text/plain": [
       "'red'"
      ]
     },
     "execution_count": 8,
     "metadata": {},
     "output_type": "execute_result"
    }
   ],
   "source": [
    "gensim_model.doesnt_match(['city', 'london', 'red'])"
   ]
  },
  {
   "cell_type": "markdown",
   "metadata": {},
   "source": [
    "## Finding analogous words:\n",
    "We can do math with the embedding vectors for words to find analogies between words.\n",
    "\n",
    "king - man + woman = queen\n",
    "\n",
    "Paris - France + Germany = Berlin\n",
    "\n",
    "Tea - England + United_States = Coffee\n",
    "\n",
    "North - South + West = East"
   ]
  },
  {
   "cell_type": "code",
   "execution_count": 9,
   "metadata": {},
   "outputs": [
    {
     "data": {
      "text/plain": [
       "[('Queen', 0.5515626072883606),\n",
       " ('Princess', 0.4533674716949463),\n",
       " ('Queen_Elizabeth', 0.4327789545059204),\n",
       " ('queen', 0.4253097474575043),\n",
       " ('monarch', 0.41720181703567505),\n",
       " ('Empress', 0.4166426658630371),\n",
       " ('Spalding', 0.41134583950042725),\n",
       " ('reigning_monarch', 0.4030051827430725),\n",
       " ('Greene', 0.4013691842556),\n",
       " ('Jackson', 0.39542245864868164)]"
      ]
     },
     "execution_count": 9,
     "metadata": {},
     "output_type": "execute_result"
    }
   ],
   "source": [
    "gensim_model.most_similar(positive=['King', 'woman'], negative=['man'])"
   ]
  },
  {
   "cell_type": "code",
   "execution_count": 10,
   "metadata": {},
   "outputs": [
    {
     "data": {
      "text/plain": [
       "[('Berlin', 0.7644002437591553),\n",
       " ('Frankfurt', 0.7329736948013306),\n",
       " ('Dusseldorf', 0.7009457349777222),\n",
       " ('Munich', 0.6773864030838013),\n",
       " ('Cologne', 0.6470193266868591),\n",
       " ('Düsseldorf', 0.6399551630020142),\n",
       " ('Stuttgart', 0.6361044645309448),\n",
       " ('Munich_Germany', 0.6238142251968384),\n",
       " ('Budapest', 0.6192865371704102),\n",
       " ('Hamburg', 0.6168562769889832)]"
      ]
     },
     "execution_count": 10,
     "metadata": {},
     "output_type": "execute_result"
    }
   ],
   "source": [
    "gensim_model.most_similar(positive=['Paris', 'Germany'], negative=['France'])"
   ]
  },
  {
   "cell_type": "code",
   "execution_count": 11,
   "metadata": {},
   "outputs": [
    {
     "data": {
      "text/plain": [
       "[('Madrid', 0.7571903467178345),\n",
       " ('Barcelona', 0.6230698823928833),\n",
       " ('Seville', 0.5604878067970276),\n",
       " ('Buenos_Aires', 0.5557721853256226),\n",
       " ('Bilbao', 0.5505114793777466),\n",
       " ('Marrakesh', 0.5379421710968018),\n",
       " ('Valencia', 0.5292879343032837),\n",
       " ('Malaga', 0.5286388397216797),\n",
       " ('Málaga', 0.5119467973709106),\n",
       " ('Majorca', 0.5093432664871216)]"
      ]
     },
     "execution_count": 11,
     "metadata": {},
     "output_type": "execute_result"
    }
   ],
   "source": [
    "gensim_model.most_similar(\n",
    "    positive=['Paris', 'Spain'], \n",
    "    negative=['France'])"
   ]
  },
  {
   "cell_type": "code",
   "execution_count": 12,
   "metadata": {},
   "outputs": [
    {
     "data": {
      "text/plain": [
       "[('Coffee', 0.40512222051620483),\n",
       " ('Unites_States', 0.36414292454719543),\n",
       " ('tea', 0.3635876178741455),\n",
       " ('coffee', 0.3620995581150055),\n",
       " ('Teas', 0.3539789915084839),\n",
       " ('U.S.', 0.35077792406082153),\n",
       " ('Specialty_Coffee', 0.34735968708992004),\n",
       " ('teas', 0.3444087505340576),\n",
       " ('specialty_coffees', 0.3330366015434265),\n",
       " ('Untied_States', 0.3264850974082947)]"
      ]
     },
     "execution_count": 12,
     "metadata": {},
     "output_type": "execute_result"
    }
   ],
   "source": [
    "gensim_model.most_similar(positive=['Tea', 'United_States'], negative=['England'])"
   ]
  },
  {
   "cell_type": "code",
   "execution_count": 13,
   "metadata": {},
   "outputs": [
    {
     "data": {
      "text/plain": [
       "[('East', 0.6172999143600464),\n",
       " ('Central', 0.43742835521698),\n",
       " ('Hebron', 0.3680270314216614),\n",
       " ('Western', 0.36749526858329773),\n",
       " ('Northeast', 0.366566926240921),\n",
       " ('NORTH', 0.364694744348526),\n",
       " ('Northwest', 0.353318989276886),\n",
       " ('east', 0.3532946705818176),\n",
       " ('WEST', 0.349323570728302),\n",
       " ('FWL', 0.34146690368652344)]"
      ]
     },
     "execution_count": 13,
     "metadata": {},
     "output_type": "execute_result"
    }
   ],
   "source": [
    "gensim_model.most_similar(positive=['North', 'West'], negative=['South'])"
   ]
  },
  {
   "cell_type": "markdown",
   "metadata": {},
   "source": [
    "## t-SNE visualizations:\n",
    "t-SNE is a non-linear dimensionality reduction algorithm that attempts to represent high-dimensional data and the underlying relationships between vectors in a lower-dimensional space.\n",
    "\n",
    "Here is a good tutorial on it: https://medium.com/@luckylwk/visualising-high-dimensional-datasets-using-pca-and-t-sne-in-python-8ef87e7915b"
   ]
  },
  {
   "cell_type": "code",
   "execution_count": 14,
   "metadata": {},
   "outputs": [],
   "source": [
    "import numpy as np\n",
    "import matplotlib.pyplot as plt\n",
    "%matplotlib inline\n",
    " \n",
    "import seaborn as sns\n",
    "sns.set_style(\"darkgrid\")\n",
    "\n",
    "from sklearn.decomposition import PCA\n",
    "from sklearn.manifold import TSNE"
   ]
  },
  {
   "cell_type": "code",
   "execution_count": 15,
   "metadata": {},
   "outputs": [],
   "source": [
    "def tsnescatterplot(model, word, list_names):\n",
    "    \"\"\" Plot in seaborn the results from the t-SNE dimensionality reduction algorithm of the vectors of a query word,\n",
    "    its list of most similar words, and a list of words.\n",
    "    \"\"\"\n",
    "    arrays = np.empty((0, len(model.wv.__getitem__([word])[0])), dtype='f')\n",
    "    word_labels = [word]\n",
    "    color_list  = ['red']\n",
    "\n",
    "    # adds the vector of the query word\n",
    "    arrays = np.append(arrays, model.wv.__getitem__([word]), axis=0)\n",
    "    \n",
    "    # gets list of most similar words\n",
    "    close_words = model.wv.most_similar([word])\n",
    "    \n",
    "    # adds the vector for each of the closest words to the array\n",
    "    for wrd_score in close_words:\n",
    "        if (wrd_score[0] not in list_names):\n",
    "            wrd_vector = model.wv.__getitem__([wrd_score[0]])\n",
    "            word_labels.append(wrd_score[0])\n",
    "            color_list.append('blue')\n",
    "            arrays = np.append(arrays, wrd_vector, axis=0)\n",
    "    \n",
    "    # adds the vector for each of the words from list_names to the array\n",
    "    for wrd in list_names:\n",
    "        wrd_vector = model.wv.__getitem__([wrd])\n",
    "        word_labels.append(wrd)\n",
    "        color_list.append('green')\n",
    "        arrays = np.append(arrays, wrd_vector, axis=0)\n",
    "        \n",
    "    # Reduces the dimensionality from 300 to 50 dimensions with PCA\n",
    "    reduc = PCA(n_components=13).fit_transform(arrays)\n",
    "    \n",
    "    # Finds t-SNE coordinates for 2 dimensions\n",
    "    np.set_printoptions(suppress=True)\n",
    "    \n",
    "    Y = TSNE(n_components=2, random_state=0, perplexity=15).fit_transform(arrays)\n",
    "    \n",
    "    # Sets everything up to plot\n",
    "    df = pd.DataFrame({'x': [x for x in Y[:, 0]],\n",
    "                       'y': [y for y in Y[:, 1]],\n",
    "                       'words': word_labels,\n",
    "                       'color': color_list})\n",
    "    \n",
    "    fig, _ = plt.subplots()\n",
    "    fig.set_size_inches(9, 9)\n",
    "    \n",
    "    # Basic plot\n",
    "    p1 = sns.regplot(data=df,\n",
    "                     x=\"x\",\n",
    "                     y=\"y\",\n",
    "                     fit_reg=False,\n",
    "                     marker=\"o\",\n",
    "                     scatter_kws={'s': 40,\n",
    "                                  'facecolors': df['color']\n",
    "                                 }\n",
    "                    )\n",
    "    \n",
    "    # Adds annotations one by one with a loop\n",
    "    for line in range(0, df.shape[0]):\n",
    "         p1.text(df[\"x\"][line],\n",
    "                 df['y'][line],\n",
    "                 '  ' + df[\"words\"][line].title(),\n",
    "                 horizontalalignment='left',\n",
    "                 verticalalignment='bottom', size='medium',\n",
    "                 color=df['color'][line],\n",
    "                 weight='normal'\n",
    "                ).set_size(15)\n",
    "\n",
    "    \n",
    "    plt.xlim(Y[:, 0].min()-50, Y[:, 0].max()+50)\n",
    "    plt.ylim(Y[:, 1].min()-50, Y[:, 1].max()+50)\n",
    "            \n",
    "    plt.title('t-SNE visualization for {}'.format(word.title()))"
   ]
  },
  {
   "cell_type": "code",
   "execution_count": 16,
   "metadata": {},
   "outputs": [
    {
     "data": {
      "image/png": "[encoded data removed]",
      "text/plain": [
       "<Figure size 648x648 with 1 Axes>"
      ]
     },
     "metadata": {},
     "output_type": "display_data"
    }
   ],
   "source": [
    "tsnescatterplot(gensim_model, 'king', ['man', 'woman', 'queen'])"
   ]
  },
  {
   "cell_type": "code",
   "execution_count": 17,
   "metadata": {},
   "outputs": [
    {
     "data": {
      "text/plain": [
       "[('queen', 0.7118192911148071),\n",
       " ('monarch', 0.6189674139022827),\n",
       " ('princess', 0.5902431607246399),\n",
       " ('crown_prince', 0.5499460697174072),\n",
       " ('prince', 0.5377321243286133),\n",
       " ('kings', 0.5236844420433044),\n",
       " ('queens', 0.5181134343147278),\n",
       " ('sultan', 0.5098593235015869),\n",
       " ('monarchy', 0.5087411999702454),\n",
       " ('royal_palace', 0.5087165832519531)]"
      ]
     },
     "execution_count": 17,
     "metadata": {},
     "output_type": "execute_result"
    }
   ],
   "source": [
    "gensim_model.most_similar(positive=['king', 'woman'], negative=['man'])"
   ]
  },
  {
   "cell_type": "markdown",
   "metadata": {},
   "source": [
    "# Creating word2vec from your own text data"
   ]
  },
  {
   "cell_type": "markdown",
   "metadata": {},
   "source": [
    "## Dataset\n",
    "Movie reviews dataset"
   ]
  },
  {
   "cell_type": "code",
   "execution_count": 18,
   "metadata": {},
   "outputs": [
    {
     "data": {
      "text/plain": [
       "'the characters and acting is nothing spectacular , sometimes even bordering on wooden .'"
      ]
     },
     "execution_count": 18,
     "metadata": {},
     "output_type": "execute_result"
    }
   ],
   "source": [
    "' '.join(movie_reviews.sents()[70])"
   ]
  },
  {
   "cell_type": "code",
   "execution_count": 19,
   "metadata": {},
   "outputs": [
    {
     "data": {
      "text/plain": [
       "[['plot', ':', 'two', 'teen', 'couples', 'go', 'to', 'a', 'church', 'party', ',', 'drink', 'and', 'then', 'drive', '.'], ['they', 'get', 'into', 'an', 'accident', '.'], ...]"
      ]
     },
     "execution_count": 19,
     "metadata": {},
     "output_type": "execute_result"
    }
   ],
   "source": [
    "movie_reviews.sents()"
   ]
  },
  {
   "cell_type": "markdown",
   "metadata": {},
   "source": [
    "## Create word2vec"
   ]
  },
  {
   "cell_type": "markdown",
   "metadata": {},
   "source": [
    "The parameters:\n",
    "   * **min_count** = int - Ignores all words with total absolute frequency lower than this - (2, 100)\n",
    "   * **window** = int - The maximum distance between the current and predicted word within a sentence. E.g.window words on the left and window words on the left of our target - (2, 10)\n",
    "   * **size** = int - Dimensionality of the feature vectors. - (50, 300)\n",
    "   * **sample** = float - The threshold for configuring which higher-frequency words are randomly downsampled. Highly influencial. - (0, 1e-5)\n",
    "   * **alpha** = float - The initial learning rate - (0.01, 0.05)\n",
    "   * **min_alpha** = float - Learning rate will linearly drop to min_alpha as training progresses. To set it: alpha - (min_alpha * epochs) ~ 0.00\n",
    "   * **negative** = int - If > 0, negative sampling will be used, the int for negative specifies how many \"noise words\" should be drown. If set to 0, no negative sampling is used. - (5, 20)\n",
    "   * **workers** = int - Use these many worker threads to train the model (=faster training with multicore machines)"
   ]
  },
  {
   "cell_type": "code",
   "execution_count": 20,
   "metadata": {},
   "outputs": [],
   "source": [
    "model_movie = Word2Vec(min_count=10,\n",
    "                       window=4,\n",
    "                       size=300,\n",
    "                       sample=6e-5, \n",
    "                       alpha=0.03, \n",
    "                       min_alpha=0.0007, \n",
    "                       negative=20,\n",
    "                       workers=multiprocessing.cpu_count()-1)\n",
    "model_movie.build_vocab(movie_reviews.sents())"
   ]
  },
  {
   "cell_type": "code",
   "execution_count": 21,
   "metadata": {},
   "outputs": [],
   "source": [
    "model_movie = gensim.models.Word2Vec(movie_reviews.sents())"
   ]
  },
  {
   "cell_type": "markdown",
   "metadata": {},
   "source": [
    "## Exploring the model\n",
    "### Most similar word:\n",
    "Here, we will ask our model to find the most similar words to the given ones according to the movie sentences with we have trained the model."
   ]
  },
  {
   "cell_type": "code",
   "execution_count": 22,
   "metadata": {
    "scrolled": true
   },
   "outputs": [
    {
     "data": {
      "text/plain": [
       "[('actress', 0.8865917921066284),\n",
       " ('oscar', 0.7927178740501404),\n",
       " ('performance', 0.790103554725647),\n",
       " ('villain', 0.7525976300239563),\n",
       " ('role', 0.7498910427093506),\n",
       " ('talented', 0.6860232353210449),\n",
       " ('award', 0.680846631526947),\n",
       " ('career', 0.6757906675338745),\n",
       " ('nomination', 0.6745494604110718),\n",
       " ('director', 0.6662296652793884)]"
      ]
     },
     "execution_count": 22,
     "metadata": {},
     "output_type": "execute_result"
    }
   ],
   "source": [
    "model_movie.most_similar('actor')"
   ]
  },
  {
   "cell_type": "code",
   "execution_count": 23,
   "metadata": {},
   "outputs": [
    {
     "data": {
      "text/plain": [
       "[('hotel', 0.8660587072372437),\n",
       " ('wedding', 0.861059308052063),\n",
       " ('apartment', 0.8545748591423035),\n",
       " ('body', 0.852483332157135),\n",
       " ('country', 0.8501924276351929),\n",
       " ('station', 0.847441554069519),\n",
       " ('local', 0.8396389484405518),\n",
       " ('bar', 0.8390305638313293),\n",
       " ('company', 0.8387610912322998),\n",
       " ('party', 0.8383929133415222)]"
      ]
     },
     "execution_count": 23,
     "metadata": {},
     "output_type": "execute_result"
    }
   ],
   "source": [
    "model_movie.most_similar('house')"
   ]
  },
  {
   "cell_type": "code",
   "execution_count": 24,
   "metadata": {},
   "outputs": [
    {
     "data": {
      "text/plain": [
       "[('drama', 0.8547757863998413),\n",
       " ('thriller', 0.837548017501831),\n",
       " ('flick', 0.7724502086639404),\n",
       " ('picture', 0.7625644207000732),\n",
       " ('genre', 0.7360590696334839),\n",
       " ('entertainment', 0.735495924949646),\n",
       " ('piece', 0.7270241975784302),\n",
       " ('premise', 0.7259466648101807),\n",
       " ('concept', 0.7027179598808289),\n",
       " ('adventure', 0.69044429063797)]"
      ]
     },
     "execution_count": 24,
     "metadata": {},
     "output_type": "execute_result"
    }
   ],
   "source": [
    "model_movie.most_similar('comedy')"
   ]
  },
  {
   "cell_type": "markdown",
   "metadata": {},
   "source": [
    "Here, we will see how similar are two words to each other:"
   ]
  },
  {
   "cell_type": "code",
   "execution_count": 25,
   "metadata": {},
   "outputs": [
    {
     "data": {
      "text/plain": [
       "0.7924944"
      ]
     },
     "execution_count": 25,
     "metadata": {},
     "output_type": "execute_result"
    }
   ],
   "source": [
    "model_movie.similarity('thriller','genre')"
   ]
  },
  {
   "cell_type": "code",
   "execution_count": 26,
   "metadata": {},
   "outputs": [
    {
     "data": {
      "text/plain": [
       "0.94489396"
      ]
     },
     "execution_count": 26,
     "metadata": {},
     "output_type": "execute_result"
    }
   ],
   "source": [
    "model_movie.similarity('movie','film')"
   ]
  },
  {
   "cell_type": "code",
   "execution_count": 27,
   "metadata": {},
   "outputs": [
    {
     "data": {
      "text/plain": [
       "0.28958678"
      ]
     },
     "execution_count": 27,
     "metadata": {},
     "output_type": "execute_result"
    }
   ],
   "source": [
    "model_movie.similarity('theater','tree')"
   ]
  },
  {
   "cell_type": "code",
   "execution_count": 28,
   "metadata": {},
   "outputs": [
    {
     "data": {
      "text/plain": [
       "[('drama', 0.8877258896827698),\n",
       " ('flick', 0.8658602237701416),\n",
       " ('genre', 0.797344982624054),\n",
       " ('adventure', 0.792270839214325),\n",
       " ('picture', 0.7894028425216675),\n",
       " ('entertainment', 0.7574745416641235),\n",
       " ('piece', 0.7522749900817871),\n",
       " ('sci', 0.7392431497573853),\n",
       " ('concept', 0.7387115955352783),\n",
       " ('premise', 0.7366804480552673)]"
      ]
     },
     "execution_count": 28,
     "metadata": {},
     "output_type": "execute_result"
    }
   ],
   "source": [
    "model_movie.most_similar(positive=['thriller', 'comedy'])"
   ]
  },
  {
   "cell_type": "markdown",
   "metadata": {},
   "source": [
    "### Odd-One-Out:\n",
    "Here, we ask our model to give us the word that does not belong to the list!\n",
    "\n",
    "Between actor, actress and runner who is the one that doesn't belong to the others?"
   ]
  },
  {
   "cell_type": "code",
   "execution_count": 29,
   "metadata": {},
   "outputs": [
    {
     "data": {
      "text/plain": [
       "'runner'"
      ]
     },
     "execution_count": 29,
     "metadata": {},
     "output_type": "execute_result"
    }
   ],
   "source": [
    "model_movie.wv.doesnt_match(['actor', 'actress', 'runner'])"
   ]
  },
  {
   "cell_type": "markdown",
   "metadata": {},
   "source": [
    "### Finding analogous words:\n",
    "Which word is to actor as men is to women?"
   ]
  },
  {
   "cell_type": "code",
   "execution_count": 30,
   "metadata": {},
   "outputs": [
    {
     "data": {
      "text/plain": [
       "[('actress', 0.8765718340873718),\n",
       " ('oscar', 0.7806535959243774),\n",
       " ('performance', 0.7495431900024414),\n",
       " ('role', 0.7184998393058777),\n",
       " ('poor', 0.7074236869812012),\n",
       " ('talented', 0.6931906342506409),\n",
       " ('villain', 0.6930149793624878),\n",
       " ('award', 0.6860237717628479),\n",
       " ('attractive', 0.6788123846054077),\n",
       " ('janitor', 0.6782009601593018)]"
      ]
     },
     "execution_count": 30,
     "metadata": {},
     "output_type": "execute_result"
    }
   ],
   "source": [
    "model_movie.most_similar(positive=['actor', 'woman'], negative=['man'])"
   ]
  },
  {
   "cell_type": "markdown",
   "metadata": {},
   "source": [
    "<img src=\"images/simpsons.jpg\" width=\"800\">"
   ]
  },
  {
   "cell_type": "markdown",
   "metadata": {},
   "source": [
    "# Simpsons"
   ]
  },
  {
   "cell_type": "markdown",
   "metadata": {},
   "source": [
    "## Data loading"
   ]
  },
  {
   "cell_type": "code",
   "execution_count": 32,
   "metadata": {},
   "outputs": [
    {
     "name": "stdout",
     "output_type": "stream",
     "text": [
      "<class 'pandas.core.frame.DataFrame'>\n",
      "RangeIndex: 136961 entries, 0 to 136960\n",
      "Data columns (total 2 columns):\n",
      "Unnamed: 0    136961 non-null int64\n",
      "clean         136961 non-null object\n",
      "dtypes: int64(1), object(1)\n",
      "memory usage: 2.1+ MB\n"
     ]
    },
    {
     "data": {
      "text/html": [
       "<div>\n",
       "<style scoped>\n",
       "    .dataframe tbody tr th:only-of-type {\n",
       "        vertical-align: middle;\n",
       "    }\n",
       "\n",
       "    .dataframe tbody tr th {\n",
       "        vertical-align: top;\n",
       "    }\n",
       "\n",
       "    .dataframe thead th {\n",
       "        text-align: right;\n",
       "    }\n",
       "</style>\n",
       "<table border=\"1\" class=\"dataframe\">\n",
       "  <thead>\n",
       "    <tr style=\"text-align: right;\">\n",
       "      <th></th>\n",
       "      <th>Unnamed: 0</th>\n",
       "      <th>clean</th>\n",
       "    </tr>\n",
       "  </thead>\n",
       "  <tbody>\n",
       "    <tr>\n",
       "      <td>0</td>\n",
       "      <td>0</td>\n",
       "      <td>miss hoover actually little disease magazine n...</td>\n",
       "    </tr>\n",
       "    <tr>\n",
       "      <td>1</td>\n",
       "      <td>1</td>\n",
       "      <td>lisa simpson near tear mr bergstrom</td>\n",
       "    </tr>\n",
       "    <tr>\n",
       "      <td>2</td>\n",
       "      <td>2</td>\n",
       "      <td>miss hoover know sure like talk touch lesson p...</td>\n",
       "    </tr>\n",
       "    <tr>\n",
       "      <td>3</td>\n",
       "      <td>3</td>\n",
       "      <td>lisa simpson life worth live</td>\n",
       "    </tr>\n",
       "    <tr>\n",
       "      <td>4</td>\n",
       "      <td>4</td>\n",
       "      <td>edna krabappel flander poll open end recess so...</td>\n",
       "    </tr>\n",
       "  </tbody>\n",
       "</table>\n",
       "</div>"
      ],
      "text/plain": [
       "   Unnamed: 0                                              clean\n",
       "0           0  miss hoover actually little disease magazine n...\n",
       "1           1                lisa simpson near tear mr bergstrom\n",
       "2           2  miss hoover know sure like talk touch lesson p...\n",
       "3           3                       lisa simpson life worth live\n",
       "4           4  edna krabappel flander poll open end recess so..."
      ]
     },
     "execution_count": 32,
     "metadata": {},
     "output_type": "execute_result"
    }
   ],
   "source": [
    "df_clean = pd.read_csv('data/simpsons_cleaned.csv')\n",
    "df_clean.info()\n",
    "df_clean.head()"
   ]
  },
  {
   "cell_type": "code",
   "execution_count": 33,
   "metadata": {},
   "outputs": [],
   "source": [
    "# Split each sentence into words\n",
    "sent = [row.split() for row in df_clean['clean']]"
   ]
  },
  {
   "cell_type": "markdown",
   "metadata": {},
   "source": [
    "## Model generation"
   ]
  },
  {
   "cell_type": "code",
   "execution_count": 34,
   "metadata": {},
   "outputs": [],
   "source": [
    "model_simpsons = gensim.models.Word2Vec(sent)"
   ]
  },
  {
   "cell_type": "code",
   "execution_count": 35,
   "metadata": {},
   "outputs": [
    {
     "data": {
      "text/plain": [
       "[('grampa', 0.741596519947052),\n",
       " ('bart', 0.682362973690033),\n",
       " ('marge', 0.6511828899383545),\n",
       " ('homie', 0.6250184774398804),\n",
       " ('sweetie', 0.6154177784919739),\n",
       " ('honey', 0.5923716425895691),\n",
       " ('lisa', 0.570300817489624),\n",
       " ('maggie', 0.5569264888763428),\n",
       " ('mona', 0.5537084341049194),\n",
       " ('abe', 0.5533595681190491)]"
      ]
     },
     "execution_count": 35,
     "metadata": {},
     "output_type": "execute_result"
    }
   ],
   "source": [
    "model_simpsons.wv.most_similar(positive=[\"homer\"])"
   ]
  },
  {
   "cell_type": "code",
   "execution_count": 36,
   "metadata": {
    "scrolled": true
   },
   "outputs": [
    {
     "data": {
      "text/plain": [
       "[('honey', 0.755206823348999),\n",
       " ('homie', 0.7283255457878113),\n",
       " ('sweetie', 0.691797137260437),\n",
       " ('maggie', 0.6801862716674805),\n",
       " ('mona', 0.6628449559211731),\n",
       " ('homer', 0.6511828899383545),\n",
       " ('sweetly', 0.6279177665710449),\n",
       " ('lisa', 0.6270251274108887),\n",
       " ('grampa', 0.6251136064529419),\n",
       " ('marriage', 0.6000243425369263)]"
      ]
     },
     "execution_count": 36,
     "metadata": {},
     "output_type": "execute_result"
    }
   ],
   "source": [
    "model_simpsons.wv.most_similar([\"marge\"])"
   ]
  },
  {
   "cell_type": "code",
   "execution_count": 37,
   "metadata": {},
   "outputs": [
    {
     "data": {
      "text/plain": [
       "[('lisa', 0.8554328083992004),\n",
       " ('mom', 0.7041559815406799),\n",
       " ('homer', 0.682362973690033),\n",
       " ('lis', 0.6693547964096069),\n",
       " ('milhouse', 0.651136040687561),\n",
       " ('dad', 0.6486465334892273),\n",
       " ('grampa', 0.6039139032363892),\n",
       " ('cool', 0.5732205510139465),\n",
       " ('quit', 0.5728685855865479),\n",
       " ('devastating', 0.5637422800064087)]"
      ]
     },
     "execution_count": 37,
     "metadata": {},
     "output_type": "execute_result"
    }
   ],
   "source": [
    "model_simpsons.wv.most_similar(positive=[\"bart\"])"
   ]
  },
  {
   "cell_type": "code",
   "execution_count": 38,
   "metadata": {},
   "outputs": [
    {
     "data": {
      "text/plain": [
       "0.6520385"
      ]
     },
     "execution_count": 38,
     "metadata": {},
     "output_type": "execute_result"
    }
   ],
   "source": [
    "model_simpsons.wv.similarity('maggie', 'baby')"
   ]
  },
  {
   "cell_type": "code",
   "execution_count": 39,
   "metadata": {
    "scrolled": true
   },
   "outputs": [
    {
     "data": {
      "text/plain": [
       "0.45415154"
      ]
     },
     "execution_count": 39,
     "metadata": {},
     "output_type": "execute_result"
    }
   ],
   "source": [
    "model_simpsons.wv.similarity('bart', 'nelson')"
   ]
  },
  {
   "cell_type": "code",
   "execution_count": 40,
   "metadata": {},
   "outputs": [
    {
     "data": {
      "text/plain": [
       "'milhouse'"
      ]
     },
     "execution_count": 40,
     "metadata": {},
     "output_type": "execute_result"
    }
   ],
   "source": [
    "model_simpsons.wv.doesnt_match(['jimbo', 'milhouse', 'kearney'])\n"
   ]
  },
  {
   "cell_type": "code",
   "execution_count": 41,
   "metadata": {},
   "outputs": [
    {
     "data": {
      "text/plain": [
       "'homer'"
      ]
     },
     "execution_count": 41,
     "metadata": {},
     "output_type": "execute_result"
    }
   ],
   "source": [
    "model_simpsons.wv.doesnt_match(['homer', 'patty', 'selma'])\n"
   ]
  },
  {
   "cell_type": "code",
   "execution_count": 42,
   "metadata": {},
   "outputs": [
    {
     "data": {
      "text/plain": [
       "[('grampa', 0.6526370048522949),\n",
       " ('marge', 0.6265760660171509),\n",
       " ('bart', 0.5434914827346802)]"
      ]
     },
     "execution_count": 42,
     "metadata": {},
     "output_type": "execute_result"
    }
   ],
   "source": [
    "model_simpsons.wv.most_similar(positive=[\"man\", \"homer\"], negative=[\"old\"], topn=3)\n"
   ]
  },
  {
   "cell_type": "code",
   "execution_count": 43,
   "metadata": {
    "scrolled": true
   },
   "outputs": [
    {
     "data": {
      "text/plain": [
       "[('lisa', 0.7851750254631042),\n",
       " ('maggie', 0.5999582409858704),\n",
       " ('homie', 0.5956891775131226)]"
      ]
     },
     "execution_count": 43,
     "metadata": {},
     "output_type": "execute_result"
    }
   ],
   "source": [
    "model_simpsons.wv.most_similar(positive=[\"woman\", \"bart\"], negative=[\"man\"], topn=3)\n"
   ]
  },
  {
   "cell_type": "code",
   "execution_count": 44,
   "metadata": {},
   "outputs": [
    {
     "data": {
      "text/plain": [
       "[('homie', 0.7161110043525696),\n",
       " ('marge', 0.6922812461853027),\n",
       " ('honey', 0.6260775923728943)]"
      ]
     },
     "execution_count": 44,
     "metadata": {},
     "output_type": "execute_result"
    }
   ],
   "source": [
    "model_simpsons.wv.most_similar(positive=[\"homer\", \"woman\"], negative=[\"man\"], topn=3)\n"
   ]
  },
  {
   "cell_type": "markdown",
   "metadata": {},
   "source": [
    "# Glove"
   ]
  },
  {
   "cell_type": "code",
   "execution_count": 45,
   "metadata": {},
   "outputs": [],
   "source": [
    "import numpy as np"
   ]
  },
  {
   "cell_type": "code",
   "execution_count": 46,
   "metadata": {},
   "outputs": [],
   "source": [
    "la = np.linalg"
   ]
  },
  {
   "cell_type": "code",
   "execution_count": 47,
   "metadata": {},
   "outputs": [],
   "source": [
    "import numpy as np\n",
    "import pandas as pd\n",
    "\n",
    "def create_cooccurrence_matrix(sentences, window_size=1):\n",
    "    \"\"\"Create co occurrence matrix from given list of sentences.\n",
    "\n",
    "    Returns:\n",
    "    - vocabs: dictionary of word counts\n",
    "    - co_occ_matrix_sparse: sparse co occurrence matrix\n",
    "\n",
    "    Example:\n",
    "    ===========\n",
    "    sentences = ['I love nlp',    'I love to learn',\n",
    "                 'nlp is future', 'nlp is cool']\n",
    "\n",
    "    vocabs,co_occ = create_cooccurrence_matrix(sentences)\n",
    "\n",
    "    df_co_occ  = pd.DataFrame(co_occ.todense(),\n",
    "                              index=voc.keys(),\n",
    "                              columns = voc.keys())\n",
    "\n",
    "    df_co_occ = df_co_occ.sort_index()[sorted(vocabs.keys())]\n",
    "\n",
    "    df_co_occ.style.applymap(lambda x: 'color: red' if x>0 else '')\n",
    "\n",
    "    \"\"\"\n",
    "    import scipy\n",
    "    import nltk\n",
    "\n",
    "    vocabulary = {}\n",
    "    data = []\n",
    "    row = []\n",
    "    col = []\n",
    "\n",
    "    tokenizer = nltk.tokenize.word_tokenize\n",
    "\n",
    "    for sentence in sentences:\n",
    "        sentence = sentence.strip()\n",
    "        tokens = [token for token in tokenizer(sentence) if token != u\"\"]\n",
    "        for pos, token in enumerate(tokens):\n",
    "            i = vocabulary.setdefault(token, len(vocabulary))\n",
    "            start = max(0, pos-window_size)\n",
    "            end = min(len(tokens), pos+window_size+1)\n",
    "            for pos2 in range(start, end):\n",
    "                if pos2 == pos:\n",
    "                    continue\n",
    "                j = vocabulary.setdefault(tokens[pos2], len(vocabulary))\n",
    "                data.append(1.)\n",
    "                row.append(i)\n",
    "                col.append(j)\n",
    "\n",
    "    cooccurrence_matrix_sparse = scipy.sparse.coo_matrix((data, (row, col)))\n",
    "    return vocabulary, cooccurrence_matrix_sparse"
   ]
  },
  {
   "cell_type": "code",
   "execution_count": 48,
   "metadata": {},
   "outputs": [],
   "source": [
    "sentences = ['I like deep learning', 'I like NLP', 'I enjoy flying']"
   ]
  },
  {
   "cell_type": "code",
   "execution_count": 49,
   "metadata": {},
   "outputs": [
    {
     "data": {
      "text/html": [
       "<div>\n",
       "<style scoped>\n",
       "    .dataframe tbody tr th:only-of-type {\n",
       "        vertical-align: middle;\n",
       "    }\n",
       "\n",
       "    .dataframe tbody tr th {\n",
       "        vertical-align: top;\n",
       "    }\n",
       "\n",
       "    .dataframe thead th {\n",
       "        text-align: right;\n",
       "    }\n",
       "</style>\n",
       "<table border=\"1\" class=\"dataframe\">\n",
       "  <thead>\n",
       "    <tr style=\"text-align: right;\">\n",
       "      <th></th>\n",
       "      <th>I</th>\n",
       "      <th>like</th>\n",
       "      <th>deep</th>\n",
       "      <th>learning</th>\n",
       "      <th>NLP</th>\n",
       "      <th>enjoy</th>\n",
       "      <th>flying</th>\n",
       "    </tr>\n",
       "  </thead>\n",
       "  <tbody>\n",
       "    <tr>\n",
       "      <td>I</td>\n",
       "      <td>0.0</td>\n",
       "      <td>2.0</td>\n",
       "      <td>0.0</td>\n",
       "      <td>0.0</td>\n",
       "      <td>0.0</td>\n",
       "      <td>1.0</td>\n",
       "      <td>0.0</td>\n",
       "    </tr>\n",
       "    <tr>\n",
       "      <td>like</td>\n",
       "      <td>2.0</td>\n",
       "      <td>0.0</td>\n",
       "      <td>1.0</td>\n",
       "      <td>0.0</td>\n",
       "      <td>1.0</td>\n",
       "      <td>0.0</td>\n",
       "      <td>0.0</td>\n",
       "    </tr>\n",
       "    <tr>\n",
       "      <td>deep</td>\n",
       "      <td>0.0</td>\n",
       "      <td>1.0</td>\n",
       "      <td>0.0</td>\n",
       "      <td>1.0</td>\n",
       "      <td>0.0</td>\n",
       "      <td>0.0</td>\n",
       "      <td>0.0</td>\n",
       "    </tr>\n",
       "    <tr>\n",
       "      <td>learning</td>\n",
       "      <td>0.0</td>\n",
       "      <td>0.0</td>\n",
       "      <td>1.0</td>\n",
       "      <td>0.0</td>\n",
       "      <td>0.0</td>\n",
       "      <td>0.0</td>\n",
       "      <td>0.0</td>\n",
       "    </tr>\n",
       "    <tr>\n",
       "      <td>NLP</td>\n",
       "      <td>0.0</td>\n",
       "      <td>1.0</td>\n",
       "      <td>0.0</td>\n",
       "      <td>0.0</td>\n",
       "      <td>0.0</td>\n",
       "      <td>0.0</td>\n",
       "      <td>0.0</td>\n",
       "    </tr>\n",
       "    <tr>\n",
       "      <td>enjoy</td>\n",
       "      <td>1.0</td>\n",
       "      <td>0.0</td>\n",
       "      <td>0.0</td>\n",
       "      <td>0.0</td>\n",
       "      <td>0.0</td>\n",
       "      <td>0.0</td>\n",
       "      <td>1.0</td>\n",
       "    </tr>\n",
       "    <tr>\n",
       "      <td>flying</td>\n",
       "      <td>0.0</td>\n",
       "      <td>0.0</td>\n",
       "      <td>0.0</td>\n",
       "      <td>0.0</td>\n",
       "      <td>0.0</td>\n",
       "      <td>1.0</td>\n",
       "      <td>0.0</td>\n",
       "    </tr>\n",
       "  </tbody>\n",
       "</table>\n",
       "</div>"
      ],
      "text/plain": [
       "            I  like  deep  learning  NLP  enjoy  flying\n",
       "I         0.0   2.0   0.0       0.0  0.0    1.0     0.0\n",
       "like      2.0   0.0   1.0       0.0  1.0    0.0     0.0\n",
       "deep      0.0   1.0   0.0       1.0  0.0    0.0     0.0\n",
       "learning  0.0   0.0   1.0       0.0  0.0    0.0     0.0\n",
       "NLP       0.0   1.0   0.0       0.0  0.0    0.0     0.0\n",
       "enjoy     1.0   0.0   0.0       0.0  0.0    0.0     1.0\n",
       "flying    0.0   0.0   0.0       0.0  0.0    1.0     0.0"
      ]
     },
     "execution_count": 49,
     "metadata": {},
     "output_type": "execute_result"
    }
   ],
   "source": [
    "voc, co_occ = create_cooccurrence_matrix(sentences)\n",
    "\n",
    "df_co_occ  = pd.DataFrame(co_occ.todense(),\n",
    "                          index=voc.keys(),\n",
    "                          columns = voc.keys())\n",
    "\n",
    "X = df_co_occ.to_numpy()\n",
    "df_co_occ\n",
    "#df_co_occ = df_co_occ.sort_index()[sorted(vocabs.keys())]"
   ]
  },
  {
   "cell_type": "code",
   "execution_count": 50,
   "metadata": {},
   "outputs": [
    {
     "data": {
      "text/plain": [
       "array([[ 0.        ,  0.83405726, -0.        ,  0.28541038,  0.17392303,\n",
       "        -0.16116302, -0.40824829],\n",
       "       [-0.91675668,  0.        , -0.23180398, -0.        ,  0.22110659,\n",
       "         0.23861261,  0.        ],\n",
       "       [ 0.        ,  0.40533547,  0.00000001, -0.65309526, -0.46919443,\n",
       "         0.43477158, -0.        ],\n",
       "       [-0.15351016,  0.        , -0.54739786, -0.00000001, -0.55916043,\n",
       "        -0.60343171, -0.        ],\n",
       "       [ 0.        ,  0.34719752,  0.        , -0.19428866,  0.30688006,\n",
       "        -0.28436554,  0.81649658],\n",
       "       [-0.36877068,  0.        ,  0.80412841,  0.00000001, -0.31690192,\n",
       "        -0.34199248, -0.        ],\n",
       "       [ 0.        ,  0.13966221, -0.00000001,  0.6739877 , -0.43983708,\n",
       "         0.40756806,  0.40824829]])"
      ]
     },
     "execution_count": 50,
     "metadata": {},
     "output_type": "execute_result"
    }
   ],
   "source": [
    "U, s, Vh = la.svd(X, full_matrices = False)\n",
    "U"
   ]
  },
  {
   "cell_type": "code",
   "execution_count": 51,
   "metadata": {},
   "outputs": [
    {
     "data": {
      "image/png": "[encoded data removed]",
      "text/plain": [
       "<Figure size 432x288 with 1 Axes>"
      ]
     },
     "metadata": {},
     "output_type": "display_data"
    }
   ],
   "source": [
    "plt.axis([-1, 0.3, -0.6, 0.9])\n",
    "for i in range(len(df_co_occ.columns)):\n",
    "    plt.text(U[i, 0], U[i, 1], df_co_occ.columns[i])"
   ]
  },
  {
   "cell_type": "markdown",
   "metadata": {},
   "source": [
    "# FastText"
   ]
  },
  {
   "cell_type": "code",
   "execution_count": 52,
   "metadata": {},
   "outputs": [],
   "source": [
    "from gensim.models import FastText"
   ]
  },
  {
   "cell_type": "markdown",
   "metadata": {},
   "source": [
    "The parameters:\n",
    "\n",
    "   * **sentences (iterable of list of str, optional)** – Can be simply a list of lists of tokens, but for larger corpora, consider an iterable that streams the sentences directly from disk/network. See BrownCorpus, Text8Corpus or LineSentence in word2vec module for such examples. If you don’t supply sentences, the model is left uninitialized – use if you plan to initialize it in some other way.\n",
    "   * **size (int, optional)** – Dimensionality of the word vectors.\n",
    "   * **window (int, optional)** – The maximum distance between the current and predicted word within a sentence.\n",
    "   * **min_count (int, optional)** – The model ignores all words with total frequency lower than this.\n",
    "   * **workers (int, optional)** – Use these many worker threads to train the model (=faster training with multicore machines).\n",
    "   * **min_n (int, optional)** – Minimum length of char n-grams to be used for training word representations.\n",
    "   * **max_n (int, optional)** – Max length of char ngrams to be used for training word representations. Set max_n to be lesser than min_n to avoid char ngrams being used."
   ]
  },
  {
   "cell_type": "code",
   "execution_count": 53,
   "metadata": {},
   "outputs": [],
   "source": [
    "ft_model = FastText(sentences=movie_reviews.sents(), size=100, window=5, min_count=150, workers=4, min_n=3, max_n=10)"
   ]
  },
  {
   "cell_type": "code",
   "execution_count": 54,
   "metadata": {},
   "outputs": [
    {
     "data": {
      "text/plain": [
       "[('actress', 0.8865917921066284),\n",
       " ('oscar', 0.7927178740501404),\n",
       " ('performance', 0.790103554725647),\n",
       " ('villain', 0.7525976300239563),\n",
       " ('role', 0.7498910427093506),\n",
       " ('talented', 0.6860232353210449),\n",
       " ('award', 0.680846631526947),\n",
       " ('career', 0.6757906675338745),\n",
       " ('nomination', 0.6745494604110718),\n",
       " ('director', 0.6662296652793884)]"
      ]
     },
     "execution_count": 54,
     "metadata": {},
     "output_type": "execute_result"
    }
   ],
   "source": [
    "model_movie.most_similar('actor')"
   ]
  },
  {
   "cell_type": "code",
   "execution_count": 55,
   "metadata": {},
   "outputs": [
    {
     "data": {
      "text/plain": [
       "[('actress', 0.8060824871063232),\n",
       " ('talented', 0.7182985544204712),\n",
       " ('actors', 0.7065329551696777),\n",
       " ('act', 0.6896833181381226),\n",
       " ('talent', 0.6867105960845947),\n",
       " ('oscar', 0.6824277639389038),\n",
       " ('director', 0.6700352430343628),\n",
       " ('performance', 0.6690415143966675),\n",
       " ('villain', 0.661266565322876),\n",
       " ('cast', 0.6172805428504944)]"
      ]
     },
     "execution_count": 55,
     "metadata": {},
     "output_type": "execute_result"
    }
   ],
   "source": [
    "ft_model.wv.most_similar('actor')"
   ]
  },
  {
   "cell_type": "code",
   "execution_count": 56,
   "metadata": {},
   "outputs": [
    {
     "data": {
      "text/plain": [
       "[('actor', 0.7136484384536743),\n",
       " ('actress', 0.6678662300109863),\n",
       " ('poor', 0.6069299578666687),\n",
       " ('acting', 0.5992627739906311),\n",
       " ('talented', 0.577966570854187),\n",
       " ('talent', 0.5401546955108643),\n",
       " ('excellent', 0.5373172760009766),\n",
       " ('oscar', 0.5317933559417725),\n",
       " ('playing', 0.53121018409729),\n",
       " ('supporting', 0.5211615562438965)]"
      ]
     },
     "execution_count": 56,
     "metadata": {},
     "output_type": "execute_result"
    }
   ],
   "source": [
    "ft_model.wv.most_similar('actooooor')"
   ]
  },
  {
   "cell_type": "code",
   "execution_count": 57,
   "metadata": {
    "scrolled": true
   },
   "outputs": [
    {
     "ename": "KeyError",
     "evalue": "\"word 'actooooor' not in vocabulary\"",
     "output_type": "error",
     "traceback": [
      "\u001b[1;31m---------------------------------------------------------------------------\u001b[0m",
      "\u001b[1;31mKeyError\u001b[0m                                  Traceback (most recent call last)",
      "\u001b[1;32m<ipython-input-57-5b0d63c1e86a>\u001b[0m in \u001b[0;36m<module>\u001b[1;34m\u001b[0m\n\u001b[1;32m----> 1\u001b[1;33m \u001b[0mmodel_movie\u001b[0m\u001b[1;33m.\u001b[0m\u001b[0mmost_similar\u001b[0m\u001b[1;33m(\u001b[0m\u001b[1;34m'actooooor'\u001b[0m\u001b[1;33m)\u001b[0m\u001b[1;33m\u001b[0m\u001b[1;33m\u001b[0m\u001b[0m\n\u001b[0m",
      "\u001b[1;32m~\\AppData\\Local\\Continuum\\anaconda3\\envs\\nlp\\lib\\site-packages\\gensim\\utils.py\u001b[0m in \u001b[0;36mnew_func1\u001b[1;34m(*args, **kwargs)\u001b[0m\n\u001b[0;32m   1445\u001b[0m                     \u001b[0mstacklevel\u001b[0m\u001b[1;33m=\u001b[0m\u001b[1;36m2\u001b[0m\u001b[1;33m\u001b[0m\u001b[1;33m\u001b[0m\u001b[0m\n\u001b[0;32m   1446\u001b[0m                 )\n\u001b[1;32m-> 1447\u001b[1;33m                 \u001b[1;32mreturn\u001b[0m \u001b[0mfunc\u001b[0m\u001b[1;33m(\u001b[0m\u001b[1;33m*\u001b[0m\u001b[0margs\u001b[0m\u001b[1;33m,\u001b[0m \u001b[1;33m**\u001b[0m\u001b[0mkwargs\u001b[0m\u001b[1;33m)\u001b[0m\u001b[1;33m\u001b[0m\u001b[1;33m\u001b[0m\u001b[0m\n\u001b[0m\u001b[0;32m   1448\u001b[0m \u001b[1;33m\u001b[0m\u001b[0m\n\u001b[0;32m   1449\u001b[0m             \u001b[1;32mreturn\u001b[0m \u001b[0mnew_func1\u001b[0m\u001b[1;33m\u001b[0m\u001b[1;33m\u001b[0m\u001b[0m\n",
      "\u001b[1;32m~\\AppData\\Local\\Continuum\\anaconda3\\envs\\nlp\\lib\\site-packages\\gensim\\models\\base_any2vec.py\u001b[0m in \u001b[0;36mmost_similar\u001b[1;34m(self, positive, negative, topn, restrict_vocab, indexer)\u001b[0m\n\u001b[0;32m   1395\u001b[0m \u001b[1;33m\u001b[0m\u001b[0m\n\u001b[0;32m   1396\u001b[0m         \"\"\"\n\u001b[1;32m-> 1397\u001b[1;33m         \u001b[1;32mreturn\u001b[0m \u001b[0mself\u001b[0m\u001b[1;33m.\u001b[0m\u001b[0mwv\u001b[0m\u001b[1;33m.\u001b[0m\u001b[0mmost_similar\u001b[0m\u001b[1;33m(\u001b[0m\u001b[0mpositive\u001b[0m\u001b[1;33m,\u001b[0m \u001b[0mnegative\u001b[0m\u001b[1;33m,\u001b[0m \u001b[0mtopn\u001b[0m\u001b[1;33m,\u001b[0m \u001b[0mrestrict_vocab\u001b[0m\u001b[1;33m,\u001b[0m \u001b[0mindexer\u001b[0m\u001b[1;33m)\u001b[0m\u001b[1;33m\u001b[0m\u001b[1;33m\u001b[0m\u001b[0m\n\u001b[0m\u001b[0;32m   1398\u001b[0m \u001b[1;33m\u001b[0m\u001b[0m\n\u001b[0;32m   1399\u001b[0m     \u001b[1;33m@\u001b[0m\u001b[0mdeprecated\u001b[0m\u001b[1;33m(\u001b[0m\u001b[1;34m\"Method will be removed in 4.0.0, use self.wv.wmdistance() instead\"\u001b[0m\u001b[1;33m)\u001b[0m\u001b[1;33m\u001b[0m\u001b[1;33m\u001b[0m\u001b[0m\n",
      "\u001b[1;32m~\\AppData\\Local\\Continuum\\anaconda3\\envs\\nlp\\lib\\site-packages\\gensim\\models\\keyedvectors.py\u001b[0m in \u001b[0;36mmost_similar\u001b[1;34m(self, positive, negative, topn, restrict_vocab, indexer)\u001b[0m\n\u001b[0;32m    551\u001b[0m                 \u001b[0mmean\u001b[0m\u001b[1;33m.\u001b[0m\u001b[0mappend\u001b[0m\u001b[1;33m(\u001b[0m\u001b[0mweight\u001b[0m \u001b[1;33m*\u001b[0m \u001b[0mword\u001b[0m\u001b[1;33m)\u001b[0m\u001b[1;33m\u001b[0m\u001b[1;33m\u001b[0m\u001b[0m\n\u001b[0;32m    552\u001b[0m             \u001b[1;32melse\u001b[0m\u001b[1;33m:\u001b[0m\u001b[1;33m\u001b[0m\u001b[1;33m\u001b[0m\u001b[0m\n\u001b[1;32m--> 553\u001b[1;33m                 \u001b[0mmean\u001b[0m\u001b[1;33m.\u001b[0m\u001b[0mappend\u001b[0m\u001b[1;33m(\u001b[0m\u001b[0mweight\u001b[0m \u001b[1;33m*\u001b[0m \u001b[0mself\u001b[0m\u001b[1;33m.\u001b[0m\u001b[0mword_vec\u001b[0m\u001b[1;33m(\u001b[0m\u001b[0mword\u001b[0m\u001b[1;33m,\u001b[0m \u001b[0muse_norm\u001b[0m\u001b[1;33m=\u001b[0m\u001b[1;32mTrue\u001b[0m\u001b[1;33m)\u001b[0m\u001b[1;33m)\u001b[0m\u001b[1;33m\u001b[0m\u001b[1;33m\u001b[0m\u001b[0m\n\u001b[0m\u001b[0;32m    554\u001b[0m                 \u001b[1;32mif\u001b[0m \u001b[0mword\u001b[0m \u001b[1;32min\u001b[0m \u001b[0mself\u001b[0m\u001b[1;33m.\u001b[0m\u001b[0mvocab\u001b[0m\u001b[1;33m:\u001b[0m\u001b[1;33m\u001b[0m\u001b[1;33m\u001b[0m\u001b[0m\n\u001b[0;32m    555\u001b[0m                     \u001b[0mall_words\u001b[0m\u001b[1;33m.\u001b[0m\u001b[0madd\u001b[0m\u001b[1;33m(\u001b[0m\u001b[0mself\u001b[0m\u001b[1;33m.\u001b[0m\u001b[0mvocab\u001b[0m\u001b[1;33m[\u001b[0m\u001b[0mword\u001b[0m\u001b[1;33m]\u001b[0m\u001b[1;33m.\u001b[0m\u001b[0mindex\u001b[0m\u001b[1;33m)\u001b[0m\u001b[1;33m\u001b[0m\u001b[1;33m\u001b[0m\u001b[0m\n",
      "\u001b[1;32m~\\AppData\\Local\\Continuum\\anaconda3\\envs\\nlp\\lib\\site-packages\\gensim\\models\\keyedvectors.py\u001b[0m in \u001b[0;36mword_vec\u001b[1;34m(self, word, use_norm)\u001b[0m\n\u001b[0;32m    466\u001b[0m             \u001b[1;32mreturn\u001b[0m \u001b[0mresult\u001b[0m\u001b[1;33m\u001b[0m\u001b[1;33m\u001b[0m\u001b[0m\n\u001b[0;32m    467\u001b[0m         \u001b[1;32melse\u001b[0m\u001b[1;33m:\u001b[0m\u001b[1;33m\u001b[0m\u001b[1;33m\u001b[0m\u001b[0m\n\u001b[1;32m--> 468\u001b[1;33m             \u001b[1;32mraise\u001b[0m \u001b[0mKeyError\u001b[0m\u001b[1;33m(\u001b[0m\u001b[1;34m\"word '%s' not in vocabulary\"\u001b[0m \u001b[1;33m%\u001b[0m \u001b[0mword\u001b[0m\u001b[1;33m)\u001b[0m\u001b[1;33m\u001b[0m\u001b[1;33m\u001b[0m\u001b[0m\n\u001b[0m\u001b[0;32m    469\u001b[0m \u001b[1;33m\u001b[0m\u001b[0m\n\u001b[0;32m    470\u001b[0m     \u001b[1;32mdef\u001b[0m \u001b[0mget_vector\u001b[0m\u001b[1;33m(\u001b[0m\u001b[0mself\u001b[0m\u001b[1;33m,\u001b[0m \u001b[0mword\u001b[0m\u001b[1;33m)\u001b[0m\u001b[1;33m:\u001b[0m\u001b[1;33m\u001b[0m\u001b[1;33m\u001b[0m\u001b[0m\n",
      "\u001b[1;31mKeyError\u001b[0m: \"word 'actooooor' not in vocabulary\""
     ]
    }
   ],
   "source": [
    "model_movie.most_similar('actooooor')"
   ]
  },
  {
   "cell_type": "markdown",
   "metadata": {},
   "source": [
    "As you can observe with fasttext actooor has found the most similar vector, but word2vec hasn't because it wasn't trained with that word."
   ]
  }
 ],
 "metadata": {
  "kernelspec": {
   "display_name": "Python 3",
   "language": "python",
   "name": "python3"
  },
  "language_info": {
   "codemirror_mode": {
    "name": "ipython",
    "version": 3
   },
   "file_extension": ".py",
   "mimetype": "text/x-python",
   "name": "python",
   "nbconvert_exporter": "python",
   "pygments_lexer": "ipython3",
   "version": "3.7.4"
  },
  "toc": {
   "base_numbering": 1,
   "nav_menu": {},
   "number_sections": true,
   "sideBar": true,
   "skip_h1_title": false,
   "title_cell": "Table of Contents",
   "title_sidebar": "Contents",
   "toc_cell": true,
   "toc_position": {
    "height": "calc(100% - 180px)",
    "left": "10px",
    "top": "150px",
    "width": "273.188px"
   },
   "toc_section_display": true,
   "toc_window_display": true
  }
 },
 "nbformat": 4,
 "nbformat_minor": 4
}
