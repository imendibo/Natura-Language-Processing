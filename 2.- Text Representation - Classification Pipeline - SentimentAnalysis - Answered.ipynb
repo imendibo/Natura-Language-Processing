{
 "cells": [
  {
   "cell_type": "markdown",
   "metadata": {},
   "source": [
    "<img src=\"images/representation.jpg\" width=\"800\">"
   ]
  },
  {
   "cell_type": "markdown",
   "metadata": {
    "toc": true
   },
   "source": [
    "<h1>Table of Contents<span class=\"tocSkip\"></span></h1>\n",
    "<div class=\"toc\"><ul class=\"toc-item\"><li><span><a href=\"#Imports-and-Functions\" data-toc-modified-id=\"Imports-and-Functions-1\"><span class=\"toc-item-num\">1&nbsp;&nbsp;</span>Imports and Functions</a></span></li><li><span><a href=\"#Read-data\" data-toc-modified-id=\"Read-data-2\"><span class=\"toc-item-num\">2&nbsp;&nbsp;</span>Read data</a></span></li><li><span><a href=\"#Preprocess-data\" data-toc-modified-id=\"Preprocess-data-3\"><span class=\"toc-item-num\">3&nbsp;&nbsp;</span>Preprocess data</a></span></li><li><span><a href=\"#Transform-Data\" data-toc-modified-id=\"Transform-Data-4\"><span class=\"toc-item-num\">4&nbsp;&nbsp;</span>Transform Data</a></span><ul class=\"toc-item\"><li><span><a href=\"#Count-vectorizer\" data-toc-modified-id=\"Count-vectorizer-4.1\"><span class=\"toc-item-num\">4.1&nbsp;&nbsp;</span>Count vectorizer</a></span></li><li><span><a href=\"#TF-IDF-vectorizer\" data-toc-modified-id=\"TF-IDF-vectorizer-4.2\"><span class=\"toc-item-num\">4.2&nbsp;&nbsp;</span>TF-IDF vectorizer</a></span></li></ul></li><li><span><a href=\"#Classification-model\" data-toc-modified-id=\"Classification-model-5\"><span class=\"toc-item-num\">5&nbsp;&nbsp;</span>Classification model</a></span></li><li><span><a href=\"#Evaluate\" data-toc-modified-id=\"Evaluate-6\"><span class=\"toc-item-num\">6&nbsp;&nbsp;</span>Evaluate</a></span><ul class=\"toc-item\"><li><span><a href=\"#The-most-important-features:-Positive-and-Negative\" data-toc-modified-id=\"The-most-important-features:-Positive-and-Negative-6.1\"><span class=\"toc-item-num\">6.1&nbsp;&nbsp;</span>The most important features: Positive and Negative</a></span></li><li><span><a href=\"#Confusion-Matrix\" data-toc-modified-id=\"Confusion-Matrix-6.2\"><span class=\"toc-item-num\">6.2&nbsp;&nbsp;</span>Confusion Matrix</a></span></li><li><span><a href=\"#ROC-Curve\" data-toc-modified-id=\"ROC-Curve-6.3\"><span class=\"toc-item-num\">6.3&nbsp;&nbsp;</span>ROC Curve</a></span></li><li><span><a href=\"#Predict\" data-toc-modified-id=\"Predict-6.4\"><span class=\"toc-item-num\">6.4&nbsp;&nbsp;</span>Predict</a></span></li></ul></li><li><span><a href=\"#Exercise:-Amazon-reviews\" data-toc-modified-id=\"Exercise:-Amazon-reviews-7\"><span class=\"toc-item-num\">7&nbsp;&nbsp;</span>Exercise: Amazon reviews</a></span><ul class=\"toc-item\"><li><span><a href=\"#Data-Cleaning\" data-toc-modified-id=\"Data-Cleaning-7.1\"><span class=\"toc-item-num\">7.1&nbsp;&nbsp;</span>Data Cleaning</a></span></li><li><span><a href=\"#Data-transformation\" data-toc-modified-id=\"Data-transformation-7.2\"><span class=\"toc-item-num\">7.2&nbsp;&nbsp;</span>Data transformation</a></span><ul class=\"toc-item\"><li><span><a href=\"#Count-Vectorizer\" data-toc-modified-id=\"Count-Vectorizer-7.2.1\"><span class=\"toc-item-num\">7.2.1&nbsp;&nbsp;</span>Count Vectorizer</a></span><ul class=\"toc-item\"><li><span><a href=\"#Classification-model\" data-toc-modified-id=\"Classification-model-7.2.1.1\"><span class=\"toc-item-num\">7.2.1.1&nbsp;&nbsp;</span>Classification model</a></span></li><li><span><a href=\"#Evaluate\" data-toc-modified-id=\"Evaluate-7.2.1.2\"><span class=\"toc-item-num\">7.2.1.2&nbsp;&nbsp;</span>Evaluate</a></span></li></ul></li><li><span><a href=\"#TF-IDF-Vectorizer\" data-toc-modified-id=\"TF-IDF-Vectorizer-7.2.2\"><span class=\"toc-item-num\">7.2.2&nbsp;&nbsp;</span>TF-IDF Vectorizer</a></span><ul class=\"toc-item\"><li><span><a href=\"#Classification-model\" data-toc-modified-id=\"Classification-model-7.2.2.1\"><span class=\"toc-item-num\">7.2.2.1&nbsp;&nbsp;</span>Classification model</a></span></li><li><span><a href=\"#Evaluate\" data-toc-modified-id=\"Evaluate-7.2.2.2\"><span class=\"toc-item-num\">7.2.2.2&nbsp;&nbsp;</span>Evaluate</a></span></li></ul></li></ul></li></ul></li></ul></div>"
   ]
  },
  {
   "cell_type": "markdown",
   "metadata": {},
   "source": [
    "# Imports and Functions"
   ]
  },
  {
   "cell_type": "code",
   "execution_count": 1,
   "metadata": {},
   "outputs": [],
   "source": [
    "import warnings\n",
    "warnings.filterwarnings(\"ignore\")                     #Ignoring unnecessary warnings\n",
    "\n",
    "import os\n",
    "import re\n",
    "import numpy as np                                  #for large and multi-dimensional arrays\n",
    "import pandas as pd                                 #for data manipulation and analysis\n",
    "import nltk                                         #Natural language processing tool-kit\n",
    "\n",
    "from nltk.corpus import stopwords                   #Stopwords corpus\n",
    "from nltk.stem import PorterStemmer                 # Stemmer\n",
    "\n",
    "from sklearn.metrics import accuracy_score\n",
    "from sklearn.feature_extraction.text import CountVectorizer          #For Bag of words\n",
    "from sklearn.feature_extraction.text import TfidfVectorizer          #For TF-IDF\n",
    "from gensim.models import Word2Vec    "
   ]
  },
  {
   "cell_type": "code",
   "execution_count": 2,
   "metadata": {},
   "outputs": [],
   "source": [
    "def confusionMatrix(y_test, y_pred):\n",
    "    \"\"\" \n",
    "    Returns the confusion matrix plot and the confusion matrix dataframe.\n",
    "\n",
    "    Parameters:\n",
    "        y_test: dataframe with the real data labels.\n",
    "        y_pred: dataframe with the predicted data labels.\n",
    "    Returns:\n",
    "        data_cm: Dataframe of the confusion matrix result.   \n",
    "\n",
    "    \"\"\"\n",
    "    cm = confusion_matrix(y_test, y_pred)\n",
    "    data_cm = pd.DataFrame(cm, columns=np.unique(y_test), index = np.unique(y_test))\n",
    "    data_cm.index.name = 'Actual'\n",
    "    data_cm.columns.name = 'Predicted'\n",
    "\n",
    "    sns.set(font_scale=1.4)\n",
    "    fig, ax = plt.subplots(figsize=(12,6))\n",
    "\n",
    "    sns.heatmap(data_cm, cmap=\"Blues\", annot=True, fmt='', ax=ax)\n",
    "    return data_cm"
   ]
  },
  {
   "cell_type": "code",
   "execution_count": 3,
   "metadata": {},
   "outputs": [],
   "source": [
    "def roc_curve_plot(y_test, y_pred, legend):\n",
    "    \"\"\" \n",
    "    Creates the ROC curve plot and returns the AUC score.\n",
    "\n",
    "    Parameters:\n",
    "        y_test: dataframe with the real data labels.\n",
    "        y_pred: dataframe with the predicted data labels.\n",
    "        legent: Name of the legend for the plot\n",
    "    Returns:\n",
    "        AUC_score: Score of the AUC, area under curve value.\n",
    "\n",
    "    \"\"\"\n",
    "    fpr_lm, tpr_lm, _ = roc_curve(y_test, y_pred)\n",
    "    AUC_score = roc_auc_score(y_test, y_pred)\n",
    "    #print(AUC_score)\n",
    "    plt.figure(figsize=(12,5))\n",
    "\n",
    "    plt.plot([0, 1], [0, 1], 'k--', label='reference line')\n",
    "    plt.plot(fpr_lm, tpr_lm, label=legend)\n",
    "    plt.xlabel('False positive rate')\n",
    "    plt.ylabel('True positive rate')\n",
    "    plt.title('ROC curve')\n",
    "    plt.legend(loc='best')\n",
    "    plt.show()\n",
    "    return AUC_score"
   ]
  },
  {
   "cell_type": "markdown",
   "metadata": {},
   "source": [
    "<img src=\"images/movie.jpg\" width=\"800\">"
   ]
  },
  {
   "cell_type": "markdown",
   "metadata": {},
   "source": [
    "# Read data"
   ]
  },
  {
   "cell_type": "code",
   "execution_count": 5,
   "metadata": {},
   "outputs": [
    {
     "name": "stdout",
     "output_type": "stream",
     "text": [
      "<class 'pandas.core.frame.DataFrame'>\n",
      "Int64Index: 25000 entries, 0 to 24999\n",
      "Data columns (total 2 columns):\n",
      "reviews    25000 non-null object\n",
      "labels     25000 non-null int64\n",
      "dtypes: int64(1), object(1)\n",
      "memory usage: 585.9+ KB\n"
     ]
    }
   ],
   "source": [
    "reviews_train = pd.read_csv('data/movie_reviews_train_labeled.csv', index_col=0)\n",
    "reviews_train.info()"
   ]
  },
  {
   "cell_type": "code",
   "execution_count": 6,
   "metadata": {},
   "outputs": [
    {
     "data": {
      "text/plain": [
       "\"This isn't the comedic Robin Williams, nor is it the quirky/insane Robin Williams of recent thriller fame. This is a hybrid of the classic drama without over-dramatization, mixed with Robin's new love of the thriller. But this isn't a thriller, per se. This is more a mystery/suspense vehicle through which Williams attempts to locate a sick boy and his keeper.<br /><br />Also starring Sandra Oh and Rory Culkin, this Suspense Drama plays pretty much like a news report, until William's character gets close to achieving his goal.<br /><br />I must say that I was highly entertained, though this movie fails to teach, guide, inspect, or amuse. It felt more like I was watching a guy (Williams), as he was actually performing the actions, from a third person perspective. In other words, it felt real, and I was able to subscribe to the premise of the story.<br /><br />All in all, it's worth a watch, though it's definitely not Friday/Saturday night fare.<br /><br />It rates a 7.7/10 from...<br /><br />the Fiend :.\""
      ]
     },
     "execution_count": 6,
     "metadata": {},
     "output_type": "execute_result"
    }
   ],
   "source": [
    "## Positive reviews (label = 1)\n",
    "reviews_train.loc[5].reviews"
   ]
  },
  {
   "cell_type": "code",
   "execution_count": 7,
   "metadata": {},
   "outputs": [
    {
     "data": {
      "text/plain": [
       "\"The problem with this movie is that it is shot on the worst possible camera and the film is blurry and grainy. Maybe it's just the fact that whoever was holding the camera couldn't hold still because they were having a seizure or something. There is also way too much poop and vomit in this movie. There is someone vomiting every twenty minutes and it makes me think that this was made by some bulimic or something. It was disgusting. Then there is the annoying high pitched screaming that goes on and on and on and doesn't stop until the credits roll. I also didn't like when all her friends were being shot (or not I don't know)and she goes in the van and puts band aids on. That was just really really stupid to even have that in a movie. How much gas can a person siphon to get a van going? It must be a whole lot because they don't run out of gas for the rest of the movie. It was a terrible movie and I would highly suggest not ever seeing it in your whole entire life.\""
      ]
     },
     "execution_count": 7,
     "metadata": {},
     "output_type": "execute_result"
    }
   ],
   "source": [
    "## Negative reviews (label = 0)\n",
    "\n",
    "reviews_train.loc[23030].reviews"
   ]
  },
  {
   "cell_type": "markdown",
   "metadata": {},
   "source": [
    "# Preprocess data"
   ]
  },
  {
   "cell_type": "code",
   "execution_count": 8,
   "metadata": {},
   "outputs": [
    {
     "name": "stdout",
     "output_type": "stream",
     "text": [
      "[('Robin Williams', 23, 37), ('Robin Williams', 67, 81), ('Robin', 184, 189), ('Williams', 307, 315), ('Sandra Oh', 387, 396), ('William', 478, 485), ('Williams', 685, 693)]\n"
     ]
    }
   ],
   "source": [
    "import spacy\n",
    "nlp = spacy.load('en_core_web_sm')\n",
    "doc = nlp(reviews_train.loc[5].reviews)\n",
    "\n",
    "for token in doc:\n",
    "    resultlis = [(entity.text, entity.start_char, entity.end_char) for entity in doc.ents if entity.label_==\"PERSON\"]\n",
    "print(resultlis)"
   ]
  },
  {
   "cell_type": "code",
   "execution_count": 9,
   "metadata": {},
   "outputs": [],
   "source": [
    "import re\n",
    "import string\n",
    "from nltk.tokenize import word_tokenize\n",
    "snow = nltk.stem.SnowballStemmer('english')\n",
    "lemma = nltk.wordnet.WordNetLemmatizer()\n",
    "\n",
    "#print(re.escape(string.punctuation))\n",
    "stop_words = set(stopwords.words('english'))\n",
    "\n",
    "def clean_text(text):\n",
    "    '''Make text lowercase, \n",
    "       remove \n",
    "       remove punctuation,\n",
    "       remove numbers and words containing numbers\n",
    "       remove especial characters as \\n\n",
    "       strip the text\n",
    "       lemmatize\n",
    "       stemmize.'''\n",
    "    text = text.lower()\n",
    "    text = re.sub(re.compile('<.*?>'), '', text)\n",
    "    text = re.sub('[%s]' % re.escape(string.punctuation), ' ', text)\n",
    "    text = re.sub('\\w*\\d\\w*', '', text)\n",
    "    text = re.sub('\\n', '', text)\n",
    "    word_tokens = word_tokenize(text)\n",
    "    text = [lemma.lemmatize(w.strip(), 'v') for w in word_tokens if not w in stop_words]\n",
    "    text = [snow.stem(w.strip()) for w in text]\n",
    "\n",
    "    return ' '.join(text)"
   ]
  },
  {
   "cell_type": "code",
   "execution_count": 10,
   "metadata": {},
   "outputs": [],
   "source": [
    "data_clean = pd.DataFrame(reviews_train.reviews.apply(clean_text))"
   ]
  },
  {
   "cell_type": "code",
   "execution_count": 11,
   "metadata": {},
   "outputs": [
    {
     "data": {
      "text/plain": [
       "'comed robin william quirki insan robin william recent thriller fame hybrid classic drama without dramat mix robin new love thriller thriller per se mysteri suspens vehicl william attempt locat sick boy keeper also star sandra oh rori culkin suspens drama play pretti much like news report william charact get close achiev goal must say high entertain though movi fail teach guid inspect amus felt like watch guy william actual perform action third person perspect word felt real abl subscrib premis stori worth watch though definit friday saturday night fare rat fiend'"
      ]
     },
     "execution_count": 11,
     "metadata": {},
     "output_type": "execute_result"
    }
   ],
   "source": [
    "data_clean.loc[5].reviews"
   ]
  },
  {
   "cell_type": "code",
   "execution_count": 12,
   "metadata": {},
   "outputs": [
    {
     "data": {
      "text/plain": [
       "\"This isn't the comedic Robin Williams, nor is it the quirky/insane Robin Williams of recent thriller fame. This is a hybrid of the classic drama without over-dramatization, mixed with Robin's new love of the thriller. But this isn't a thriller, per se. This is more a mystery/suspense vehicle through which Williams attempts to locate a sick boy and his keeper.<br /><br />Also starring Sandra Oh and Rory Culkin, this Suspense Drama plays pretty much like a news report, until William's character gets close to achieving his goal.<br /><br />I must say that I was highly entertained, though this movie fails to teach, guide, inspect, or amuse. It felt more like I was watching a guy (Williams), as he was actually performing the actions, from a third person perspective. In other words, it felt real, and I was able to subscribe to the premise of the story.<br /><br />All in all, it's worth a watch, though it's definitely not Friday/Saturday night fare.<br /><br />It rates a 7.7/10 from...<br /><br />the Fiend :.\""
      ]
     },
     "execution_count": 12,
     "metadata": {},
     "output_type": "execute_result"
    }
   ],
   "source": [
    "reviews_train.loc[5].reviews"
   ]
  },
  {
   "cell_type": "code",
   "execution_count": 13,
   "metadata": {},
   "outputs": [
    {
     "data": {
      "text/html": [
       "<div>\n",
       "<style scoped>\n",
       "    .dataframe tbody tr th:only-of-type {\n",
       "        vertical-align: middle;\n",
       "    }\n",
       "\n",
       "    .dataframe tbody tr th {\n",
       "        vertical-align: top;\n",
       "    }\n",
       "\n",
       "    .dataframe thead th {\n",
       "        text-align: right;\n",
       "    }\n",
       "</style>\n",
       "<table border=\"1\" class=\"dataframe\">\n",
       "  <thead>\n",
       "    <tr style=\"text-align: right;\">\n",
       "      <th></th>\n",
       "      <th>reviews</th>\n",
       "      <th>labels</th>\n",
       "    </tr>\n",
       "  </thead>\n",
       "  <tbody>\n",
       "    <tr>\n",
       "      <td>0</td>\n",
       "      <td>Bromwell High is a cartoon comedy. It ran at the same time as some other programs about school life, such as \"Teachers\". My 35 years in the teaching profession lead me to believe that Bromwell High's satire is much closer to reality than is \"Teachers\". The scramble to survive financially, the insightful students who can see right through their pathetic teachers' pomp, the pettiness of the whole situation, all remind me of the schools I knew and their students. When I saw the episode in which...</td>\n",
       "      <td>1</td>\n",
       "    </tr>\n",
       "    <tr>\n",
       "      <td>1</td>\n",
       "      <td>Homelessness (or Houselessness as George Carlin stated) has been an issue for years but never a plan to help those on the street that were once considered human who did everything from going to school, work, or vote for the matter. Most people think of the homeless as just a lost cause while worrying about things such as racism, the war on Iraq, pressuring kids to succeed, technology, the elections, inflation, or worrying if they'll be next to end up on the streets.&lt;br /&gt;&lt;br /&gt;But what if yo...</td>\n",
       "      <td>1</td>\n",
       "    </tr>\n",
       "    <tr>\n",
       "      <td>2</td>\n",
       "      <td>Brilliant over-acting by Lesley Ann Warren. Best dramatic hobo lady I have ever seen, and love scenes in clothes warehouse are second to none. The corn on face is a classic, as good as anything in Blazing Saddles. The take on lawyers is also superb. After being accused of being a turncoat, selling out his boss, and being dishonest the lawyer of Pepto Bolt shrugs indifferently \"I'm a lawyer\" he says. Three funny words. Jeffrey Tambor, a favorite from the later Larry Sanders show, is fantastic...</td>\n",
       "      <td>1</td>\n",
       "    </tr>\n",
       "    <tr>\n",
       "      <td>3</td>\n",
       "      <td>This is easily the most underrated film inn the Brooks cannon. Sure, its flawed. It does not give a realistic view of homelessness (unlike, say, how Citizen Kane gave a realistic view of lounge singers, or Titanic gave a realistic view of Italians YOU IDIOTS). Many of the jokes fall flat. But still, this film is very lovable in a way many comedies are not, and to pull that off in a story about some of the most traditionally reviled members of society is truly impressive. Its not The Fisher K...</td>\n",
       "      <td>1</td>\n",
       "    </tr>\n",
       "    <tr>\n",
       "      <td>4</td>\n",
       "      <td>This is not the typical Mel Brooks film. It was much less slapstick than most of his movies and actually had a plot that was followable. Leslie Ann Warren made the movie, she is such a fantastic, under-rated actress. There were some moments that could have been fleshed out a bit more, and some scenes that could probably have been cut to make the room to do so, but all in all, this is worth the price to rent and see it. The acting was good overall, Brooks himself did a good job without his ch...</td>\n",
       "      <td>1</td>\n",
       "    </tr>\n",
       "    <tr>\n",
       "      <td>...</td>\n",
       "      <td>...</td>\n",
       "      <td>...</td>\n",
       "    </tr>\n",
       "    <tr>\n",
       "      <td>24995</td>\n",
       "      <td>Towards the end of the movie, I felt it was too technical. I felt like I was in a classroom watching how our Navy performs rescues at sea. I liked seeing that the engines have fire extinguishers. I guess I should have figured that out before, but I never thought about it. Using a 747 to transport valuable old paintings with very little security is odd and not realistic. The acting was pretty good, since they're mostly seasoned professionals, but if you're going to stretch so far from what wo...</td>\n",
       "      <td>0</td>\n",
       "    </tr>\n",
       "    <tr>\n",
       "      <td>24996</td>\n",
       "      <td>This is the kind of movie that my enemies content I watch all the time, but it's not bloody true. I only watch it once in a while to make sure that it's as bad as I first thought it was.&lt;br /&gt;&lt;br /&gt;Some kind of mobsters hijack a Boeing 747. (That, at least, is an improvement over having Boeing hijack a good part of the Pentagon.) The airplane goes down in the Bermuda triangle and sinks pressurized to the bottoms, a kind of post-facto submarine.&lt;br /&gt;&lt;br /&gt;It has one of those all-star casts, ...</td>\n",
       "      <td>0</td>\n",
       "    </tr>\n",
       "    <tr>\n",
       "      <td>24997</td>\n",
       "      <td>I saw 'Descent' last night at the Stockholm Film Festival and it was one huge disappointment. Disappointment because the storyline was potentially powerful, the prospect of seeing Rosario Dawson in a smaller intimate movie was exciting and, being a fan (sounds pervy, I'm not!) of 'rape/revenge' flicks of the 70's, I was needless to say very curious to check this movie out. My conclusion: let's stick to the classics! Yes, the storyline has potential but the dialogs are flat, the actors unconv...</td>\n",
       "      <td>0</td>\n",
       "    </tr>\n",
       "    <tr>\n",
       "      <td>24998</td>\n",
       "      <td>Some films that you pick up for a pound turn out to be rather good - 23rd Century films released dozens of obscure Italian and American movie that were great, but although Hardgore released some Fulci films amongst others, the bulk of their output is crap like The Zombie Chronicles.&lt;br /&gt;&lt;br /&gt;The only positive thing I can say about this film is that it's nowhere near as annoying as the Stink of Flesh. Other than that, its a very clumsy anthology film with the technical competence of a Lego ...</td>\n",
       "      <td>0</td>\n",
       "    </tr>\n",
       "    <tr>\n",
       "      <td>24999</td>\n",
       "      <td>This is one of the dumbest films, I've ever seen. It rips off nearly ever type of thriller and manages to make a mess of them all.&lt;br /&gt;&lt;br /&gt;There's not a single good line or character in the whole mess. If there was a plot, it was an afterthought and as far as acting goes, there's nothing good to say so Ill say nothing. I honestly cant understand how this type of nonsense gets produced and actually released, does somebody somewhere not at some stage think, 'Oh my god this really is a load ...</td>\n",
       "      <td>0</td>\n",
       "    </tr>\n",
       "  </tbody>\n",
       "</table>\n",
       "<p>25000 rows × 2 columns</p>\n",
       "</div>"
      ],
      "text/plain": [
       "                                                                                                                                                                                                                                                                                                                                                                                                                                                                                                                   reviews  \\\n",
       "0      Bromwell High is a cartoon comedy. It ran at the same time as some other programs about school life, such as \"Teachers\". My 35 years in the teaching profession lead me to believe that Bromwell High's satire is much closer to reality than is \"Teachers\". The scramble to survive financially, the insightful students who can see right through their pathetic teachers' pomp, the pettiness of the whole situation, all remind me of the schools I knew and their students. When I saw the episode in which...   \n",
       "1      Homelessness (or Houselessness as George Carlin stated) has been an issue for years but never a plan to help those on the street that were once considered human who did everything from going to school, work, or vote for the matter. Most people think of the homeless as just a lost cause while worrying about things such as racism, the war on Iraq, pressuring kids to succeed, technology, the elections, inflation, or worrying if they'll be next to end up on the streets.<br /><br />But what if yo...   \n",
       "2      Brilliant over-acting by Lesley Ann Warren. Best dramatic hobo lady I have ever seen, and love scenes in clothes warehouse are second to none. The corn on face is a classic, as good as anything in Blazing Saddles. The take on lawyers is also superb. After being accused of being a turncoat, selling out his boss, and being dishonest the lawyer of Pepto Bolt shrugs indifferently \"I'm a lawyer\" he says. Three funny words. Jeffrey Tambor, a favorite from the later Larry Sanders show, is fantastic...   \n",
       "3      This is easily the most underrated film inn the Brooks cannon. Sure, its flawed. It does not give a realistic view of homelessness (unlike, say, how Citizen Kane gave a realistic view of lounge singers, or Titanic gave a realistic view of Italians YOU IDIOTS). Many of the jokes fall flat. But still, this film is very lovable in a way many comedies are not, and to pull that off in a story about some of the most traditionally reviled members of society is truly impressive. Its not The Fisher K...   \n",
       "4      This is not the typical Mel Brooks film. It was much less slapstick than most of his movies and actually had a plot that was followable. Leslie Ann Warren made the movie, she is such a fantastic, under-rated actress. There were some moments that could have been fleshed out a bit more, and some scenes that could probably have been cut to make the room to do so, but all in all, this is worth the price to rent and see it. The acting was good overall, Brooks himself did a good job without his ch...   \n",
       "...                                                                                                                                                                                                                                                                                                                                                                                                                                                                                                                    ...   \n",
       "24995  Towards the end of the movie, I felt it was too technical. I felt like I was in a classroom watching how our Navy performs rescues at sea. I liked seeing that the engines have fire extinguishers. I guess I should have figured that out before, but I never thought about it. Using a 747 to transport valuable old paintings with very little security is odd and not realistic. The acting was pretty good, since they're mostly seasoned professionals, but if you're going to stretch so far from what wo...   \n",
       "24996  This is the kind of movie that my enemies content I watch all the time, but it's not bloody true. I only watch it once in a while to make sure that it's as bad as I first thought it was.<br /><br />Some kind of mobsters hijack a Boeing 747. (That, at least, is an improvement over having Boeing hijack a good part of the Pentagon.) The airplane goes down in the Bermuda triangle and sinks pressurized to the bottoms, a kind of post-facto submarine.<br /><br />It has one of those all-star casts, ...   \n",
       "24997  I saw 'Descent' last night at the Stockholm Film Festival and it was one huge disappointment. Disappointment because the storyline was potentially powerful, the prospect of seeing Rosario Dawson in a smaller intimate movie was exciting and, being a fan (sounds pervy, I'm not!) of 'rape/revenge' flicks of the 70's, I was needless to say very curious to check this movie out. My conclusion: let's stick to the classics! Yes, the storyline has potential but the dialogs are flat, the actors unconv...   \n",
       "24998  Some films that you pick up for a pound turn out to be rather good - 23rd Century films released dozens of obscure Italian and American movie that were great, but although Hardgore released some Fulci films amongst others, the bulk of their output is crap like The Zombie Chronicles.<br /><br />The only positive thing I can say about this film is that it's nowhere near as annoying as the Stink of Flesh. Other than that, its a very clumsy anthology film with the technical competence of a Lego ...   \n",
       "24999  This is one of the dumbest films, I've ever seen. It rips off nearly ever type of thriller and manages to make a mess of them all.<br /><br />There's not a single good line or character in the whole mess. If there was a plot, it was an afterthought and as far as acting goes, there's nothing good to say so Ill say nothing. I honestly cant understand how this type of nonsense gets produced and actually released, does somebody somewhere not at some stage think, 'Oh my god this really is a load ...   \n",
       "\n",
       "       labels  \n",
       "0           1  \n",
       "1           1  \n",
       "2           1  \n",
       "3           1  \n",
       "4           1  \n",
       "...       ...  \n",
       "24995       0  \n",
       "24996       0  \n",
       "24997       0  \n",
       "24998       0  \n",
       "24999       0  \n",
       "\n",
       "[25000 rows x 2 columns]"
      ]
     },
     "execution_count": 13,
     "metadata": {},
     "output_type": "execute_result"
    }
   ],
   "source": [
    "pd.set_option('max_colwidth',500)\n",
    "\n",
    "reviews_train"
   ]
  },
  {
   "cell_type": "markdown",
   "metadata": {},
   "source": [
    "# Transform Data"
   ]
  },
  {
   "cell_type": "markdown",
   "metadata": {},
   "source": [
    "## Count vectorizer\n",
    "It converts a collection of text documents to a matrix of token counts."
   ]
  },
  {
   "cell_type": "code",
   "execution_count": 14,
   "metadata": {},
   "outputs": [
    {
     "data": {
      "text/plain": [
       "CountVectorizer(analyzer='word', binary=False, decode_error='strict',\n",
       "                dtype=<class 'numpy.int64'>, encoding='utf-8', input='content',\n",
       "                lowercase=True, max_df=1.0, max_features=1000, min_df=1,\n",
       "                ngram_range=(1, 1), preprocessor=None, stop_words=None,\n",
       "                strip_accents=None, token_pattern='(?u)\\\\b\\\\w\\\\w+\\\\b',\n",
       "                tokenizer=None, vocabulary=None)"
      ]
     },
     "execution_count": 14,
     "metadata": {},
     "output_type": "execute_result"
    }
   ],
   "source": [
    "from sklearn.feature_extraction.text import CountVectorizer\n",
    "\n",
    "# max_features: the size of the vocabulary \n",
    "vectorizer = CountVectorizer(max_features=1000)\n",
    "vectorizer.fit(data_clean.reviews)"
   ]
  },
  {
   "cell_type": "code",
   "execution_count": 15,
   "metadata": {
    "scrolled": true
   },
   "outputs": [
    {
     "name": "stdout",
     "output_type": "stream",
     "text": [
      "['abil', 'abl', 'absolut', 'accent', 'accept', 'achiev', 'across', 'act', 'action', 'actor', 'actress', 'actual', 'adapt', 'add', 'admit', 'adult', 'adventur', 'age', 'ago', 'agre', 'air', 'alien', 'allow', 'almost', 'alon', 'along', 'alreadi', 'also', 'although', 'alway', 'amaz', 'america', 'american', 'among', 'amount', 'amus', 'anim', 'ann', 'annoy', 'anoth', 'answer', 'anyon', 'anyth', 'anyway', 'apart', 'appar', 'appeal', 'appear', 'appreci', 'approach', 'around', 'art', 'artist', 'ask', 'aspect', 'atmospher', 'attack', 'attempt', 'attent', 'attract', 'audienc', 'averag', 'avoid', 'aw', 'award', 'away', 'babi', 'back', 'background', 'bad', 'band', 'bare', 'base', 'basic', 'battl', 'bear', 'beat', 'beauti', 'becom', 'begin', 'behind', 'believ', 'ben', 'best', 'better', 'beyond', 'big', 'biggest', 'bill', 'bite', 'bizarr', 'black', 'blood', 'blow', 'blue', 'bodi', 'book', 'bore', 'bother', 'box', 'boy', 'brain', 'break', 'brilliant', 'bring', 'british', 'brother', 'budget', 'build', 'bunch', 'burn', 'busi', 'buy', 'call', 'camera', 'camp', 'captur', 'car', 'care', 'career', 'carri', 'cartoon', 'case', 'cast', 'cat', 'catch', 'caus', 'centuri', 'certain', 'chanc', 'chang', 'channel', 'charact', 'charm', 'chase', 'cheap', 'check', 'cheesi', 'child', 'children', 'choic', 'choos', 'christian', 'christma', 'cinema', 'cinematographi', 'citi', 'claim', 'class', 'classic', 'clear', 'clever', 'cliché', 'close', 'cloth', 'co', 'cold', 'collect', 'color', 'combin', 'come', 'comedi', 'comic', 'comment', 'common', 'compani', 'compar', 'complet', 'complex', 'comput', 'concept', 'concern', 'conclus', 'confus', 'connect', 'consid', 'constant', 'contain', 'continu', 'control', 'convinc', 'cool', 'cop', 'copi', 'costum', 'could', 'count', 'countri', 'coupl', 'cours', 'cover', 'crap', 'crazi', 'creat', 'creatur', 'credit', 'creepi', 'crew', 'cri', 'crime', 'crimin', 'critic', 'cultur', 'cut', 'cute', 'danc', 'danger', 'dark', 'date', 'daughter', 'david', 'day', 'de', 'dead', 'deal', 'death', 'decent', 'decid', 'deep', 'definit', 'delight', 'deliv', 'depict', 'depth', 'describ', 'deserv', 'design', 'desper', 'despit', 'destroy', 'detail', 'detect', 'develop', 'dialog', 'dialogu', 'die', 'differ', 'difficult', 'direct', 'director', 'disappoint', 'discov', 'disney', 'disturb', 'do', 'doctor', 'documentari', 'dog', 'door', 'doubt', 'dr', 'drag', 'drama', 'dramat', 'draw', 'dream', 'dress', 'drink', 'drive', 'drop', 'drug', 'due', 'dull', 'dumb', 'dvd', 'earli', 'earlier', 'earth', 'easi', 'easili', 'eat', 'edg', 'edit', 'effect', 'effort', 'either', 'element', 'els', 'embarrass', 'emot', 'end', 'engag', 'english', 'enjoy', 'enough', 'entertain', 'entir', 'episod', 'equal', 'era', 'escap', 'especi', 'etc', 'even', 'event', 'eventu', 'ever', 'everi', 'everyon', 'everyth', 'evil', 'exact', 'exampl', 'excel', 'except', 'excit', 'execut', 'exist', 'expect', 'experi', 'explain', 'express', 'extra', 'extrem', 'eye', 'face', 'fact', 'fail', 'fair', 'fake', 'fall', 'famili', 'familiar', 'famous', 'fan', 'fantasi', 'fantast', 'far', 'fascin', 'fashion', 'fast', 'father', 'favorit', 'fear', 'featur', 'feel', 'felt', 'femal', 'fi', 'fiction', 'fight', 'figur', 'fill', 'film', 'filmmak', 'final', 'find', 'fine', 'finish', 'fire', 'first', 'fit', 'five', 'flat', 'flaw', 'fli', 'flick', 'focus', 'follow', 'footag', 'forc', 'forget', 'form', 'former', 'forward', 'four', 'frank', 'free', 'french', 'friend', 'front', 'full', 'fun', 'funni', 'futur', 'game', 'gay', 'general', 'genr', 'georg', 'german', 'get', 'ghost', 'girl', 'girlfriend', 'give', 'go', 'god', 'good', 'gore', 'great', 'greatest', 'group', 'grow', 'guess', 'gun', 'guy', 'hair', 'half', 'hand', 'handl', 'hang', 'happen', 'happi', 'hard', 'harri', 'hat', 'hate', 'haunt', 'head', 'hear', 'heart', 'hell', 'help', 'hero', 'hide', 'high', 'hilari', 'histor', 'histori', 'hit', 'hold', 'hole', 'hollywood', 'home', 'honest', 'hop', 'hope', 'horribl', 'horror', 'hot', 'hour', 'hous', 'howev', 'huge', 'human', 'humor', 'hurt', 'husband', 'idea', 'ignor', 'imag', 'imagin', 'imdb', 'immedi', 'import', 'imposs', 'impress', 'includ', 'incred', 'inde', 'indian', 'inform', 'innoc', 'insid', 'inspir', 'instead', 'intellig', 'intens', 'intent', 'interest', 'intrigu', 'introduc', 'involv', 'island', 'issu', 'italian', 'jack', 'jam', 'jane', 'japanes', 'job', 'joe', 'john', 'joke', 'jump', 'keep', 'kick', 'kid', 'kill', 'killer', 'kind', 'king', 'know', 'la', 'lack', 'ladi', 'lame', 'land', 'languag', 'larg', 'last', 'late', 'later', 'laugh', 'law', 'lead', 'learn', 'least', 'leav', 'lee', 'less', 'let', 'level', 'lie', 'life', 'light', 'like', 'limit', 'line', 'list', 'listen', 'liter', 'littl', 'live', 'local', 'locat', 'long', 'look', 'lose', 'lot', 'love', 'lover', 'low', 'mad', 'magic', 'main', 'major', 'make', 'maker', 'male', 'man', 'manag', 'mani', 'manner', 'mari', 'mark', 'marri', 'master', 'masterpiec', 'match', 'materi', 'matter', 'may', 'mayb', 'mean', 'meet', 'member', 'memor', 'memori', 'men', 'mental', 'mention', 'mere', 'mess', 'messag', 'michael', 'middl', 'might', 'million', 'mind', 'minut', 'miss', 'mistak', 'mix', 'modern', 'moment', 'money', 'monster', 'moral', 'most', 'mother', 'move', 'movi', 'mr', 'much', 'murder', 'music', 'must', 'mysteri', 'name', 'narrat', 'nation', 'natur', 'near', 'need', 'neither', 'never', 'new', 'next', 'nice', 'night', 'non', 'none', 'normal', 'note', 'noth', 'notic', 'novel', 'nuditi', 'number', 'obvious', 'odd', 'offer', 'offic', 'often', 'oh', 'ok', 'okay', 'old', 'older', 'one', 'open', 'opinion', 'order', 'origin', 'oscar', 'other', 'otherwis', 'outsid', 'overal', 'pace', 'pain', 'paint', 'parent', 'part', 'parti', 'particular', 'pass', 'past', 'paul', 'pay', 'peopl', 'perfect', 'perform', 'perhap', 'period', 'person', 'peter', 'physic', 'pick', 'pictur', 'piec', 'place', 'plain', 'plan', 'planet', 'play', 'player', 'pleas', 'plenti', 'plot', 'plus', 'point', 'pointless', 'polic', 'polit', 'poor', 'pop', 'popular', 'portray', 'posit', 'possibl', 'post', 'potenti', 'power', 'predict', 'premis', 'present', 'pretti', 'previous', 'prison', 'probabl', 'problem', 'produc', 'product', 'project', 'promis', 'prove', 'provid', 'public', 'pull', 'pure', 'purpos', 'put', 'qualiti', 'question', 'quick', 'quit', 'rare', 'rat', 'rate', 'rather', 'reach', 'read', 'real', 'realist', 'realiti', 'realiz', 'realli', 'reason', 'receiv', 'recent', 'recommend', 'record', 'red', 'refer', 'relat', 'relationship', 'releas', 'remain', 'remak', 'remark', 'rememb', 'remind', 'rent', 'repeat', 'respect', 'respons', 'rest', 'result', 'return', 'reveal', 'reveng', 'review', 'rich', 'richard', 'ride', 'ridicul', 'right', 'ring', 'rip', 'rise', 'robert', 'rock', 'role', 'roll', 'romanc', 'romant', 'room', 'ruin', 'run', 'sad', 'save', 'saw', 'say', 'scar', 'scari', 'scene', 'school', 'sci', 'scienc', 'score', 'scott', 'scream', 'screen', 'screenplay', 'script', 'search', 'season', 'second', 'secret', 'see', 'seem', 'self', 'sell', 'send', 'sens', 'sequel', 'sequenc', 'seri', 'serious', 'serv', 'set', 'sever', 'sex', 'sexual', 'shame', 'share', 'shock', 'shoot', 'short', 'shot', 'show', 'sick', 'side', 'silli', 'similar', 'simpl', 'simpli', 'sinc', 'sing', 'singl', 'sister', 'sit', 'situat', 'skill', 'slasher', 'sleep', 'slight', 'slow', 'small', 'social', 'societi', 'soldier', 'solid', 'somehow', 'someon', 'someth', 'sometim', 'somewhat', 'son', 'song', 'soon', 'sorri', 'sort', 'soul', 'sound', 'soundtrack', 'space', 'speak', 'special', 'spend', 'spirit', 'spoiler', 'spot', 'stage', 'stand', 'standard', 'star', 'start', 'state', 'stay', 'steal', 'step', 'stereotyp', 'stick', 'still', 'stop', 'store', 'stori', 'storylin', 'straight', 'strang', 'street', 'strike', 'strong', 'struggl', 'student', 'studio', 'stuff', 'stun', 'stupid', 'style', 'subject', 'success', 'suck', 'sudden', 'suffer', 'suggest', 'suit', 'superb', 'support', 'suppos', 'sure', 'surpris', 'surviv', 'suspect', 'suspens', 'sweet', 'take', 'tale', 'talent', 'talk', 'tast', 'team', 'tear', 'teen', 'teenag', 'televis', 'tell', 'ten', 'tension', 'term', 'terribl', 'thank', 'theater', 'theme', 'thing', 'think', 'third', 'though', 'three', 'thriller', 'throughout', 'throw', 'time', 'titl', 'today', 'togeth', 'tom', 'tone', 'toni', 'top', 'total', 'touch', 'toward', 'town', 'track', 'train', 'trash', 'travel', 'treat', 'tri', 'trip', 'troubl', 'true', 'truli', 'truth', 'turn', 'tv', 'twist', 'two', 'type', 'typic', 'ultim', 'unbeliev', 'understand', 'unfortun', 'uniqu', 'univers', 'unless', 'unlik', 'upon', 'us', 'use', 'usual', 'utter', 'valu', 'vampir', 'various', 'version', 'victim', 'video', 'view', 'viewer', 'villain', 'violenc', 'violent', 'visual', 'voic', 'wait', 'walk', 'want', 'war', 'warn', 'wast', 'watch', 'water', 'way', 'weak', 'wear', 'week', 'weird', 'well', 'western', 'whatev', 'whether', 'white', 'whole', 'whose', 'wife', 'wild', 'william', 'win', 'wind', 'wish', 'wit', 'within', 'without', 'woman', 'women', 'wonder', 'wood', 'word', 'work', 'world', 'wors', 'worst', 'worth', 'would', 'write', 'writer', 'wrong', 'year', 'yes', 'yet', 'york', 'young', 'zombi']"
     ]
    },
    {
     "name": "stdout",
     "output_type": "stream",
     "text": [
      "\n"
     ]
    }
   ],
   "source": [
    "# The list of the vocabulary created with the count vectorizer.\n",
    "vectorizer.vocabulary_\n",
    "print(vectorizer.get_feature_names())"
   ]
  },
  {
   "cell_type": "code",
   "execution_count": 16,
   "metadata": {},
   "outputs": [],
   "source": [
    "# We transform our data to the recently created count vectorizer vector format.\n",
    "X = vectorizer.transform(data_clean.reviews)"
   ]
  },
  {
   "cell_type": "markdown",
   "metadata": {},
   "source": [
    "This is how a text is represented as a vector."
   ]
  },
  {
   "cell_type": "code",
   "execution_count": 17,
   "metadata": {},
   "outputs": [
    {
     "name": "stdout",
     "output_type": "stream",
     "text": [
      "[0 0 0 0 0 0 0 0 0 0 0 0 0 0 0 1 0 1 0 0 0 0 0 0 0 0 0 0 0 0 0 0 0 0 0 0 0\n",
      " 0 0 0 0 0 0 0 0 0 0 0 0 0 0 0 0 0 0 0 0 0 0 0 0 0 0 0 0 0 0 0 0 0 0 0 0 0\n",
      " 0 0 0 0 0 0 0 1 0 0 0 0 0 0 0 0 0 0 0 0 0 0 0 0 0 0 0 0 0 0 0 0 0 0 0 0 1\n",
      " 0 0 0 0 0 0 0 0 0 0 1 0 0 0 0 0 0 0 0 0 0 0 0 0 0 0 0 0 0 0 0 0 0 0 0 0 0\n",
      " 0 1 0 0 0 0 0 0 0 0 0 0 0 1 0 0 0 0 0 0 0 0 0 0 0 0 0 0 0 0 0 0 0 0 0 0 0\n",
      " 0 0 0 0 0 0 0 0 0 0 0 0 0 0 0 0 0 0 0 0 0 0 0 0 0 0 0 0 0 0 0 0 0 0 0 0 0\n",
      " 0 0 0 0 0 0 0 0 0 0 0 0 0 0 0 0 0 0 0 0 0 0 0 0 0 0 0 0 0 0 0 0 0 0 0 0 0\n",
      " 0 0 0 0 0 0 0 0 0 0 0 0 0 0 0 0 0 0 0 0 0 0 0 0 0 0 0 0 1 0 0 0 0 0 0 0 0\n",
      " 0 0 0 0 0 0 0 0 0 0 0 0 1 0 0 0 0 0 0 0 0 0 0 0 0 0 0 0 0 0 0 1 0 0 0 0 0\n",
      " 0 0 0 0 0 0 0 0 0 0 0 0 0 0 0 0 0 0 0 0 0 0 0 0 0 0 0 0 0 0 0 0 0 0 0 0 0\n",
      " 0 0 0 0 0 0 0 0 0 0 0 0 0 0 0 0 0 0 0 0 0 0 0 0 0 0 0 0 0 0 0 0 0 0 0 0 0\n",
      " 0 0 0 0 0 0 0 0 0 5 0 0 0 0 0 0 0 0 0 0 0 0 0 0 0 0 0 0 0 0 0 0 0 0 0 0 0\n",
      " 1 0 0 0 0 0 0 0 0 0 0 0 0 0 0 0 0 0 0 0 0 0 0 0 0 0 0 0 0 0 0 0 0 0 0 0 0\n",
      " 0 0 1 0 0 0 0 0 0 0 0 0 0 0 0 1 0 0 0 0 0 0 0 0 1 0 0 0 1 0 0 0 0 0 0 0 0\n",
      " 0 0 0 0 0 0 0 0 0 0 0 0 0 0 0 1 0 0 0 0 0 0 0 0 0 0 0 0 0 0 0 0 0 0 0 0 0\n",
      " 0 0 0 0 0 0 0 0 0 0 0 0 0 0 0 0 0 0 0 0 1 0 0 0 0 0 0 0 0 0 0 0 0 0 0 0 0\n",
      " 0 0 0 0 0 0 0 0 0 0 0 0 0 0 0 0 0 0 0 1 0 0 0 0 0 0 0 0 0 0 0 0 0 0 0 0 0\n",
      " 0 0 0 0 0 0 0 0 0 0 0 0 0 0 0 0 0 0 0 0 0 0 0 0 0 0 0 0 0 0 0 0 0 0 0 0 0\n",
      " 0 0 0 0 0 0 0 0 0 0 0 0 0 0 0 0 0 0 0 0 0 0 0 0 0 0 0 0 0 0 0 1 0 0 0 0 0\n",
      " 0 0 0 0 0 0 0 0 0 0 0 1 0 1 0 0 0 0 0 0 0 0 0 0 0 0 1 0 0 0 0 0 0 0 0 0 0\n",
      " 0 1 0 0 1 0 0 0 0 3 0 0 0 0 0 0 0 0 0 0 0 0 1 0 0 0 0 0 0 0 0 0 0 0 0 0 0\n",
      " 0 0 0 0 0 0 0 0 0 0 0 0 0 0 0 0 0 0 1 0 0 0 0 0 0 0 0 0 0 0 0 0 0 0 0 0 0\n",
      " 0 0 0 0 0 0 0 0 0 0 0 0 0 0 0 0 0 0 0 0 0 0 0 0 0 0 0 0 0 0 0 0 0 0 4 0 0\n",
      " 0 0 0 0 0 0 0 0 0 0 0 0 0 0 0 1 0 0 0 0 0 0 0 0 0 0 0 0 0 0 0 0 0 0 0 0 0\n",
      " 0 1 0 0 0 0 0 0 1 0 0 0 0 0 0 0 0 0 0 0 0 0 0 0 0 1 0 0 0 0 0 0 0 0 0 0 0\n",
      " 0 0 0 0 0 0 0 0 0 0 0 0 0 0 0 0 0 0 0 0 0 0 0 0 0 0 0 0 0 0 0 0 0 0 0 0 0\n",
      " 0 0 0 0 0 0 0 1 0 0 0 0 0 0 0 0 0 0 0 0 0 0 0 0 0 0 0 0 0 0 0 0 1 0 0 0 0\n",
      " 0]\n"
     ]
    }
   ],
   "source": [
    "print(X[0].toarray()[0])"
   ]
  },
  {
   "cell_type": "code",
   "execution_count": 18,
   "metadata": {
    "scrolled": true
   },
   "outputs": [
    {
     "data": {
      "text/plain": [
       "'bromwel high cartoon comedi run time program school life teacher year teach profess lead believ bromwel high satir much closer realiti teacher scrambl surviv financi insight student see right pathet teacher pomp petti whole situat remind school know student saw episod student repeat tri burn school immedi recal high classic line inspector sack one teacher student welcom bromwel high expect mani adult age think bromwel high far fetch piti'"
      ]
     },
     "execution_count": 18,
     "metadata": {},
     "output_type": "execute_result"
    }
   ],
   "source": [
    "# Example\n",
    "data_clean.reviews.loc[0]"
   ]
  },
  {
   "cell_type": "code",
   "execution_count": 19,
   "metadata": {},
   "outputs": [
    {
     "data": {
      "text/html": [
       "<div>\n",
       "<style scoped>\n",
       "    .dataframe tbody tr th:only-of-type {\n",
       "        vertical-align: middle;\n",
       "    }\n",
       "\n",
       "    .dataframe tbody tr th {\n",
       "        vertical-align: top;\n",
       "    }\n",
       "\n",
       "    .dataframe thead th {\n",
       "        text-align: right;\n",
       "    }\n",
       "</style>\n",
       "<table border=\"1\" class=\"dataframe\">\n",
       "  <thead>\n",
       "    <tr style=\"text-align: right;\">\n",
       "      <th></th>\n",
       "      <th>15</th>\n",
       "      <th>17</th>\n",
       "      <th>81</th>\n",
       "      <th>110</th>\n",
       "      <th>121</th>\n",
       "      <th>149</th>\n",
       "      <th>161</th>\n",
       "      <th>287</th>\n",
       "      <th>308</th>\n",
       "      <th>327</th>\n",
       "      <th>...</th>\n",
       "      <th>749</th>\n",
       "      <th>762</th>\n",
       "      <th>795</th>\n",
       "      <th>848</th>\n",
       "      <th>866</th>\n",
       "      <th>889</th>\n",
       "      <th>896</th>\n",
       "      <th>913</th>\n",
       "      <th>969</th>\n",
       "      <th>994</th>\n",
       "    </tr>\n",
       "  </thead>\n",
       "  <tbody>\n",
       "    <tr>\n",
       "      <td>Vocabulary</td>\n",
       "      <td>adult</td>\n",
       "      <td>age</td>\n",
       "      <td>believ</td>\n",
       "      <td>burn</td>\n",
       "      <td>cartoon</td>\n",
       "      <td>classic</td>\n",
       "      <td>comedi</td>\n",
       "      <td>episod</td>\n",
       "      <td>expect</td>\n",
       "      <td>far</td>\n",
       "      <td>...</td>\n",
       "      <td>school</td>\n",
       "      <td>see</td>\n",
       "      <td>situat</td>\n",
       "      <td>student</td>\n",
       "      <td>surviv</td>\n",
       "      <td>think</td>\n",
       "      <td>time</td>\n",
       "      <td>tri</td>\n",
       "      <td>whole</td>\n",
       "      <td>year</td>\n",
       "    </tr>\n",
       "    <tr>\n",
       "      <td>document</td>\n",
       "      <td>1</td>\n",
       "      <td>1</td>\n",
       "      <td>1</td>\n",
       "      <td>1</td>\n",
       "      <td>1</td>\n",
       "      <td>1</td>\n",
       "      <td>1</td>\n",
       "      <td>1</td>\n",
       "      <td>1</td>\n",
       "      <td>1</td>\n",
       "      <td>...</td>\n",
       "      <td>3</td>\n",
       "      <td>1</td>\n",
       "      <td>1</td>\n",
       "      <td>4</td>\n",
       "      <td>1</td>\n",
       "      <td>1</td>\n",
       "      <td>1</td>\n",
       "      <td>1</td>\n",
       "      <td>1</td>\n",
       "      <td>1</td>\n",
       "    </tr>\n",
       "  </tbody>\n",
       "</table>\n",
       "<p>2 rows × 35 columns</p>\n",
       "</div>"
      ],
      "text/plain": [
       "              15   17      81    110      121      149     161     287  \\\n",
       "Vocabulary  adult  age  believ  burn  cartoon  classic  comedi  episod   \n",
       "document        1    1       1     1        1        1       1       1   \n",
       "\n",
       "               308  327  ...     749  762     795      848     866    889  \\\n",
       "Vocabulary  expect  far  ...  school  see  situat  student  surviv  think   \n",
       "document         1    1  ...       3    1       1        4       1      1   \n",
       "\n",
       "             896  913    969   994  \n",
       "Vocabulary  time  tri  whole  year  \n",
       "document       1    1      1     1  \n",
       "\n",
       "[2 rows x 35 columns]"
      ]
     },
     "execution_count": 19,
     "metadata": {},
     "output_type": "execute_result"
    }
   ],
   "source": [
    "df = pd.DataFrame({'Vocabulary':vectorizer.get_feature_names(), 'document':X[0].toarray()[0]})\n",
    "df[df['document'] > 0].T"
   ]
  },
  {
   "cell_type": "markdown",
   "metadata": {},
   "source": [
    "## TF-IDF vectorizer\n",
    "It converts a collection of raw documents to a matrix of TF-IDF features."
   ]
  },
  {
   "cell_type": "code",
   "execution_count": 20,
   "metadata": {},
   "outputs": [],
   "source": [
    "tfidf_vectorizer = TfidfVectorizer(max_features=1000)\n",
    "X = tfidf_vectorizer.fit_transform(data_clean.reviews)"
   ]
  },
  {
   "cell_type": "code",
   "execution_count": 21,
   "metadata": {
    "scrolled": true
   },
   "outputs": [
    {
     "name": "stdout",
     "output_type": "stream",
     "text": [
      "[0.         0.         0.         0.         0.         0.\n",
      " 0.         0.         0.         0.         0.         0.\n",
      " 0.         0.         0.         0.13305182 0.         0.11270037\n",
      " 0.         0.         0.         0.         0.         0.\n",
      " 0.         0.         0.         0.         0.         0.\n",
      " 0.         0.         0.         0.         0.         0.\n",
      " 0.         0.         0.         0.         0.         0.\n",
      " 0.         0.         0.         0.         0.         0.\n",
      " 0.         0.         0.         0.         0.         0.\n",
      " 0.         0.         0.         0.         0.         0.\n",
      " 0.         0.         0.         0.         0.         0.\n",
      " 0.         0.         0.         0.         0.         0.\n",
      " 0.         0.         0.         0.         0.         0.\n",
      " 0.         0.         0.         0.08920548 0.         0.\n",
      " 0.         0.         0.         0.         0.         0.\n",
      " 0.         0.         0.         0.         0.         0.\n",
      " 0.         0.         0.         0.         0.         0.\n",
      " 0.         0.         0.         0.         0.         0.\n",
      " 0.         0.         0.14486065 0.         0.         0.\n",
      " 0.         0.         0.         0.         0.         0.\n",
      " 0.         0.14695845 0.         0.         0.         0.\n",
      " 0.         0.         0.         0.         0.         0.\n",
      " 0.         0.         0.         0.         0.         0.\n",
      " 0.         0.         0.         0.         0.         0.\n",
      " 0.         0.         0.         0.         0.         0.10664312\n",
      " 0.         0.         0.         0.         0.         0.\n",
      " 0.         0.         0.         0.         0.         0.09673765\n",
      " 0.         0.         0.         0.         0.         0.\n",
      " 0.         0.         0.         0.         0.         0.\n",
      " 0.         0.         0.         0.         0.         0.\n",
      " 0.         0.         0.         0.         0.         0.\n",
      " 0.         0.         0.         0.         0.         0.\n",
      " 0.         0.         0.         0.         0.         0.\n",
      " 0.         0.         0.         0.         0.         0.\n",
      " 0.         0.         0.         0.         0.         0.\n",
      " 0.         0.         0.         0.         0.         0.\n",
      " 0.         0.         0.         0.         0.         0.\n",
      " 0.         0.         0.         0.         0.         0.\n",
      " 0.         0.         0.         0.         0.         0.\n",
      " 0.         0.         0.         0.         0.         0.\n",
      " 0.         0.         0.         0.         0.         0.\n",
      " 0.         0.         0.         0.         0.         0.\n",
      " 0.         0.         0.         0.         0.         0.\n",
      " 0.         0.         0.         0.         0.         0.\n",
      " 0.         0.         0.         0.         0.         0.\n",
      " 0.         0.         0.         0.         0.         0.\n",
      " 0.         0.         0.         0.         0.         0.\n",
      " 0.         0.         0.         0.         0.         0.11472433\n",
      " 0.         0.         0.         0.         0.         0.\n",
      " 0.         0.         0.         0.         0.         0.\n",
      " 0.         0.         0.         0.         0.         0.\n",
      " 0.         0.         0.0973353  0.         0.         0.\n",
      " 0.         0.         0.         0.         0.         0.\n",
      " 0.         0.         0.         0.         0.         0.\n",
      " 0.         0.         0.         0.09651806 0.         0.\n",
      " 0.         0.         0.         0.         0.         0.\n",
      " 0.         0.         0.         0.         0.         0.\n",
      " 0.         0.         0.         0.         0.         0.\n",
      " 0.         0.         0.         0.         0.         0.\n",
      " 0.         0.         0.         0.         0.         0.\n",
      " 0.         0.         0.         0.         0.         0.\n",
      " 0.         0.         0.         0.         0.         0.\n",
      " 0.         0.         0.         0.         0.         0.\n",
      " 0.         0.         0.         0.         0.         0.\n",
      " 0.         0.         0.         0.         0.         0.\n",
      " 0.         0.         0.         0.         0.         0.\n",
      " 0.         0.         0.         0.         0.         0.\n",
      " 0.         0.         0.         0.         0.         0.\n",
      " 0.         0.         0.         0.         0.         0.\n",
      " 0.         0.         0.46912147 0.         0.         0.\n",
      " 0.         0.         0.         0.         0.         0.\n",
      " 0.         0.         0.         0.         0.         0.\n",
      " 0.         0.         0.         0.         0.         0.\n",
      " 0.         0.         0.         0.         0.         0.\n",
      " 0.14427108 0.         0.         0.         0.         0.\n",
      " 0.         0.         0.         0.         0.         0.\n",
      " 0.         0.         0.         0.         0.         0.\n",
      " 0.         0.         0.         0.         0.         0.\n",
      " 0.         0.         0.         0.         0.         0.\n",
      " 0.         0.         0.         0.         0.         0.\n",
      " 0.         0.         0.         0.06796881 0.         0.\n",
      " 0.         0.         0.         0.         0.         0.\n",
      " 0.         0.         0.         0.         0.09674925 0.\n",
      " 0.         0.         0.         0.         0.         0.\n",
      " 0.         0.07906678 0.         0.         0.         0.09360448\n",
      " 0.         0.         0.         0.         0.         0.\n",
      " 0.         0.         0.         0.         0.         0.\n",
      " 0.         0.         0.         0.         0.         0.\n",
      " 0.         0.         0.         0.         0.         0.0763521\n",
      " 0.         0.         0.         0.         0.         0.\n",
      " 0.         0.         0.         0.         0.         0.\n",
      " 0.         0.         0.         0.         0.         0.\n",
      " 0.         0.         0.         0.         0.         0.\n",
      " 0.         0.         0.         0.         0.         0.\n",
      " 0.         0.         0.         0.         0.         0.\n",
      " 0.         0.         0.         0.         0.         0.06649258\n",
      " 0.         0.         0.         0.         0.         0.\n",
      " 0.         0.         0.         0.         0.         0.\n",
      " 0.         0.         0.         0.         0.         0.\n",
      " 0.         0.         0.         0.         0.         0.\n",
      " 0.         0.         0.         0.         0.         0.\n",
      " 0.         0.         0.         0.         0.         0.04569124\n",
      " 0.         0.         0.         0.         0.         0.\n",
      " 0.         0.         0.         0.         0.         0.\n",
      " 0.         0.         0.         0.         0.         0.\n",
      " 0.         0.         0.         0.         0.         0.\n",
      " 0.         0.         0.         0.         0.         0.\n",
      " 0.         0.         0.         0.         0.         0.\n",
      " 0.         0.         0.         0.         0.         0.\n",
      " 0.         0.         0.         0.         0.         0.\n",
      " 0.         0.         0.         0.         0.         0.\n",
      " 0.         0.         0.         0.         0.         0.\n",
      " 0.         0.         0.         0.         0.         0.\n",
      " 0.         0.         0.         0.         0.         0.\n",
      " 0.         0.         0.         0.         0.         0.\n",
      " 0.         0.         0.         0.         0.         0.\n",
      " 0.         0.12886062 0.         0.         0.         0.\n",
      " 0.         0.         0.         0.         0.         0.\n",
      " 0.         0.         0.         0.         0.         0.\n",
      " 0.12896451 0.         0.14246014 0.         0.         0.\n",
      " 0.         0.         0.         0.         0.         0.\n",
      " 0.         0.         0.         0.09189285 0.         0.\n",
      " 0.         0.         0.         0.         0.         0.\n",
      " 0.         0.         0.         0.09782472 0.         0.\n",
      " 0.09418371 0.         0.         0.         0.         0.3500058\n",
      " 0.         0.         0.         0.         0.         0.\n",
      " 0.         0.         0.         0.         0.         0.\n",
      " 0.05033579 0.         0.         0.         0.         0.\n",
      " 0.         0.         0.         0.         0.         0.\n",
      " 0.         0.         0.         0.         0.         0.\n",
      " 0.         0.         0.         0.         0.         0.\n",
      " 0.         0.         0.         0.         0.         0.\n",
      " 0.         0.         0.         0.12310211 0.         0.\n",
      " 0.         0.         0.         0.         0.         0.\n",
      " 0.         0.         0.         0.         0.         0.\n",
      " 0.         0.         0.         0.         0.         0.\n",
      " 0.         0.         0.         0.         0.         0.\n",
      " 0.         0.         0.         0.         0.         0.\n",
      " 0.         0.         0.         0.         0.         0.\n",
      " 0.         0.         0.         0.         0.         0.\n",
      " 0.         0.         0.         0.         0.         0.\n",
      " 0.         0.         0.56157563 0.         0.         0.\n",
      " 0.         0.         0.         0.         0.         0.\n",
      " 0.         0.         0.         0.         0.         0.\n",
      " 0.         0.         0.14257012 0.         0.         0.\n",
      " 0.         0.         0.         0.         0.         0.\n",
      " 0.         0.         0.         0.         0.         0.\n",
      " 0.         0.         0.         0.         0.         0.\n",
      " 0.         0.06195295 0.         0.         0.         0.\n",
      " 0.         0.         0.05537205 0.         0.         0.\n",
      " 0.         0.         0.         0.         0.         0.\n",
      " 0.         0.         0.         0.         0.         0.\n",
      " 0.         0.07746348 0.         0.         0.         0.\n",
      " 0.         0.         0.         0.         0.         0.\n",
      " 0.         0.         0.         0.         0.         0.\n",
      " 0.         0.         0.         0.         0.         0.\n",
      " 0.         0.         0.         0.         0.         0.\n",
      " 0.         0.         0.         0.         0.         0.\n",
      " 0.         0.         0.         0.         0.         0.\n",
      " 0.         0.         0.         0.         0.         0.\n",
      " 0.         0.         0.         0.         0.         0.\n",
      " 0.         0.         0.         0.09551075 0.         0.\n",
      " 0.         0.         0.         0.         0.         0.\n",
      " 0.         0.         0.         0.         0.         0.\n",
      " 0.         0.         0.         0.         0.         0.\n",
      " 0.         0.         0.         0.         0.07631732 0.\n"
     ]
    },
    {
     "name": "stdout",
     "output_type": "stream",
     "text": [
      " 0.         0.         0.         0.        ]\n"
     ]
    }
   ],
   "source": [
    "print(X[0].toarray()[0])"
   ]
  },
  {
   "cell_type": "code",
   "execution_count": 22,
   "metadata": {
    "scrolled": true
   },
   "outputs": [
    {
     "data": {
      "text/plain": [
       "'bromwel high cartoon comedi run time program school life teacher year teach profess lead believ bromwel high satir much closer realiti teacher scrambl surviv financi insight student see right pathet teacher pomp petti whole situat remind school know student saw episod student repeat tri burn school immedi recal high classic line inspector sack one teacher student welcom bromwel high expect mani adult age think bromwel high far fetch piti'"
      ]
     },
     "execution_count": 22,
     "metadata": {},
     "output_type": "execute_result"
    }
   ],
   "source": [
    "# Example\n",
    "data_clean.reviews.loc[0]"
   ]
  },
  {
   "cell_type": "code",
   "execution_count": 23,
   "metadata": {},
   "outputs": [
    {
     "data": {
      "text/html": [
       "<div>\n",
       "<style scoped>\n",
       "    .dataframe tbody tr th:only-of-type {\n",
       "        vertical-align: middle;\n",
       "    }\n",
       "\n",
       "    .dataframe tbody tr th {\n",
       "        vertical-align: top;\n",
       "    }\n",
       "\n",
       "    .dataframe thead th {\n",
       "        text-align: right;\n",
       "    }\n",
       "</style>\n",
       "<table border=\"1\" class=\"dataframe\">\n",
       "  <thead>\n",
       "    <tr style=\"text-align: right;\">\n",
       "      <th></th>\n",
       "      <th>15</th>\n",
       "      <th>17</th>\n",
       "      <th>81</th>\n",
       "      <th>110</th>\n",
       "      <th>121</th>\n",
       "      <th>149</th>\n",
       "      <th>161</th>\n",
       "      <th>287</th>\n",
       "      <th>308</th>\n",
       "      <th>327</th>\n",
       "      <th>...</th>\n",
       "      <th>749</th>\n",
       "      <th>762</th>\n",
       "      <th>795</th>\n",
       "      <th>848</th>\n",
       "      <th>866</th>\n",
       "      <th>889</th>\n",
       "      <th>896</th>\n",
       "      <th>913</th>\n",
       "      <th>969</th>\n",
       "      <th>994</th>\n",
       "    </tr>\n",
       "  </thead>\n",
       "  <tbody>\n",
       "    <tr>\n",
       "      <td>Vocabulary</td>\n",
       "      <td>adult</td>\n",
       "      <td>age</td>\n",
       "      <td>believ</td>\n",
       "      <td>burn</td>\n",
       "      <td>cartoon</td>\n",
       "      <td>classic</td>\n",
       "      <td>comedi</td>\n",
       "      <td>episod</td>\n",
       "      <td>expect</td>\n",
       "      <td>far</td>\n",
       "      <td>...</td>\n",
       "      <td>school</td>\n",
       "      <td>see</td>\n",
       "      <td>situat</td>\n",
       "      <td>student</td>\n",
       "      <td>surviv</td>\n",
       "      <td>think</td>\n",
       "      <td>time</td>\n",
       "      <td>tri</td>\n",
       "      <td>whole</td>\n",
       "      <td>year</td>\n",
       "    </tr>\n",
       "    <tr>\n",
       "      <td>document</td>\n",
       "      <td>0.133052</td>\n",
       "      <td>0.1127</td>\n",
       "      <td>0.0892055</td>\n",
       "      <td>0.144861</td>\n",
       "      <td>0.146958</td>\n",
       "      <td>0.106643</td>\n",
       "      <td>0.0967376</td>\n",
       "      <td>0.114724</td>\n",
       "      <td>0.0973353</td>\n",
       "      <td>0.0965181</td>\n",
       "      <td>...</td>\n",
       "      <td>0.350006</td>\n",
       "      <td>0.0503358</td>\n",
       "      <td>0.123102</td>\n",
       "      <td>0.561576</td>\n",
       "      <td>0.14257</td>\n",
       "      <td>0.061953</td>\n",
       "      <td>0.0553721</td>\n",
       "      <td>0.0774635</td>\n",
       "      <td>0.0955108</td>\n",
       "      <td>0.0763173</td>\n",
       "    </tr>\n",
       "  </tbody>\n",
       "</table>\n",
       "<p>2 rows × 35 columns</p>\n",
       "</div>"
      ],
      "text/plain": [
       "                 15      17         81        110       121       149  \\\n",
       "Vocabulary     adult     age     believ      burn   cartoon   classic   \n",
       "document    0.133052  0.1127  0.0892055  0.144861  0.146958  0.106643   \n",
       "\n",
       "                  161       287        308        327  ...       749  \\\n",
       "Vocabulary     comedi    episod     expect        far  ...    school   \n",
       "document    0.0967376  0.114724  0.0973353  0.0965181  ...  0.350006   \n",
       "\n",
       "                  762       795       848      866       889        896  \\\n",
       "Vocabulary        see    situat   student   surviv     think       time   \n",
       "document    0.0503358  0.123102  0.561576  0.14257  0.061953  0.0553721   \n",
       "\n",
       "                  913        969        994  \n",
       "Vocabulary        tri      whole       year  \n",
       "document    0.0774635  0.0955108  0.0763173  \n",
       "\n",
       "[2 rows x 35 columns]"
      ]
     },
     "execution_count": 23,
     "metadata": {},
     "output_type": "execute_result"
    }
   ],
   "source": [
    "df = pd.DataFrame({'Vocabulary':vectorizer.get_feature_names(), 'document':X[0].toarray()[0]})\n",
    "df[df['document'] > 0].T"
   ]
  },
  {
   "cell_type": "markdown",
   "metadata": {},
   "source": [
    "# Classification model"
   ]
  },
  {
   "cell_type": "code",
   "execution_count": 24,
   "metadata": {},
   "outputs": [],
   "source": [
    "# Split the data\n",
    "from sklearn.model_selection import train_test_split\n",
    "\n",
    "X_train, X_test, y_train, y_test = train_test_split(data_clean.reviews, reviews_train.labels, test_size = 0.20)"
   ]
  },
  {
   "cell_type": "code",
   "execution_count": 25,
   "metadata": {},
   "outputs": [],
   "source": [
    "# Create count vectorizer and vectorize the input text\n",
    "#vectorizer = CountVectorizer(max_features=1000)\n",
    "#X_train_vec = vectorizer.fit_transform(X_train)\n",
    "#X_test_vec = vectorizer.transform(X_test)\n",
    "\n",
    "# Create tfIDF vectorizer and vectorize the input text\n",
    "vectorizer = TfidfVectorizer(max_features=1000)\n",
    "X_train_vec = vectorizer.fit_transform(X_train)\n",
    "X_test_vec = vectorizer.transform(X_test)"
   ]
  },
  {
   "cell_type": "code",
   "execution_count": 26,
   "metadata": {},
   "outputs": [
    {
     "name": "stdout",
     "output_type": "stream",
     "text": [
      "0.88015\n",
      "0.8612\n"
     ]
    }
   ],
   "source": [
    "# Train the model\n",
    "from sklearn.linear_model import LogisticRegression\n",
    "from sklearn.metrics import accuracy_score\n",
    "\n",
    "lr = LogisticRegression()\n",
    "lr.fit(X_train_vec, y_train)\n",
    "\n",
    "y_pred_lr = lr.predict(X_test_vec)\n",
    "y_pred_lr_roc = lr.predict_proba(X_test_vec)[:, 1]\n",
    "\n",
    "print(lr.score(X_train_vec, y_train))\n",
    "print(accuracy_score(y_test, y_pred_lr))"
   ]
  },
  {
   "cell_type": "code",
   "execution_count": 27,
   "metadata": {},
   "outputs": [
    {
     "data": {
      "text/plain": [
       "1000"
      ]
     },
     "execution_count": 27,
     "metadata": {},
     "output_type": "execute_result"
    }
   ],
   "source": [
    "len(lr.coef_[0])"
   ]
  },
  {
   "cell_type": "markdown",
   "metadata": {},
   "source": [
    "# Evaluate"
   ]
  },
  {
   "cell_type": "markdown",
   "metadata": {},
   "source": [
    "## The most important features: Positive and Negative"
   ]
  },
  {
   "cell_type": "code",
   "execution_count": 28,
   "metadata": {},
   "outputs": [],
   "source": [
    "feature_to_coef = {word: coef for word, coef in zip(vectorizer.get_feature_names(), lr.coef_[0])}"
   ]
  },
  {
   "cell_type": "code",
   "execution_count": 29,
   "metadata": {},
   "outputs": [
    {
     "name": "stdout",
     "output_type": "stream",
     "text": [
      "('excel', 5.757684512368131)\n",
      "('great', 5.582554114583104)\n",
      "('perfect', 5.1486108721556025)\n",
      "('favorit', 4.184809233046159)\n",
      "('best', 4.0981727383388895)\n",
      "('enjoy', 4.004746924707828)\n",
      "('love', 3.735917895357678)\n",
      "('beauti', 3.5598781073290233)\n",
      "('amaz', 3.463243088444537)\n",
      "('brilliant', 3.405580671812964)\n"
     ]
    }
   ],
   "source": [
    "for best_positive in sorted(feature_to_coef.items(),key=lambda x: x[1], reverse=True)[:10]:\n",
    "    print(best_positive)"
   ]
  },
  {
   "cell_type": "code",
   "execution_count": 30,
   "metadata": {},
   "outputs": [
    {
     "name": "stdout",
     "output_type": "stream",
     "text": [
      "('worst', -8.321662730923927)\n",
      "('wast', -7.185760880663031)\n",
      "('aw', -6.511829143468453)\n",
      "('poor', -5.770610859990874)\n",
      "('bad', -5.759698076816511)\n",
      "('bore', -5.209809810494893)\n",
      "('dull', -4.554712252985147)\n",
      "('wors', -4.544189213827537)\n",
      "('disappoint', -4.450667381699738)\n",
      "('fail', -4.178400993295008)\n"
     ]
    }
   ],
   "source": [
    "for best_negative in sorted(feature_to_coef.items(), key=lambda x: x[1])[:10]:\n",
    "    print (best_negative)"
   ]
  },
  {
   "cell_type": "code",
   "execution_count": 31,
   "metadata": {},
   "outputs": [],
   "source": [
    "y_pred = lr.predict(X_test_vec)"
   ]
  },
  {
   "cell_type": "markdown",
   "metadata": {},
   "source": [
    "## Confusion Matrix"
   ]
  },
  {
   "cell_type": "code",
   "execution_count": 32,
   "metadata": {},
   "outputs": [
    {
     "name": "stdout",
     "output_type": "stream",
     "text": [
      "              precision    recall  f1-score   support\n",
      "\n",
      "           0       0.87      0.85      0.86      2476\n",
      "           1       0.85      0.88      0.86      2524\n",
      "\n",
      "    accuracy                           0.86      5000\n",
      "   macro avg       0.86      0.86      0.86      5000\n",
      "weighted avg       0.86      0.86      0.86      5000\n",
      "\n"
     ]
    }
   ],
   "source": [
    "from sklearn.metrics import confusion_matrix, roc_auc_score, f1_score, confusion_matrix, roc_curve, auc, classification_report\n",
    "import seaborn as sns\n",
    "import matplotlib.pyplot as plt\n",
    "\n",
    "\n",
    "data_cm = confusionMatrix(y_test, y_pred)\n",
    "print(classification_report(y_test, y_pred))"
   ]
  },
  {
   "cell_type": "markdown",
   "metadata": {},
   "source": [
    "## ROC Curve"
   ]
  },
  {
   "cell_type": "code",
   "execution_count": 33,
   "metadata": {},
   "outputs": [
    {
     "data": {
      "image/png": "[encoded data removed]",
      "text/plain": [
       "<Figure size 864x360 with 1 Axes>"
      ]
     },
     "metadata": {
      "needs_background": "light"
     },
     "output_type": "display_data"
    },
    {
     "name": "stdout",
     "output_type": "stream",
     "text": [
      "0.9380408498447217\n"
     ]
    }
   ],
   "source": [
    "AUC_score = roc_curve_plot(y_test, y_pred_lr_roc, legend = 'LR')\n",
    "print(AUC_score)"
   ]
  },
  {
   "cell_type": "markdown",
   "metadata": {},
   "source": [
    "## Predict"
   ]
  },
  {
   "cell_type": "code",
   "execution_count": 34,
   "metadata": {},
   "outputs": [
    {
     "name": "stdout",
     "output_type": "stream",
     "text": [
      "I like the film almost till the end, but it was not as good as the first one.\n",
      "\n",
      "Positive review\n"
     ]
    }
   ],
   "source": [
    "# Negative critic\n",
    "critic = 'This film has been a waste of time, its the worst film Ive ever seen.\\n'\n",
    "\n",
    "# Positive critic\n",
    "critic = 'This film has been the best film Ive ever seen. I will watch it unitl my eyes start bleeding.\\n'\n",
    "\n",
    "# Ambiguous critic\n",
    "critic = 'I like the film almost till the end, but it was not as good as the first one.\\n'\n",
    "\n",
    "print(critic)\n",
    "\n",
    "# Preprocess\n",
    "critic = clean_text(critic)\n",
    "\n",
    "# Transform the text to vectors\n",
    "vec = vectorizer.transform([critic])\n",
    "\n",
    "# Predict the sentiment\n",
    "if lr.predict(vec) == 0:\n",
    "    print('Negative review')\n",
    "else:\n",
    "    print('Positive review')"
   ]
  },
  {
   "cell_type": "markdown",
   "metadata": {},
   "source": [
    "<img src=\"images/amazon.jpg\" width=\"800\">"
   ]
  },
  {
   "cell_type": "markdown",
   "metadata": {},
   "source": [
    "# Exercise: Amazon reviews"
   ]
  },
  {
   "cell_type": "code",
   "execution_count": 35,
   "metadata": {},
   "outputs": [
    {
     "name": "stdout",
     "output_type": "stream",
     "text": [
      "<class 'pandas.core.frame.DataFrame'>\n",
      "RangeIndex: 8718 entries, 0 to 8717\n",
      "Data columns (total 2 columns):\n",
      "Text     8718 non-null object\n",
      "Score    8718 non-null object\n",
      "dtypes: object(2)\n",
      "memory usage: 136.3+ KB\n"
     ]
    }
   ],
   "source": [
    "data = pd.read_csv('data/amazon_reviews_course.csv')\n",
    "data.info()"
   ]
  },
  {
   "cell_type": "code",
   "execution_count": 36,
   "metadata": {},
   "outputs": [],
   "source": [
    "data_X = data.Text\n",
    "data_y = data.Score"
   ]
  },
  {
   "cell_type": "code",
   "execution_count": 37,
   "metadata": {},
   "outputs": [
    {
     "data": {
      "text/plain": [
       "positive    7285\n",
       "negative    1433\n",
       "Name: Score, dtype: int64"
      ]
     },
     "execution_count": 37,
     "metadata": {},
     "output_type": "execute_result"
    }
   ],
   "source": [
    "data.Score.value_counts()"
   ]
  },
  {
   "cell_type": "markdown",
   "metadata": {},
   "source": [
    "## Data Cleaning"
   ]
  },
  {
   "cell_type": "code",
   "execution_count": 38,
   "metadata": {},
   "outputs": [],
   "source": [
    "amazon_clean = pd.DataFrame(data.Text.apply(clean_text))"
   ]
  },
  {
   "cell_type": "code",
   "execution_count": 39,
   "metadata": {},
   "outputs": [
    {
     "data": {
      "text/plain": [
       "'product arriv label jumbo salt peanut peanut actual small size unsalt sure error vendor intend repres product jumbo'"
      ]
     },
     "execution_count": 39,
     "metadata": {},
     "output_type": "execute_result"
    }
   ],
   "source": [
    "# Cleaned text\n",
    "amazon_clean.loc[1].Text"
   ]
  },
  {
   "cell_type": "code",
   "execution_count": 40,
   "metadata": {},
   "outputs": [
    {
     "name": "stdout",
     "output_type": "stream",
     "text": [
      "Product arrived labeled as Jumbo Salted Peanuts...the peanuts were actually small sized unsalted. Not sure if this was an error or if the vendor intended to represent the product as \"Jumbo\".\n"
     ]
    },
    {
     "data": {
      "text/plain": [
       "'negative'"
      ]
     },
     "execution_count": 40,
     "metadata": {},
     "output_type": "execute_result"
    }
   ],
   "source": [
    "# Raw text\n",
    "print(data.loc[1].Text)\n",
    "data.loc[1].Score"
   ]
  },
  {
   "cell_type": "markdown",
   "metadata": {},
   "source": [
    "##  Data transformation\n",
    "### Count Vectorizer"
   ]
  },
  {
   "cell_type": "code",
   "execution_count": 41,
   "metadata": {},
   "outputs": [],
   "source": [
    "from sklearn.feature_extraction.text import CountVectorizer\n",
    "\n",
    "vectorizer = CountVectorizer(max_features=1000)\n",
    "vectorizer.fit(amazon_clean.Text)\n",
    "X_count_vec = vectorizer.transform(amazon_clean.Text)"
   ]
  },
  {
   "cell_type": "markdown",
   "metadata": {},
   "source": [
    "#### Classification model"
   ]
  },
  {
   "cell_type": "code",
   "execution_count": 42,
   "metadata": {},
   "outputs": [],
   "source": [
    "from sklearn.model_selection import train_test_split\n",
    "X_train, X_test, y_train, y_test = train_test_split(X_count_vec, data_y, test_size=0.2, random_state=42)"
   ]
  },
  {
   "cell_type": "code",
   "execution_count": 43,
   "metadata": {},
   "outputs": [
    {
     "name": "stdout",
     "output_type": "stream",
     "text": [
      "Accuracy train 0.9479495268138801\n",
      "Accuracy test 0.8853211009174312\n"
     ]
    }
   ],
   "source": [
    "from sklearn.linear_model import LogisticRegression\n",
    "from sklearn.metrics import accuracy_score\n",
    "\n",
    "lr = LogisticRegression()\n",
    "lr.fit(X_train, y_train)\n",
    "\n",
    "y_pred_lr = lr.predict(X_test)\n",
    "y_pred_lr_roc = lr.predict_proba(X_test)[:, 1]\n",
    "\n",
    "print('Accuracy train',lr.score(X_train, y_train))\n",
    "print('Accuracy test',accuracy_score(y_test, y_pred_lr))"
   ]
  },
  {
   "cell_type": "code",
   "execution_count": 44,
   "metadata": {},
   "outputs": [],
   "source": [
    "from sklearn import preprocessing\n",
    "le = preprocessing.LabelEncoder()\n",
    "le.fit(y_test)\n",
    "y_test_numerical = le.transform(y_test)"
   ]
  },
  {
   "cell_type": "code",
   "execution_count": 45,
   "metadata": {},
   "outputs": [],
   "source": [
    "y_test_maped = y_test.map({'positive':1, 'negative':0})"
   ]
  },
  {
   "cell_type": "code",
   "execution_count": 46,
   "metadata": {},
   "outputs": [],
   "source": [
    "#y_test_maped"
   ]
  },
  {
   "cell_type": "markdown",
   "metadata": {},
   "source": [
    "#### Evaluate"
   ]
  },
  {
   "cell_type": "markdown",
   "metadata": {},
   "source": [
    "##### The most important features: Positive and Negative"
   ]
  },
  {
   "cell_type": "code",
   "execution_count": 47,
   "metadata": {},
   "outputs": [],
   "source": [
    "feature_to_coef = {word: coef for word, coef in zip(vectorizer.get_feature_names(), lr.coef_[0])}"
   ]
  },
  {
   "cell_type": "code",
   "execution_count": 48,
   "metadata": {},
   "outputs": [
    {
     "name": "stdout",
     "output_type": "stream",
     "text": [
      "('worri', 1.9811832934947426)\n",
      "('perfect', 1.823145988927912)\n",
      "('amaz', 1.7453364788588812)\n",
      "('delici', 1.7244832414561928)\n",
      "('refresh', 1.5944519143351061)\n",
      "('hook', 1.5806576985357133)\n",
      "('bulk', 1.542943980952437)\n",
      "('excel', 1.5116762310273064)\n",
      "('thank', 1.482143329600112)\n",
      "('best', 1.4780542220692847)\n"
     ]
    }
   ],
   "source": [
    "for best_positive in sorted(feature_to_coef.items(),key=lambda x: x[1], reverse=True)[:10]:\n",
    "    print(best_positive)"
   ]
  },
  {
   "cell_type": "code",
   "execution_count": 49,
   "metadata": {},
   "outputs": [
    {
     "name": "stdout",
     "output_type": "stream",
     "text": [
      "('disappoint', -2.258845958738157)\n",
      "('worst', -2.105143601856137)\n",
      "('terribl', -2.0698740347513622)\n",
      "('return', -1.8710868564539016)\n",
      "('weak', -1.850817173745215)\n",
      "('horribl', -1.8405862184085164)\n",
      "('idea', -1.8229288418306249)\n",
      "('wors', -1.7148440523137691)\n",
      "('throw', -1.6526433571570245)\n",
      "('aw', -1.6124819981684844)\n"
     ]
    }
   ],
   "source": [
    "for best_negative in sorted(feature_to_coef.items(), key=lambda x: x[1])[:10]:\n",
    "    print (best_negative)"
   ]
  },
  {
   "cell_type": "code",
   "execution_count": 50,
   "metadata": {},
   "outputs": [],
   "source": [
    "y_pred = lr.predict(X_test)"
   ]
  },
  {
   "cell_type": "markdown",
   "metadata": {},
   "source": [
    "##### Confusion Matrix"
   ]
  },
  {
   "cell_type": "code",
   "execution_count": 51,
   "metadata": {},
   "outputs": [
    {
     "name": "stdout",
     "output_type": "stream",
     "text": [
      "              precision    recall  f1-score   support\n",
      "\n",
      "    negative       0.69      0.55      0.61       288\n",
      "    positive       0.91      0.95      0.93      1456\n",
      "\n",
      "    accuracy                           0.89      1744\n",
      "   macro avg       0.80      0.75      0.77      1744\n",
      "weighted avg       0.88      0.89      0.88      1744\n",
      "\n"
     ]
    },
    {
     "data": {
      "image/png": "[encoded data removed]",
      "text/plain": [
       "<Figure size 864x432 with 2 Axes>"
      ]
     },
     "metadata": {},
     "output_type": "display_data"
    }
   ],
   "source": [
    "from sklearn.metrics import confusion_matrix, roc_auc_score, f1_score, confusion_matrix, roc_curve, auc, classification_report\n",
    "import seaborn as sns\n",
    "import matplotlib.pyplot as plt\n",
    "\n",
    "\n",
    "data_cm = confusionMatrix(y_test, y_pred)\n",
    "print(classification_report(y_test, y_pred))"
   ]
  },
  {
   "cell_type": "markdown",
   "metadata": {},
   "source": [
    "##### ROC curve"
   ]
  },
  {
   "cell_type": "code",
   "execution_count": 52,
   "metadata": {},
   "outputs": [
    {
     "data": {
      "image/png": "[encoded data removed]",
      "text/plain": [
       "<Figure size 864x360 with 1 Axes>"
      ]
     },
     "metadata": {},
     "output_type": "display_data"
    },
    {
     "name": "stdout",
     "output_type": "stream",
     "text": [
      "0.8917839972527473\n"
     ]
    }
   ],
   "source": [
    "AUC_score = roc_curve_plot(y_test_maped, y_pred_lr_roc, legend = 'CountVectorizer + LR')\n",
    "print(AUC_score)"
   ]
  },
  {
   "cell_type": "markdown",
   "metadata": {},
   "source": [
    "### TF-IDF Vectorizer"
   ]
  },
  {
   "cell_type": "code",
   "execution_count": 53,
   "metadata": {},
   "outputs": [],
   "source": [
    "tfidf_vectorizer = TfidfVectorizer(max_features=1000)\n",
    "X_tfidf_vec = tfidf_vectorizer.fit_transform(amazon_clean.Text)"
   ]
  },
  {
   "cell_type": "markdown",
   "metadata": {},
   "source": [
    "#### Classification model"
   ]
  },
  {
   "cell_type": "code",
   "execution_count": 54,
   "metadata": {},
   "outputs": [],
   "source": [
    "from sklearn.model_selection import train_test_split\n",
    "X_train, X_test, y_train, y_test = train_test_split(X_tfidf_vec, data_y, test_size=0.2, random_state=42)"
   ]
  },
  {
   "cell_type": "code",
   "execution_count": 55,
   "metadata": {},
   "outputs": [
    {
     "name": "stdout",
     "output_type": "stream",
     "text": [
      "Accuracy train 0.9036420992256955\n",
      "Accuracy test 0.8904816513761468\n"
     ]
    }
   ],
   "source": [
    "from sklearn.linear_model import LogisticRegression\n",
    "from sklearn.metrics import accuracy_score\n",
    "\n",
    "lr = LogisticRegression()\n",
    "lr.fit(X_train, y_train)\n",
    "\n",
    "y_pred_lr = lr.predict(X_test)\n",
    "y_pred_lr_roc = lr.predict_proba(X_test)[:, 1]\n",
    "\n",
    "print('Accuracy train', lr.score(X_train, y_train))\n",
    "print('Accuracy test', accuracy_score(y_test, y_pred_lr))"
   ]
  },
  {
   "cell_type": "code",
   "execution_count": 56,
   "metadata": {},
   "outputs": [],
   "source": [
    "from sklearn import preprocessing\n",
    "le = preprocessing.LabelEncoder()\n",
    "le.fit(y_test)\n",
    "y_test_numerical = le.transform(y_test)"
   ]
  },
  {
   "cell_type": "code",
   "execution_count": 57,
   "metadata": {},
   "outputs": [],
   "source": [
    "y_test_maped = y_test.map({'positive':1, 'negative':0})"
   ]
  },
  {
   "cell_type": "code",
   "execution_count": 58,
   "metadata": {},
   "outputs": [],
   "source": [
    "#y_test_maped"
   ]
  },
  {
   "cell_type": "markdown",
   "metadata": {},
   "source": [
    "#### Evaluate"
   ]
  },
  {
   "cell_type": "markdown",
   "metadata": {},
   "source": [
    "##### The most important features: Positive and Negative"
   ]
  },
  {
   "cell_type": "code",
   "execution_count": 59,
   "metadata": {},
   "outputs": [],
   "source": [
    "feature_to_coef = {word: coef for word, coef in zip(tfidf_vectorizer.get_feature_names(), lr.coef_[0])}"
   ]
  },
  {
   "cell_type": "code",
   "execution_count": 60,
   "metadata": {},
   "outputs": [
    {
     "name": "stdout",
     "output_type": "stream",
     "text": [
      "('great', 5.343907728434251)\n",
      "('love', 4.234514503602817)\n",
      "('best', 3.7363946534827086)\n",
      "('delici', 3.3281873090907896)\n",
      "('good', 3.1284747551692287)\n",
      "('perfect', 2.9913194772156664)\n",
      "('excel', 2.64237238612436)\n",
      "('favorit', 2.5634174120540036)\n",
      "('nice', 2.533477539627875)\n",
      "('snack', 2.4349253518252683)\n"
     ]
    }
   ],
   "source": [
    "for best_positive in sorted(feature_to_coef.items(),key=lambda x: x[1], reverse=True)[:10]:\n",
    "    print(best_positive)"
   ]
  },
  {
   "cell_type": "code",
   "execution_count": 61,
   "metadata": {},
   "outputs": [
    {
     "name": "stdout",
     "output_type": "stream",
     "text": [
      "('disappoint', -5.323700947788548)\n",
      "('return', -3.5992441085369244)\n",
      "('wast', -3.187802364490541)\n",
      "('weak', -3.089214433755223)\n",
      "('throw', -2.9514323557023627)\n",
      "('terribl', -2.9417887173336164)\n",
      "('bad', -2.8982496486981453)\n",
      "('horribl', -2.8710825287827886)\n",
      "('worst', -2.6850358069623876)\n",
      "('think', -2.6395038603112293)\n"
     ]
    }
   ],
   "source": [
    "for best_negative in sorted(feature_to_coef.items(), key=lambda x: x[1])[:10]:\n",
    "    print (best_negative)"
   ]
  },
  {
   "cell_type": "code",
   "execution_count": 62,
   "metadata": {},
   "outputs": [],
   "source": [
    "y_pred = lr.predict(X_test)"
   ]
  },
  {
   "cell_type": "markdown",
   "metadata": {},
   "source": [
    "##### Confusion Matrix"
   ]
  },
  {
   "cell_type": "code",
   "execution_count": 63,
   "metadata": {},
   "outputs": [
    {
     "name": "stdout",
     "output_type": "stream",
     "text": [
      "              precision    recall  f1-score   support\n",
      "\n",
      "    negative       0.88      0.39      0.54       288\n",
      "    positive       0.89      0.99      0.94      1456\n",
      "\n",
      "    accuracy                           0.89      1744\n",
      "   macro avg       0.88      0.69      0.74      1744\n",
      "weighted avg       0.89      0.89      0.87      1744\n",
      "\n"
     ]
    },
    {
     "data": {
      "image/png": "[encoded data removed]",
      "text/plain": [
       "<Figure size 864x432 with 2 Axes>"
      ]
     },
     "metadata": {},
     "output_type": "display_data"
    }
   ],
   "source": [
    "from sklearn.metrics import confusion_matrix, roc_auc_score, f1_score, confusion_matrix, roc_curve, auc, classification_report\n",
    "import seaborn as sns\n",
    "import matplotlib.pyplot as plt\n",
    "\n",
    "\n",
    "data_cm = confusionMatrix(y_test, y_pred)\n",
    "print(classification_report(y_test, y_pred))"
   ]
  },
  {
   "cell_type": "markdown",
   "metadata": {},
   "source": [
    "##### ROC Curve"
   ]
  },
  {
   "cell_type": "code",
   "execution_count": 64,
   "metadata": {},
   "outputs": [
    {
     "data": {
      "image/png": "[encoded data removed]",
      "text/plain": [
       "<Figure size 864x360 with 1 Axes>"
      ]
     },
     "metadata": {},
     "output_type": "display_data"
    },
    {
     "name": "stdout",
     "output_type": "stream",
     "text": [
      "0.9232295482295482\n"
     ]
    }
   ],
   "source": [
    "AUC_score = roc_curve_plot(y_test_maped, y_pred_lr_roc, legend = 'TF-IDF + LR')\n",
    "print(AUC_score)"
   ]
  }
 ],
 "metadata": {
  "kernelspec": {
   "display_name": "Python 3",
   "language": "python",
   "name": "python3"
  },
  "language_info": {
   "codemirror_mode": {
    "name": "ipython",
    "version": 3
   },
   "file_extension": ".py",
   "mimetype": "text/x-python",
   "name": "python",
   "nbconvert_exporter": "python",
   "pygments_lexer": "ipython3",
   "version": "3.7.4"
  },
  "toc": {
   "base_numbering": 1,
   "nav_menu": {},
   "number_sections": true,
   "sideBar": true,
   "skip_h1_title": false,
   "title_cell": "Table of Contents",
   "title_sidebar": "Contents",
   "toc_cell": true,
   "toc_position": {
    "height": "calc(100% - 180px)",
    "left": "10px",
    "top": "150px",
    "width": "336px"
   },
   "toc_section_display": true,
   "toc_window_display": true
  }
 },
 "nbformat": 4,
 "nbformat_minor": 4
}
